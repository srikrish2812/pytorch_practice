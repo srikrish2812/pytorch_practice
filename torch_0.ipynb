{
  "cells": [
    {
      "cell_type": "markdown",
      "metadata": {
        "id": "view-in-github",
        "colab_type": "text"
      },
      "source": [
        "<a href=\"https://colab.research.google.com/github/srikrish2812/pytorch_practice/blob/main/torch_0.ipynb\" target=\"_parent\"><img src=\"https://colab.research.google.com/assets/colab-badge.svg\" alt=\"Open In Colab\"/></a>"
      ]
    },
    {
      "cell_type": "markdown",
      "source": [
        "## PyTorch Fundamentals\n",
        "\n",
        "Source: https://www.learnpytorch.io/00_pytorch_fundamentals/\n",
        "\n",
        "## PyTorch Workflow\n",
        "\n",
        "1. Get the data ready. Convert them to tensors\n",
        "2. Build or pick a model including loss function, optimizer and build a training loop\n",
        "3. Fit the model to the data and make a prediction\n",
        "4. Evaluate the model/Hyperparameter tuning\n",
        "5. Improve the model through experimentation"
      ],
      "metadata": {
        "id": "_0-Vcny38Up0"
      }
    },
    {
      "cell_type": "markdown",
      "source": [],
      "metadata": {
        "id": "N2T_T-r483px"
      }
    },
    {
      "cell_type": "code",
      "execution_count": 4,
      "metadata": {
        "colab": {
          "base_uri": "https://localhost:8080/"
        },
        "id": "2ke7X_k-Ibv6",
        "outputId": "d62b0053-f24b-4be4-c5ba-ecab14906d43"
      },
      "outputs": [
        {
          "output_type": "stream",
          "name": "stdout",
          "text": [
            "2.5.1+cu121\n",
            "nvcc: NVIDIA (R) Cuda compiler driver\n",
            "Copyright (c) 2005-2023 NVIDIA Corporation\n",
            "Built on Tue_Aug_15_22:02:13_PDT_2023\n",
            "Cuda compilation tools, release 12.2, V12.2.140\n",
            "Build cuda_12.2.r12.2/compiler.33191640_0\n"
          ]
        }
      ],
      "source": [
        "import torch\n",
        "import pandas as pd\n",
        "import numpy as np\n",
        "print(torch.__version__)\n",
        "!nvcc --version"
      ]
    },
    {
      "cell_type": "markdown",
      "source": [
        "## What is a Tensor?\n",
        "1. It is a fundamental data structure in PyTorch used for storing and manipulating data.\n",
        "2. Tensor computations can be parallelized on GPUs to improve the speed.\n",
        "3. Tensors can be scalars, vectors or multi-dimensional arrays."
      ],
      "metadata": {
        "id": "jyNA4zUs3-zv"
      }
    },
    {
      "cell_type": "code",
      "execution_count": 5,
      "metadata": {
        "id": "4Kf2eLsMJvnY",
        "colab": {
          "base_uri": "https://localhost:8080/"
        },
        "outputId": "32d53330-35e9-48d6-daf1-7da9a171ede5"
      },
      "outputs": [
        {
          "output_type": "stream",
          "name": "stdout",
          "text": [
            "<class 'torch.Tensor'>\n",
            "Num of dimensions = 0, since it is a scalar\n",
            "7\n",
            "Shape of scalar = torch.Size([])\n"
          ]
        }
      ],
      "source": [
        "scalar = torch.tensor(7)\n",
        "print(type(scalar))\n",
        "print(f\"Num of dimensions = {scalar.ndim}, since it is a scalar\")\n",
        "print(scalar.item())\n",
        "print(f\"Shape of scalar = {scalar.shape}\")"
      ]
    },
    {
      "cell_type": "code",
      "source": [
        "vector = torch.tensor([7,7])\n",
        "print(f\"Num of dimensions = {vector.ndim}\")\n",
        "print(f\"Shape = {vector.shape}\")"
      ],
      "metadata": {
        "id": "p98Hj5P49x3d",
        "colab": {
          "base_uri": "https://localhost:8080/"
        },
        "outputId": "66ee92ad-9013-4f3f-d6a5-3040abda24c9"
      },
      "execution_count": 6,
      "outputs": [
        {
          "output_type": "stream",
          "name": "stdout",
          "text": [
            "Num of dimensions = 1\n",
            "Shape = torch.Size([2])\n"
          ]
        }
      ]
    },
    {
      "cell_type": "code",
      "source": [
        "matrix = torch.tensor([[7,8],\n",
        "                       [9,10]])\n",
        "print(\"No of dimensions\", matrix.ndim)\n",
        "print(\"Shape of matrix\",matrix.shape)"
      ],
      "metadata": {
        "colab": {
          "base_uri": "https://localhost:8080/"
        },
        "id": "ViNz036upiRH",
        "outputId": "65a4eef9-dc5d-497f-b899-b4e8ef75bfca"
      },
      "execution_count": 8,
      "outputs": [
        {
          "output_type": "stream",
          "name": "stdout",
          "text": [
            "No of dimensions 2\n",
            "Shape of matrix torch.Size([2, 2])\n"
          ]
        }
      ]
    },
    {
      "cell_type": "code",
      "source": [
        "tensor = torch.tensor([[[1,2,],\n",
        "                        [3,4],\n",
        "                        [5,6]]])\n",
        "print(\"No of dimensions\",tensor.ndim)\n",
        "print(\"SHape of tensor\", tensor.shape)"
      ],
      "metadata": {
        "colab": {
          "base_uri": "https://localhost:8080/"
        },
        "id": "i_ChKIUfTaa9",
        "outputId": "dfc3310d-04aa-4fe1-ac4e-fc2d83570927"
      },
      "execution_count": 10,
      "outputs": [
        {
          "output_type": "stream",
          "name": "stdout",
          "text": [
            "No of dimensions 3\n",
            "SHape of tensor torch.Size([1, 3, 2])\n"
          ]
        }
      ]
    },
    {
      "cell_type": "markdown",
      "source": [
        "## Random tensor initialization\n",
        "Used to create tensors randomly without explicitly specifying the input data"
      ],
      "metadata": {
        "id": "H2dQSQc2Uzb7"
      }
    },
    {
      "cell_type": "code",
      "source": [
        "random_tensor = torch.rand(2,3)\n",
        "random_tensor"
      ],
      "metadata": {
        "colab": {
          "base_uri": "https://localhost:8080/"
        },
        "id": "xh4siK5aUkba",
        "outputId": "669e8b20-ccd2-47de-eef3-0682dc171776"
      },
      "execution_count": 13,
      "outputs": [
        {
          "output_type": "execute_result",
          "data": {
            "text/plain": [
              "tensor([[0.5442, 0.3386, 0.5666],\n",
              "        [0.9440, 0.3334, 0.6510]])"
            ]
          },
          "metadata": {},
          "execution_count": 13
        }
      ]
    },
    {
      "cell_type": "code",
      "source": [
        "random_img_tensor = torch.rand(3,224,224)\n",
        "random_img_tensor"
      ],
      "metadata": {
        "colab": {
          "base_uri": "https://localhost:8080/"
        },
        "id": "klzU26esVT3C",
        "outputId": "0a361091-ab50-44e8-d682-d26ee8972f19"
      },
      "execution_count": 14,
      "outputs": [
        {
          "output_type": "execute_result",
          "data": {
            "text/plain": [
              "tensor([[[0.9116, 0.9311, 0.6780,  ..., 0.2108, 0.4682, 0.4381],\n",
              "         [0.1325, 0.1041, 0.0508,  ..., 0.9565, 0.0051, 0.4739],\n",
              "         [0.1446, 0.5680, 0.7796,  ..., 0.8148, 0.1995, 0.6087],\n",
              "         ...,\n",
              "         [0.2123, 0.4830, 0.6824,  ..., 0.1589, 0.1718, 0.4475],\n",
              "         [0.3706, 0.7181, 0.0532,  ..., 0.7170, 0.8758, 0.6660],\n",
              "         [0.8445, 0.1760, 0.0087,  ..., 0.4828, 0.3063, 0.4417]],\n",
              "\n",
              "        [[0.8247, 0.8575, 0.4630,  ..., 0.5864, 0.0571, 0.9386],\n",
              "         [0.8715, 0.2772, 0.5247,  ..., 0.2877, 0.3511, 0.3439],\n",
              "         [0.4192, 0.6333, 0.9942,  ..., 0.1788, 0.5327, 0.2338],\n",
              "         ...,\n",
              "         [0.1196, 0.3184, 0.6681,  ..., 0.8558, 0.3546, 0.5602],\n",
              "         [0.0946, 0.3309, 0.6268,  ..., 0.9448, 0.2091, 0.4375],\n",
              "         [0.8803, 0.2980, 0.1495,  ..., 0.8923, 0.3230, 0.2338]],\n",
              "\n",
              "        [[0.0590, 0.4793, 0.3400,  ..., 0.2085, 0.0737, 0.5063],\n",
              "         [0.2985, 0.1488, 0.8173,  ..., 0.6254, 0.7404, 0.1008],\n",
              "         [0.9752, 0.5323, 0.9308,  ..., 0.6298, 0.6881, 0.9304],\n",
              "         ...,\n",
              "         [0.8997, 0.6798, 0.2935,  ..., 0.1023, 0.2229, 0.0322],\n",
              "         [0.4760, 0.7025, 0.6824,  ..., 0.8439, 0.1931, 0.9490],\n",
              "         [0.8950, 0.6508, 0.4255,  ..., 0.5641, 0.0996, 0.6779]]])"
            ]
          },
          "metadata": {},
          "execution_count": 14
        }
      ]
    },
    {
      "cell_type": "code",
      "source": [],
      "metadata": {
        "id": "vbb-Phwoc2eU"
      },
      "execution_count": null,
      "outputs": []
    }
  ],
  "metadata": {
    "colab": {
      "provenance": [],
      "gpuType": "T4",
      "mount_file_id": "1GRnuGLGdynWRsKAqdk6suofbV7CXwiI_",
      "authorship_tag": "ABX9TyOJogIXCSUjDNh14pFXRUsN",
      "include_colab_link": true
    },
    "kernelspec": {
      "display_name": "Python 3",
      "name": "python3"
    },
    "language_info": {
      "name": "python"
    },
    "accelerator": "GPU"
  },
  "nbformat": 4,
  "nbformat_minor": 0
}