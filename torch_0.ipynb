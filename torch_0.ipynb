{
  "cells": [
    {
      "cell_type": "markdown",
      "metadata": {
        "id": "view-in-github",
        "colab_type": "text"
      },
      "source": [
        "<a href=\"https://colab.research.google.com/github/srikrish2812/pytorch_practice/blob/main/torch_0.ipynb\" target=\"_parent\"><img src=\"https://colab.research.google.com/assets/colab-badge.svg\" alt=\"Open In Colab\"/></a>"
      ]
    },
    {
      "cell_type": "markdown",
      "source": [
        "## PyTorch Fundamentals\n",
        "\n",
        "Source: https://www.learnpytorch.io/00_pytorch_fundamentals/\n",
        "\n",
        "## PyTorch Workflow\n",
        "\n",
        "1. Get the data ready. Convert them to tensors\n",
        "2. Build or pick a model including loss function, optimizer and build a training loop\n",
        "3. Fit the model to the data and make a prediction\n",
        "4. Evaluate the model/Hyperparameter tuning\n",
        "5. Improve the model through experimentation"
      ],
      "metadata": {
        "id": "_0-Vcny38Up0"
      }
    },
    {
      "cell_type": "code",
      "execution_count": 1,
      "metadata": {
        "colab": {
          "base_uri": "https://localhost:8080/"
        },
        "id": "2ke7X_k-Ibv6",
        "outputId": "972c9f79-a510-4b2b-fc52-f36e6f300fc4"
      },
      "outputs": [
        {
          "output_type": "stream",
          "name": "stdout",
          "text": [
            "2.5.1+cu121\n",
            "nvcc: NVIDIA (R) Cuda compiler driver\n",
            "Copyright (c) 2005-2023 NVIDIA Corporation\n",
            "Built on Tue_Aug_15_22:02:13_PDT_2023\n",
            "Cuda compilation tools, release 12.2, V12.2.140\n",
            "Build cuda_12.2.r12.2/compiler.33191640_0\n"
          ]
        }
      ],
      "source": [
        "import torch\n",
        "import pandas as pd\n",
        "import numpy as np\n",
        "print(torch.__version__)\n",
        "!nvcc --version"
      ]
    },
    {
      "cell_type": "markdown",
      "source": [
        "## What is a Tensor?\n",
        "1. It is a fundamental data structure in PyTorch used for storing and manipulating data.\n",
        "2. Tensor computations can be parallelized on GPUs to improve the speed.\n",
        "3. Tensors can be scalars, vectors or multi-dimensional arrays."
      ],
      "metadata": {
        "id": "jyNA4zUs3-zv"
      }
    },
    {
      "cell_type": "code",
      "execution_count": 2,
      "metadata": {
        "id": "4Kf2eLsMJvnY",
        "colab": {
          "base_uri": "https://localhost:8080/"
        },
        "outputId": "672a2473-27de-4dd3-d8d4-7384af7d12d6"
      },
      "outputs": [
        {
          "output_type": "stream",
          "name": "stdout",
          "text": [
            "<class 'torch.Tensor'>\n",
            "Num of dimensions = 0, since it is a scalar\n",
            "7\n",
            "Shape of scalar = torch.Size([])\n"
          ]
        }
      ],
      "source": [
        "scalar = torch.tensor(7)\n",
        "print(type(scalar))\n",
        "print(f\"Num of dimensions = {scalar.ndim}, since it is a scalar\")\n",
        "print(scalar.item())\n",
        "print(f\"Shape of scalar = {scalar.shape}\")"
      ]
    },
    {
      "cell_type": "code",
      "source": [
        "vector = torch.tensor([7,7])\n",
        "print(f\"Num of dimensions = {vector.ndim}\")\n",
        "print(f\"Shape = {vector.shape}\")"
      ],
      "metadata": {
        "id": "p98Hj5P49x3d",
        "colab": {
          "base_uri": "https://localhost:8080/"
        },
        "outputId": "01dd248c-0ede-4e56-a8f5-50ca8f033ce3"
      },
      "execution_count": 3,
      "outputs": [
        {
          "output_type": "stream",
          "name": "stdout",
          "text": [
            "Num of dimensions = 1\n",
            "Shape = torch.Size([2])\n"
          ]
        }
      ]
    },
    {
      "cell_type": "code",
      "source": [
        "matrix = torch.tensor([[7,8],\n",
        "                       [9,10]])\n",
        "print(\"No of dimensions\", matrix.ndim)\n",
        "print(\"Shape of matrix\",matrix.shape)"
      ],
      "metadata": {
        "colab": {
          "base_uri": "https://localhost:8080/"
        },
        "id": "ViNz036upiRH",
        "outputId": "4ab9f959-f760-42bc-c813-e03e186cd4d9"
      },
      "execution_count": 4,
      "outputs": [
        {
          "output_type": "stream",
          "name": "stdout",
          "text": [
            "No of dimensions 2\n",
            "Shape of matrix torch.Size([2, 2])\n"
          ]
        }
      ]
    },
    {
      "cell_type": "code",
      "source": [
        "tensor = torch.tensor([[[1,2,],\n",
        "                        [3,4],\n",
        "                        [5,6]]])\n",
        "print(\"No of dimensions\",tensor.ndim)\n",
        "print(\"SHape of tensor\", tensor.shape)"
      ],
      "metadata": {
        "colab": {
          "base_uri": "https://localhost:8080/"
        },
        "id": "i_ChKIUfTaa9",
        "outputId": "7137a2f4-811e-47f7-b24e-0cbc2af4ed52"
      },
      "execution_count": 5,
      "outputs": [
        {
          "output_type": "stream",
          "name": "stdout",
          "text": [
            "No of dimensions 3\n",
            "SHape of tensor torch.Size([1, 3, 2])\n"
          ]
        }
      ]
    },
    {
      "cell_type": "markdown",
      "source": [
        "## Random tensor initialization\n",
        "Used to create tensors randomly without explicitly specifying the input data"
      ],
      "metadata": {
        "id": "H2dQSQc2Uzb7"
      }
    },
    {
      "cell_type": "code",
      "source": [
        "random_tensor = torch.rand(2,3)\n",
        "random_tensor"
      ],
      "metadata": {
        "colab": {
          "base_uri": "https://localhost:8080/"
        },
        "id": "xh4siK5aUkba",
        "outputId": "c33d4a47-ad54-44e4-9d1c-03c2051b486f"
      },
      "execution_count": 6,
      "outputs": [
        {
          "output_type": "execute_result",
          "data": {
            "text/plain": [
              "tensor([[0.3741, 0.5772, 0.6829],\n",
              "        [0.1043, 0.1262, 0.7440]])"
            ]
          },
          "metadata": {},
          "execution_count": 6
        }
      ]
    },
    {
      "cell_type": "code",
      "source": [
        "random_img_tensor = torch.rand(size=(3,224,224))\n",
        "random_img_tensor.shape, random_img_tensor.ndim"
      ],
      "metadata": {
        "colab": {
          "base_uri": "https://localhost:8080/"
        },
        "id": "klzU26esVT3C",
        "outputId": "aa890d9e-050c-443d-ff20-0f9a241a5b22"
      },
      "execution_count": 7,
      "outputs": [
        {
          "output_type": "execute_result",
          "data": {
            "text/plain": [
              "(torch.Size([3, 224, 224]), 3)"
            ]
          },
          "metadata": {},
          "execution_count": 7
        }
      ]
    },
    {
      "cell_type": "markdown",
      "source": [
        "## Zeros and Ones"
      ],
      "metadata": {
        "id": "F1-io37welqN"
      }
    },
    {
      "cell_type": "code",
      "source": [
        "# create a tensor of all zeros\n",
        "zeros = torch.zeros(2,3)\n",
        "print(zeros)\n",
        "print(zeros*random_tensor)\n",
        "zeros.dtype"
      ],
      "metadata": {
        "colab": {
          "base_uri": "https://localhost:8080/"
        },
        "id": "vbb-Phwoc2eU",
        "outputId": "e9ff825c-2ac8-4d96-d5e2-b0136a83b92e"
      },
      "execution_count": 8,
      "outputs": [
        {
          "output_type": "stream",
          "name": "stdout",
          "text": [
            "tensor([[0., 0., 0.],\n",
            "        [0., 0., 0.]])\n",
            "tensor([[0., 0., 0.],\n",
            "        [0., 0., 0.]])\n"
          ]
        },
        {
          "output_type": "execute_result",
          "data": {
            "text/plain": [
              "torch.float32"
            ]
          },
          "metadata": {},
          "execution_count": 8
        }
      ]
    },
    {
      "cell_type": "code",
      "source": [
        "# create a tensor of all ones\n",
        "ones = torch.ones(2,3)\n",
        "print(ones)\n",
        "print(ones*random_tensor)\n",
        "ones.dtype"
      ],
      "metadata": {
        "colab": {
          "base_uri": "https://localhost:8080/"
        },
        "id": "r_X6Pdu-eyX8",
        "outputId": "3dd0e786-84a9-4420-81c6-13d8a26bb8d1"
      },
      "execution_count": 9,
      "outputs": [
        {
          "output_type": "stream",
          "name": "stdout",
          "text": [
            "tensor([[1., 1., 1.],\n",
            "        [1., 1., 1.]])\n",
            "tensor([[0.3741, 0.5772, 0.6829],\n",
            "        [0.1043, 0.1262, 0.7440]])\n"
          ]
        },
        {
          "output_type": "execute_result",
          "data": {
            "text/plain": [
              "torch.float32"
            ]
          },
          "metadata": {},
          "execution_count": 9
        }
      ]
    },
    {
      "cell_type": "markdown",
      "source": [
        "## Range and tensor-like array creation\n",
        "\n",
        "1. The end is not included. [start,end)\n",
        "2. torch.*_like(source_tensor) retains the properties such as shape and ndim of the source_tensor."
      ],
      "metadata": {
        "id": "rY39ohQsgaRI"
      }
    },
    {
      "cell_type": "code",
      "source": [
        "one_ten = torch.arange(start=1, end=11, step=1)\n",
        "one_ten"
      ],
      "metadata": {
        "colab": {
          "base_uri": "https://localhost:8080/"
        },
        "id": "zsfZ-fymfRvX",
        "outputId": "9a439d90-ec17-4c0d-a11b-2cc71ae3c77d"
      },
      "execution_count": 10,
      "outputs": [
        {
          "output_type": "execute_result",
          "data": {
            "text/plain": [
              "tensor([ 1,  2,  3,  4,  5,  6,  7,  8,  9, 10])"
            ]
          },
          "metadata": {},
          "execution_count": 10
        }
      ]
    },
    {
      "cell_type": "code",
      "source": [
        "ten_zeros = torch.zeros_like(one_ten)\n",
        "print(ten_zeros)\n",
        "ten_ones = torch.ones_like(one_ten)\n",
        "print(ten_ones)"
      ],
      "metadata": {
        "colab": {
          "base_uri": "https://localhost:8080/"
        },
        "id": "cCJYZH6kgkUU",
        "outputId": "ddd22743-8d1c-4895-eda7-28a66d0910b4"
      },
      "execution_count": 11,
      "outputs": [
        {
          "output_type": "stream",
          "name": "stdout",
          "text": [
            "tensor([0, 0, 0, 0, 0, 0, 0, 0, 0, 0])\n",
            "tensor([1, 1, 1, 1, 1, 1, 1, 1, 1, 1])\n"
          ]
        }
      ]
    },
    {
      "cell_type": "markdown",
      "source": [
        "## Tensor Datatypes\n",
        "\n",
        "1. The default datatype for floating point numbers is float32\n",
        "2. The default datatype for whole numbers is int64\n",
        "3. float32 is single-precision floating point where as float64 is called double precision floating point\n",
        "4. Important params of tensor()\n",
        "- dtype: datatype(float32, float64, int64, etc.,)\n",
        "- device: type of device on which the tensor is loaded(cpu or gpu)\n",
        "- requires_grad: tells whether gradients need to be computed or not"
      ],
      "metadata": {
        "id": "oWdVGHqAmVMq"
      }
    },
    {
      "cell_type": "code",
      "source": [
        "tensor_int64 = torch.tensor([1,2,3], dtype=None)\n",
        "print(tensor_int64.dtype)\n",
        "tensor_float32 = torch.tensor([1.0,2.0,3.0],\n",
        "                              dtype=None,\n",
        "                              device=None,\n",
        "                              requires_grad=False)\n",
        "print(tensor_float32.dtype)"
      ],
      "metadata": {
        "colab": {
          "base_uri": "https://localhost:8080/"
        },
        "id": "3xY58WnZhJfr",
        "outputId": "77fafd88-3486-42b7-c015-4dadeafb541f"
      },
      "execution_count": 12,
      "outputs": [
        {
          "output_type": "stream",
          "name": "stdout",
          "text": [
            "torch.int64\n",
            "torch.float32\n"
          ]
        }
      ]
    },
    {
      "cell_type": "code",
      "source": [
        "tensor_float16_1 = torch.tensor([1.0,2.0,3.0],\n",
        "                              dtype=torch.float16,\n",
        "                              device=None)\n",
        "tensor_float16_2 = tensor_float32.type(torch.float16)\n",
        "tensor_float16_2"
      ],
      "metadata": {
        "colab": {
          "base_uri": "https://localhost:8080/"
        },
        "id": "0bsRhAjjmiIv",
        "outputId": "7b61ba3d-f305-4685-b298-57329433d8f6"
      },
      "execution_count": 13,
      "outputs": [
        {
          "output_type": "execute_result",
          "data": {
            "text/plain": [
              "tensor([1., 2., 3.], dtype=torch.float16)"
            ]
          },
          "metadata": {},
          "execution_count": 13
        }
      ]
    },
    {
      "cell_type": "code",
      "source": [
        "x = tensor_float32 * tensor_float16_1 # results in float32\n",
        "x, x.dtype"
      ],
      "metadata": {
        "colab": {
          "base_uri": "https://localhost:8080/"
        },
        "id": "mHOAv-kXtqbJ",
        "outputId": "444af44c-8cf7-48b0-af4a-47be232c3e04"
      },
      "execution_count": 14,
      "outputs": [
        {
          "output_type": "execute_result",
          "data": {
            "text/plain": [
              "(tensor([1., 4., 9.]), torch.float32)"
            ]
          },
          "metadata": {},
          "execution_count": 14
        }
      ]
    },
    {
      "cell_type": "markdown",
      "source": [
        "- float64 : torch.float64/ torch.double\n",
        "- int64 : torch.int64/ torch.long\n",
        "- float16 : torch.float16/ torch.half"
      ],
      "metadata": {
        "id": "pbCIMXfdvaeH"
      }
    },
    {
      "cell_type": "markdown",
      "source": [
        "Tensor Attributes\n",
        "1. tensor.shape\n",
        "2. tensor.device\n",
        "3. tensor.dtype\n",
        "\n",
        "Tensor methods\n",
        "- tensor.size()"
      ],
      "metadata": {
        "id": "_VrcIpkXworb"
      }
    },
    {
      "cell_type": "code",
      "source": [
        "tensor_eg = torch.tensor(\n",
        "    data = [1,2,3],\n",
        "    dtype=torch.half\n",
        ")\n",
        "print(tensor_eg.dtype, tensor_eg.device, tensor_eg.shape)\n",
        "print(tensor_eg.size())"
      ],
      "metadata": {
        "id": "9hxXmmryrHtG",
        "colab": {
          "base_uri": "https://localhost:8080/"
        },
        "outputId": "50cda0d8-a882-4d9e-b1ba-b94def4b9c40"
      },
      "execution_count": 15,
      "outputs": [
        {
          "output_type": "stream",
          "name": "stdout",
          "text": [
            "torch.float16 cpu torch.Size([3])\n",
            "torch.Size([3])\n"
          ]
        }
      ]
    },
    {
      "cell_type": "markdown",
      "source": [
        "## Tensor Operations\n"
      ],
      "metadata": {
        "id": "9eCe_tWbxMb_"
      }
    },
    {
      "cell_type": "code",
      "source": [
        "tensor = torch.tensor([1,2,3])\n",
        "print(\"Addition\",tensor+10)\n",
        "print(\"Multiplication\",tensor*10)\n",
        "print(\"Exponent\",tensor**3)"
      ],
      "metadata": {
        "colab": {
          "base_uri": "https://localhost:8080/"
        },
        "id": "oSboGztqw3HJ",
        "outputId": "2986d6ee-7b62-4f69-bfec-f380e828f07a"
      },
      "execution_count": 16,
      "outputs": [
        {
          "output_type": "stream",
          "name": "stdout",
          "text": [
            "Addition tensor([11, 12, 13])\n",
            "Multiplication tensor([10, 20, 30])\n",
            "Exponent tensor([ 1,  8, 27])\n"
          ]
        }
      ]
    },
    {
      "cell_type": "code",
      "source": [
        "# not inplace\n",
        "torch.add(tensor,10)\n",
        "torch.mul(tensor,0.1)"
      ],
      "metadata": {
        "colab": {
          "base_uri": "https://localhost:8080/"
        },
        "id": "UQeD3VZSyeWp",
        "outputId": "e7e6825d-b9ca-487a-b458-8bc7f586e347"
      },
      "execution_count": 17,
      "outputs": [
        {
          "output_type": "execute_result",
          "data": {
            "text/plain": [
              "tensor([0.1000, 0.2000, 0.3000])"
            ]
          },
          "metadata": {},
          "execution_count": 17
        }
      ]
    },
    {
      "cell_type": "code",
      "source": [
        "# in-place\n",
        "tensor.add_(10)\n",
        "tensor.mul_(2)"
      ],
      "metadata": {
        "colab": {
          "base_uri": "https://localhost:8080/"
        },
        "id": "as-WXH0IxbKj",
        "outputId": "f9262f53-1252-4077-ef48-dfac42ce2903"
      },
      "execution_count": 18,
      "outputs": [
        {
          "output_type": "execute_result",
          "data": {
            "text/plain": [
              "tensor([22, 24, 26])"
            ]
          },
          "metadata": {},
          "execution_count": 18
        }
      ]
    },
    {
      "cell_type": "markdown",
      "source": [
        "## Multiplication\n",
        "- Element-wise multiplication\n",
        "- Matrix Multiplication"
      ],
      "metadata": {
        "id": "LNpg6o1ieti3"
      }
    },
    {
      "cell_type": "code",
      "source": [
        "tensor = torch.tensor([1,2,3,])\n",
        "print('Element-wise multiplication tensor*tensor is')\n",
        "print(tensor*tensor)\n",
        "new_tensor = torch.tensor([4,5,6])\n",
        "print(\"new_tensor*tensor =\",tensor*new_tensor)"
      ],
      "metadata": {
        "colab": {
          "base_uri": "https://localhost:8080/"
        },
        "id": "e4zSJJT1xz_v",
        "outputId": "79cb464f-99b2-46c7-ef1d-5023a07dfc5e"
      },
      "execution_count": 19,
      "outputs": [
        {
          "output_type": "stream",
          "name": "stdout",
          "text": [
            "Element-wise multiplication tensor*tensor is\n",
            "tensor([1, 4, 9])\n",
            "new_tensor*tensor = tensor([ 4, 10, 18])\n"
          ]
        }
      ]
    },
    {
      "cell_type": "code",
      "source": [
        "# Matrix multiplication\n",
        "%%time\n",
        "torch.matmul(tensor,tensor)"
      ],
      "metadata": {
        "colab": {
          "base_uri": "https://localhost:8080/"
        },
        "id": "Gc9n9SidfDTd",
        "outputId": "dc908642-6879-403c-cb53-dc8ed3015647"
      },
      "execution_count": 20,
      "outputs": [
        {
          "output_type": "stream",
          "name": "stdout",
          "text": [
            "CPU times: user 1.29 ms, sys: 1.09 ms, total: 2.38 ms\n",
            "Wall time: 9.82 ms\n"
          ]
        },
        {
          "output_type": "execute_result",
          "data": {
            "text/plain": [
              "tensor(14)"
            ]
          },
          "metadata": {},
          "execution_count": 20
        }
      ]
    },
    {
      "cell_type": "code",
      "source": [
        "%%time\n",
        "value=0\n",
        "for el in tensor:\n",
        "    value+=el*el\n",
        "print(value)"
      ],
      "metadata": {
        "colab": {
          "base_uri": "https://localhost:8080/"
        },
        "id": "inXnxdnoff2x",
        "outputId": "a93be08a-f734-49e1-9974-d4816e858984"
      },
      "execution_count": 21,
      "outputs": [
        {
          "output_type": "stream",
          "name": "stdout",
          "text": [
            "tensor(14)\n",
            "CPU times: user 2.36 ms, sys: 45 µs, total: 2.4 ms\n",
            "Wall time: 2.63 ms\n"
          ]
        }
      ]
    },
    {
      "cell_type": "code",
      "source": [
        "mat_1 = torch.tensor([[1,2],\n",
        "                      [3,4]])\n",
        "mat_2 = torch.tensor([1,2])\n",
        "print(\"torch.matmul(mat_1,mat_2) =\",mat_1@mat_2)\n",
        "print(\"torch.matmul(mat_2,mat_1) =\",mat_2@mat_1)\n",
        "print(\"torch.matmul automatically arranges the vector shapes\")"
      ],
      "metadata": {
        "colab": {
          "base_uri": "https://localhost:8080/"
        },
        "id": "ZUOYYZq3hSnR",
        "outputId": "d0843185-8d0b-4497-b3d0-a2428e163354"
      },
      "execution_count": 22,
      "outputs": [
        {
          "output_type": "stream",
          "name": "stdout",
          "text": [
            "torch.matmul(mat_1,mat_2) = tensor([ 5, 11])\n",
            "torch.matmul(mat_2,mat_1) = tensor([ 7, 10])\n",
            "torch.matmul automatically arranges the vector shapes\n"
          ]
        }
      ]
    },
    {
      "cell_type": "code",
      "source": [
        "mat_1 = torch.tensor([\n",
        "    [1,2],\n",
        "    [3,4],\n",
        "    [5,6]\n",
        "])\n",
        "mat_2 = torch.tensor([\n",
        "    [7,8],\n",
        "    [9,10],\n",
        "    [11,12]\n",
        "])\n",
        "# torch.mm() is an alias to torch.mamtmul()/ @\n",
        "try:\n",
        "    print(torch.mm(mat_1,mat_2))\n",
        "    print(mat_1.shape, mat_2.shape)\n",
        "    print(\"Shape Error\")\n",
        "except:\n",
        "    print(mat_1.shape, mat_2.T.shape)\n",
        "    print(torch.mm(mat_1,mat_2.T))\n",
        "    print(\"Transpose the mat_2 to make matmul valid\")"
      ],
      "metadata": {
        "id": "rQWCrtMciG0P",
        "colab": {
          "base_uri": "https://localhost:8080/"
        },
        "outputId": "97c42873-4ddf-4b4e-f47a-9bf9280962e4"
      },
      "execution_count": 23,
      "outputs": [
        {
          "output_type": "stream",
          "name": "stdout",
          "text": [
            "torch.Size([3, 2]) torch.Size([2, 3])\n",
            "tensor([[ 23,  29,  35],\n",
            "        [ 53,  67,  81],\n",
            "        [ 83, 105, 127]])\n",
            "Transpose the mat_2 to make matmul valid\n"
          ]
        }
      ]
    },
    {
      "cell_type": "markdown",
      "source": [
        "## Tensor Aggregation\n",
        "min, max, mean and sum"
      ],
      "metadata": {
        "id": "jQsFYmHgsIbZ"
      }
    },
    {
      "cell_type": "code",
      "source": [
        "x = torch.arange(1,100,10)\n",
        "x, x.dtype"
      ],
      "metadata": {
        "colab": {
          "base_uri": "https://localhost:8080/"
        },
        "id": "nyBYe4u5rAPC",
        "outputId": "37761ca1-cd3f-40ca-c2cb-bcbe789166c9"
      },
      "execution_count": 24,
      "outputs": [
        {
          "output_type": "execute_result",
          "data": {
            "text/plain": [
              "(tensor([ 1, 11, 21, 31, 41, 51, 61, 71, 81, 91]), torch.int64)"
            ]
          },
          "metadata": {},
          "execution_count": 24
        }
      ]
    },
    {
      "cell_type": "code",
      "source": [
        "x.min(), x.max()\n",
        "# x.mean() -> fails because .mean() doesn't work on int64 dtype"
      ],
      "metadata": {
        "colab": {
          "base_uri": "https://localhost:8080/"
        },
        "id": "VbpcuH_IsSjE",
        "outputId": "aa5516b0-f7f7-4820-b7a4-c737e4c7fec1"
      },
      "execution_count": 25,
      "outputs": [
        {
          "output_type": "execute_result",
          "data": {
            "text/plain": [
              "(tensor(1), tensor(91))"
            ]
          },
          "metadata": {},
          "execution_count": 25
        }
      ]
    },
    {
      "cell_type": "code",
      "source": [
        "x.type(torch.float32).mean()"
      ],
      "metadata": {
        "colab": {
          "base_uri": "https://localhost:8080/"
        },
        "id": "Io8duAjXsjhr",
        "outputId": "0943f23d-53fa-4476-cda3-d260de581cbb"
      },
      "execution_count": 26,
      "outputs": [
        {
          "output_type": "execute_result",
          "data": {
            "text/plain": [
              "tensor(46.)"
            ]
          },
          "metadata": {},
          "execution_count": 26
        }
      ]
    },
    {
      "cell_type": "code",
      "source": [
        "x.argmin(), x.argmax()"
      ],
      "metadata": {
        "colab": {
          "base_uri": "https://localhost:8080/"
        },
        "id": "s4Mt6GZGspRY",
        "outputId": "ab19e460-63eb-421b-a024-42a0b9a7aebc"
      },
      "execution_count": 27,
      "outputs": [
        {
          "output_type": "execute_result",
          "data": {
            "text/plain": [
              "(tensor(0), tensor(9))"
            ]
          },
          "metadata": {},
          "execution_count": 27
        }
      ]
    },
    {
      "cell_type": "markdown",
      "source": [
        "## Reshaping, Viewing and Stacking Tensors\n",
        "\n",
        "- reshaping: reshapes into a defined shape\n",
        "- view: returns a view of the input tensor but doesn't change it in the memory\n",
        "- stacking: combine/concatenate multiple tensors\n",
        "- squeeze: removes all `1` dimensions from a tensor\n",
        "- unsqueeze: add a `1` dimension to a target tensor\n",
        "- permute: return a view of the inpupt with dimensions swapped"
      ],
      "metadata": {
        "id": "qN-DnEy31DVB"
      }
    },
    {
      "cell_type": "code",
      "source": [
        "x = torch.arange(1.,10.)\n",
        "x, x.shape"
      ],
      "metadata": {
        "colab": {
          "base_uri": "https://localhost:8080/"
        },
        "id": "mbtfPlAGw0Bp",
        "outputId": "0f39c145-4beb-4e49-bc86-f90759b80638"
      },
      "execution_count": 28,
      "outputs": [
        {
          "output_type": "execute_result",
          "data": {
            "text/plain": [
              "(tensor([1., 2., 3., 4., 5., 6., 7., 8., 9.]), torch.Size([9]))"
            ]
          },
          "metadata": {},
          "execution_count": 28
        }
      ]
    },
    {
      "cell_type": "code",
      "source": [
        "# reshapes the tensor\n",
        "x_reshaped = x.reshape(1,9)\n",
        "x_reshaped , x_reshaped.shape"
      ],
      "metadata": {
        "colab": {
          "base_uri": "https://localhost:8080/"
        },
        "id": "kIUEysR-2Hb6",
        "outputId": "934e6998-50d8-4b37-e461-1cdba998dc61"
      },
      "execution_count": 29,
      "outputs": [
        {
          "output_type": "execute_result",
          "data": {
            "text/plain": [
              "(tensor([[1., 2., 3., 4., 5., 6., 7., 8., 9.]]), torch.Size([1, 9]))"
            ]
          },
          "metadata": {},
          "execution_count": 29
        }
      ]
    },
    {
      "cell_type": "code",
      "source": [
        "# creates a view but does not modify the tensor in memory\n",
        "z = x.view(1,9)\n",
        "print(z,z.shape)\n",
        "z[:,0] = 5\n",
        "print(z,z.shape)\n",
        "x"
      ],
      "metadata": {
        "colab": {
          "base_uri": "https://localhost:8080/"
        },
        "id": "0OAfZ0TM2QDW",
        "outputId": "599e17c3-8d02-48d1-b8ec-c5e1719f4474"
      },
      "execution_count": 30,
      "outputs": [
        {
          "output_type": "stream",
          "name": "stdout",
          "text": [
            "tensor([[1., 2., 3., 4., 5., 6., 7., 8., 9.]]) torch.Size([1, 9])\n",
            "tensor([[5., 2., 3., 4., 5., 6., 7., 8., 9.]]) torch.Size([1, 9])\n"
          ]
        },
        {
          "output_type": "execute_result",
          "data": {
            "text/plain": [
              "tensor([5., 2., 3., 4., 5., 6., 7., 8., 9.])"
            ]
          },
          "metadata": {},
          "execution_count": 30
        }
      ]
    },
    {
      "cell_type": "code",
      "source": [
        "# stacks the tensors and o/p tensor has a dimension more than the input tensor\n",
        "x_stacked = torch.stack([x_reshaped,x_reshaped,x_reshaped], dim=0)\n",
        "x_stacked, x_stacked.shape"
      ],
      "metadata": {
        "colab": {
          "base_uri": "https://localhost:8080/"
        },
        "id": "sLqrnpNL2p4N",
        "outputId": "8688c842-7735-40dc-84ff-02914798ad79"
      },
      "execution_count": 31,
      "outputs": [
        {
          "output_type": "execute_result",
          "data": {
            "text/plain": [
              "(tensor([[[5., 2., 3., 4., 5., 6., 7., 8., 9.]],\n",
              " \n",
              "         [[5., 2., 3., 4., 5., 6., 7., 8., 9.]],\n",
              " \n",
              "         [[5., 2., 3., 4., 5., 6., 7., 8., 9.]]]),\n",
              " torch.Size([3, 1, 9]))"
            ]
          },
          "metadata": {},
          "execution_count": 31
        }
      ]
    },
    {
      "cell_type": "code",
      "source": [
        "# squeeze removes dim 1 in the input tensor\n",
        "x_squeezed = x_reshaped.squeeze()\n",
        "x_squeezed.shape\n",
        "print(f\"Before squeezed: {x_reshaped, x_reshaped.shape}\")\n",
        "print(f\"After squeezed dimension 1 is removed: {x_squeezed, x_squeezed.shape}\")"
      ],
      "metadata": {
        "colab": {
          "base_uri": "https://localhost:8080/"
        },
        "id": "yi15Gtc73W1Q",
        "outputId": "8c39016b-8b9b-4165-8e32-a7b174c1a33f"
      },
      "execution_count": 32,
      "outputs": [
        {
          "output_type": "stream",
          "name": "stdout",
          "text": [
            "Before squeezed: (tensor([[5., 2., 3., 4., 5., 6., 7., 8., 9.]]), torch.Size([1, 9]))\n",
            "After squeezed dimension 1 is removed: (tensor([5., 2., 3., 4., 5., 6., 7., 8., 9.]), torch.Size([9]))\n"
          ]
        }
      ]
    },
    {
      "cell_type": "code",
      "source": [
        "# unsqueeze adds dim 1 in the specified dimension of the input tensor\n",
        "x_unsqueezed = x_squeezed.unsqueeze(dim=0)\n",
        "print(x_unsqueezed, x_unsqueezed.shape)\n",
        "x_unsqueezed = x_squeezed.unsqueeze(dim=1)\n",
        "print(x_unsqueezed, x_unsqueezed.shape)"
      ],
      "metadata": {
        "colab": {
          "base_uri": "https://localhost:8080/"
        },
        "id": "PH29-Fpb7OKk",
        "outputId": "decb421d-0a11-4049-bd9e-e3df946469ea"
      },
      "execution_count": 33,
      "outputs": [
        {
          "output_type": "stream",
          "name": "stdout",
          "text": [
            "tensor([[5., 2., 3., 4., 5., 6., 7., 8., 9.]]) torch.Size([1, 9])\n",
            "tensor([[5.],\n",
            "        [2.],\n",
            "        [3.],\n",
            "        [4.],\n",
            "        [5.],\n",
            "        [6.],\n",
            "        [7.],\n",
            "        [8.],\n",
            "        [9.]]) torch.Size([9, 1])\n"
          ]
        }
      ]
    },
    {
      "cell_type": "code",
      "source": [
        "# permute returns a view by swapping the dimensions in the specified order. modifying a value in view changes it in the original tensor since the view references the original\n",
        "torch.manual_seed(seed=123)\n",
        "y = torch.rand(size=(3,224,224))\n",
        "print(y[0,0,0])\n",
        "y[0,0,0] = 0.9\n",
        "print(f\"Original shape = {y.shape}\")\n",
        "y_perm1 = y.permute((0,1,2))\n",
        "print(y_perm1[0,0,0])\n",
        "print(f\"Permuted 1 shape = {y_perm1.shape}\")\n",
        "y_perm2 = y.permute((1,0,2))\n",
        "print(y_perm2[0,0,0])\n",
        "print(f\"Permuted 2 shape = {y_perm2.shape}\")\n",
        "y_perm3 = y.permute((1,2,0))\n",
        "print(y_perm3[0,0,0])\n",
        "print(f\"Permuted 3 shape = {y_perm3.shape}\")"
      ],
      "metadata": {
        "colab": {
          "base_uri": "https://localhost:8080/"
        },
        "id": "Ylasdpoc8d-x",
        "outputId": "f72cba39-9442-4d83-c613-1614350084db"
      },
      "execution_count": 36,
      "outputs": [
        {
          "output_type": "stream",
          "name": "stdout",
          "text": [
            "tensor(0.2961)\n",
            "Original shape = torch.Size([3, 224, 224])\n",
            "tensor(0.9000)\n",
            "Permuted 1 shape = torch.Size([3, 224, 224])\n",
            "tensor(0.9000)\n",
            "Permuted 2 shape = torch.Size([224, 3, 224])\n",
            "tensor(0.9000)\n",
            "Permuted 3 shape = torch.Size([224, 224, 3])\n"
          ]
        }
      ]
    },
    {
      "cell_type": "markdown",
      "source": [
        "## Tensor Indexing"
      ],
      "metadata": {
        "id": "TYZTfRFLTbqz"
      }
    },
    {
      "cell_type": "code",
      "source": [
        "x = torch.arange(1,10).reshape(1,3,3)\n",
        "x,x.shape"
      ],
      "metadata": {
        "colab": {
          "base_uri": "https://localhost:8080/"
        },
        "id": "QyoOf_uL-Zmn",
        "outputId": "192df6f5-1412-4be6-c8c7-7aa2b1cb9b96"
      },
      "execution_count": 42,
      "outputs": [
        {
          "output_type": "execute_result",
          "data": {
            "text/plain": [
              "(tensor([[[1, 2, 3],\n",
              "          [4, 5, 6],\n",
              "          [7, 8, 9]]]),\n",
              " torch.Size([1, 3, 3]))"
            ]
          },
          "metadata": {},
          "execution_count": 42
        }
      ]
    },
    {
      "cell_type": "code",
      "source": [
        "x[0]"
      ],
      "metadata": {
        "colab": {
          "base_uri": "https://localhost:8080/"
        },
        "id": "A8_eitmITrRk",
        "outputId": "9feb83e5-4ab3-46a5-c80b-bdcec8103b8b"
      },
      "execution_count": 43,
      "outputs": [
        {
          "output_type": "execute_result",
          "data": {
            "text/plain": [
              "tensor([[1, 2, 3],\n",
              "        [4, 5, 6],\n",
              "        [7, 8, 9]])"
            ]
          },
          "metadata": {},
          "execution_count": 43
        }
      ]
    },
    {
      "cell_type": "code",
      "source": [
        "x[0,0]"
      ],
      "metadata": {
        "colab": {
          "base_uri": "https://localhost:8080/"
        },
        "id": "IJFxzTThTrO7",
        "outputId": "384b50b3-802b-4e43-cab2-1e4be09708d1"
      },
      "execution_count": 44,
      "outputs": [
        {
          "output_type": "execute_result",
          "data": {
            "text/plain": [
              "tensor([1, 2, 3])"
            ]
          },
          "metadata": {},
          "execution_count": 44
        }
      ]
    },
    {
      "cell_type": "code",
      "source": [
        "x[0,2,2]"
      ],
      "metadata": {
        "colab": {
          "base_uri": "https://localhost:8080/"
        },
        "id": "WcDJ4VffTrJq",
        "outputId": "a8bb1b68-bae1-4381-cabb-2aeb2d0f8a31"
      },
      "execution_count": 48,
      "outputs": [
        {
          "output_type": "execute_result",
          "data": {
            "text/plain": [
              "tensor(9)"
            ]
          },
          "metadata": {},
          "execution_count": 48
        }
      ]
    },
    {
      "cell_type": "code",
      "source": [
        "# we can use : to select all of a target dimension\n",
        "x[:,0]"
      ],
      "metadata": {
        "colab": {
          "base_uri": "https://localhost:8080/"
        },
        "id": "GPhLUFTjUE60",
        "outputId": "059c8c5b-e956-4e12-9791-b695117f5bd1"
      },
      "execution_count": 49,
      "outputs": [
        {
          "output_type": "execute_result",
          "data": {
            "text/plain": [
              "tensor([[1, 2, 3]])"
            ]
          },
          "metadata": {},
          "execution_count": 49
        }
      ]
    },
    {
      "cell_type": "code",
      "source": [
        "x[:,:,1]"
      ],
      "metadata": {
        "colab": {
          "base_uri": "https://localhost:8080/"
        },
        "id": "xmlxixHsUfV6",
        "outputId": "a92daa49-baf8-423f-e7ab-65dc3e878304"
      },
      "execution_count": 56,
      "outputs": [
        {
          "output_type": "execute_result",
          "data": {
            "text/plain": [
              "tensor([[2, 5, 8]])"
            ]
          },
          "metadata": {},
          "execution_count": 56
        }
      ]
    },
    {
      "cell_type": "code",
      "source": [
        "x[:,1,1], x[0,1,1]"
      ],
      "metadata": {
        "colab": {
          "base_uri": "https://localhost:8080/"
        },
        "id": "83odk_EsUpUJ",
        "outputId": "a606ab22-5f41-4c6c-a98e-ffd9dda45d3f"
      },
      "execution_count": 59,
      "outputs": [
        {
          "output_type": "execute_result",
          "data": {
            "text/plain": [
              "(tensor([5]), tensor(5))"
            ]
          },
          "metadata": {},
          "execution_count": 59
        }
      ]
    },
    {
      "cell_type": "code",
      "source": [
        "# get index 0 of 0th dim and 1st dim and all values od 2nd dim\n",
        "x[0,0,:]"
      ],
      "metadata": {
        "colab": {
          "base_uri": "https://localhost:8080/"
        },
        "id": "z50JOOzicszl",
        "outputId": "5dbd26e1-315f-4dd2-f9d8-384858dd471c"
      },
      "execution_count": 60,
      "outputs": [
        {
          "output_type": "execute_result",
          "data": {
            "text/plain": [
              "tensor([1, 2, 3])"
            ]
          },
          "metadata": {},
          "execution_count": 60
        }
      ]
    },
    {
      "cell_type": "code",
      "source": [
        "# index on x to return 9\n",
        "print(x[0,2,2])\n",
        "\n",
        "# index on x to return 3,6,9\n",
        "x[0,:,2]"
      ],
      "metadata": {
        "colab": {
          "base_uri": "https://localhost:8080/"
        },
        "id": "0D5Qy4dJdOu3",
        "outputId": "fce37acc-d30a-4659-8776-a5c806e711bb"
      },
      "execution_count": 62,
      "outputs": [
        {
          "output_type": "stream",
          "name": "stdout",
          "text": [
            "tensor(9)\n"
          ]
        },
        {
          "output_type": "execute_result",
          "data": {
            "text/plain": [
              "tensor([3, 6, 9])"
            ]
          },
          "metadata": {},
          "execution_count": 62
        }
      ]
    },
    {
      "cell_type": "markdown",
      "source": [
        "## PyTorch and NumPy\n",
        "\n",
        "1. NumPy is a popular scientific python numerical computing library\n",
        "2.  PyTorch has the functionality to interact with it"
      ],
      "metadata": {
        "id": "1Pcbh8ZYd0qe"
      }
    },
    {
      "cell_type": "code",
      "source": [
        "# numpy to tensor\n",
        "import numpy as np\n",
        "import torch\n",
        "array = np.arange(1.0,8.0) # default dtype is float64 in numpy\n",
        "# when an np array is converted to tensor, the tensor has dtype=float64 and this creates a new tensor in the memory that is changing tensor doesn't change the numpy array\n",
        "tensor = torch.from_numpy(array)\n",
        "array = array+1\n",
        "print(array, tensor)"
      ],
      "metadata": {
        "colab": {
          "base_uri": "https://localhost:8080/"
        },
        "id": "eV6a4YTwdcdH",
        "outputId": "20c6a48e-1673-4d33-c0c3-902b4a9454f4"
      },
      "execution_count": 73,
      "outputs": [
        {
          "output_type": "stream",
          "name": "stdout",
          "text": [
            "[2. 3. 4. 5. 6. 7. 8.] tensor([1., 2., 3., 4., 5., 6., 7.], dtype=torch.float64)\n"
          ]
        }
      ]
    },
    {
      "cell_type": "code",
      "source": [
        "# tensor to numpy\n",
        "tensor = torch.ones(7)\n",
        "tensor.dtype\n",
        "np_tensor = tensor.numpy() # np_array has same dtype has tensor\n",
        "print(tensor, np_tensor)\n",
        "# changing tensor doesn't change the numpy array\n",
        "tensor = tensor +1\n",
        "print(tensor, np_tensor)\n"
      ],
      "metadata": {
        "colab": {
          "base_uri": "https://localhost:8080/"
        },
        "id": "wgxnOnJ1eZJr",
        "outputId": "a45359ff-609a-4657-dab4-7b247474dd62"
      },
      "execution_count": 74,
      "outputs": [
        {
          "output_type": "stream",
          "name": "stdout",
          "text": [
            "tensor([1., 1., 1., 1., 1., 1., 1.]) [1. 1. 1. 1. 1. 1. 1.]\n",
            "tensor([2., 2., 2., 2., 2., 2., 2.]) [1. 1. 1. 1. 1. 1. 1.]\n"
          ]
        }
      ]
    },
    {
      "cell_type": "code",
      "source": [],
      "metadata": {
        "id": "hmqJb4dJfpOr"
      },
      "execution_count": null,
      "outputs": []
    }
  ],
  "metadata": {
    "colab": {
      "provenance": [],
      "mount_file_id": "1GRnuGLGdynWRsKAqdk6suofbV7CXwiI_",
      "authorship_tag": "ABX9TyNYCZTfigVRzNRvemE7+rgk",
      "include_colab_link": true
    },
    "kernelspec": {
      "display_name": "Python 3",
      "name": "python3"
    },
    "language_info": {
      "name": "python"
    }
  },
  "nbformat": 4,
  "nbformat_minor": 0
}