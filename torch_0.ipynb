{
  "cells": [
    {
      "cell_type": "markdown",
      "metadata": {
        "id": "view-in-github",
        "colab_type": "text"
      },
      "source": [
        "<a href=\"https://colab.research.google.com/github/srikrish2812/pytorch_practice/blob/main/torch_0.ipynb\" target=\"_parent\"><img src=\"https://colab.research.google.com/assets/colab-badge.svg\" alt=\"Open In Colab\"/></a>"
      ]
    },
    {
      "cell_type": "markdown",
      "source": [
        "## PyTorch Fundamentals\n",
        "\n",
        "Source: https://www.learnpytorch.io/00_pytorch_fundamentals/\n",
        "\n",
        "## PyTorch Workflow\n",
        "\n",
        "1. Get the data ready. Convert them to tensors\n",
        "2. Build or pick a model including loss function, optimizer and build a training loop\n",
        "3. Fit the model to the data and make a prediction\n",
        "4. Evaluate the model/Hyperparameter tuning\n",
        "5. Improve the model through experimentation"
      ],
      "metadata": {
        "id": "_0-Vcny38Up0"
      }
    },
    {
      "cell_type": "code",
      "execution_count": 55,
      "metadata": {
        "colab": {
          "base_uri": "https://localhost:8080/"
        },
        "id": "2ke7X_k-Ibv6",
        "outputId": "3cd9bb31-f4c2-46b0-cc88-fd3616fdae6f"
      },
      "outputs": [
        {
          "output_type": "stream",
          "name": "stdout",
          "text": [
            "2.5.1+cu121\n",
            "nvcc: NVIDIA (R) Cuda compiler driver\n",
            "Copyright (c) 2005-2023 NVIDIA Corporation\n",
            "Built on Tue_Aug_15_22:02:13_PDT_2023\n",
            "Cuda compilation tools, release 12.2, V12.2.140\n",
            "Build cuda_12.2.r12.2/compiler.33191640_0\n"
          ]
        }
      ],
      "source": [
        "import torch\n",
        "import pandas as pd\n",
        "import numpy as np\n",
        "print(torch.__version__)\n",
        "!nvcc --version"
      ]
    },
    {
      "cell_type": "markdown",
      "source": [
        "## What is a Tensor?\n",
        "1. It is a fundamental data structure in PyTorch used for storing and manipulating data.\n",
        "2. Tensor computations can be parallelized on GPUs to improve the speed.\n",
        "3. Tensors can be scalars, vectors or multi-dimensional arrays."
      ],
      "metadata": {
        "id": "jyNA4zUs3-zv"
      }
    },
    {
      "cell_type": "code",
      "execution_count": 56,
      "metadata": {
        "id": "4Kf2eLsMJvnY",
        "colab": {
          "base_uri": "https://localhost:8080/"
        },
        "outputId": "d40ed785-b078-4809-a85f-6baefccfadd8"
      },
      "outputs": [
        {
          "output_type": "stream",
          "name": "stdout",
          "text": [
            "<class 'torch.Tensor'>\n",
            "Num of dimensions = 0, since it is a scalar\n",
            "7\n",
            "Shape of scalar = torch.Size([])\n"
          ]
        }
      ],
      "source": [
        "scalar = torch.tensor(7)\n",
        "print(type(scalar))\n",
        "print(f\"Num of dimensions = {scalar.ndim}, since it is a scalar\")\n",
        "print(scalar.item())\n",
        "print(f\"Shape of scalar = {scalar.shape}\")"
      ]
    },
    {
      "cell_type": "code",
      "source": [
        "vector = torch.tensor([7,7])\n",
        "print(f\"Num of dimensions = {vector.ndim}\")\n",
        "print(f\"Shape = {vector.shape}\")"
      ],
      "metadata": {
        "id": "p98Hj5P49x3d",
        "colab": {
          "base_uri": "https://localhost:8080/"
        },
        "outputId": "c50d90bb-091b-4e7d-85e5-fb0806226582"
      },
      "execution_count": 57,
      "outputs": [
        {
          "output_type": "stream",
          "name": "stdout",
          "text": [
            "Num of dimensions = 1\n",
            "Shape = torch.Size([2])\n"
          ]
        }
      ]
    },
    {
      "cell_type": "code",
      "source": [
        "matrix = torch.tensor([[7,8],\n",
        "                       [9,10]])\n",
        "print(\"No of dimensions\", matrix.ndim)\n",
        "print(\"Shape of matrix\",matrix.shape)"
      ],
      "metadata": {
        "colab": {
          "base_uri": "https://localhost:8080/"
        },
        "id": "ViNz036upiRH",
        "outputId": "8af095db-1b5f-4632-ed2a-8638a0a17a71"
      },
      "execution_count": 58,
      "outputs": [
        {
          "output_type": "stream",
          "name": "stdout",
          "text": [
            "No of dimensions 2\n",
            "Shape of matrix torch.Size([2, 2])\n"
          ]
        }
      ]
    },
    {
      "cell_type": "code",
      "source": [
        "tensor = torch.tensor([[[1,2,],\n",
        "                        [3,4],\n",
        "                        [5,6]]])\n",
        "print(\"No of dimensions\",tensor.ndim)\n",
        "print(\"SHape of tensor\", tensor.shape)"
      ],
      "metadata": {
        "colab": {
          "base_uri": "https://localhost:8080/"
        },
        "id": "i_ChKIUfTaa9",
        "outputId": "05d2b1f4-dc6a-4cfe-f305-3778f198fa12"
      },
      "execution_count": 59,
      "outputs": [
        {
          "output_type": "stream",
          "name": "stdout",
          "text": [
            "No of dimensions 3\n",
            "SHape of tensor torch.Size([1, 3, 2])\n"
          ]
        }
      ]
    },
    {
      "cell_type": "markdown",
      "source": [
        "## Random tensor initialization\n",
        "Used to create tensors randomly without explicitly specifying the input data"
      ],
      "metadata": {
        "id": "H2dQSQc2Uzb7"
      }
    },
    {
      "cell_type": "code",
      "source": [
        "random_tensor = torch.rand(2,3)\n",
        "random_tensor"
      ],
      "metadata": {
        "colab": {
          "base_uri": "https://localhost:8080/"
        },
        "id": "xh4siK5aUkba",
        "outputId": "33e58d5c-400f-4e32-c92b-29966d013797"
      },
      "execution_count": 60,
      "outputs": [
        {
          "output_type": "execute_result",
          "data": {
            "text/plain": [
              "tensor([[0.3588, 0.3866, 0.6693],\n",
              "        [0.4822, 0.9742, 0.8104]])"
            ]
          },
          "metadata": {},
          "execution_count": 60
        }
      ]
    },
    {
      "cell_type": "code",
      "source": [
        "random_img_tensor = torch.rand(size=(3,224,224))\n",
        "random_img_tensor.shape, random_img_tensor.ndim"
      ],
      "metadata": {
        "colab": {
          "base_uri": "https://localhost:8080/"
        },
        "id": "klzU26esVT3C",
        "outputId": "e630cdb7-2d0f-40a0-a90f-f17cf5608bf9"
      },
      "execution_count": 61,
      "outputs": [
        {
          "output_type": "execute_result",
          "data": {
            "text/plain": [
              "(torch.Size([3, 224, 224]), 3)"
            ]
          },
          "metadata": {},
          "execution_count": 61
        }
      ]
    },
    {
      "cell_type": "markdown",
      "source": [
        "## Zeros and Ones"
      ],
      "metadata": {
        "id": "F1-io37welqN"
      }
    },
    {
      "cell_type": "code",
      "source": [
        "# create a tensor of all zeros\n",
        "zeros = torch.zeros(2,3)\n",
        "print(zeros)\n",
        "print(zeros*random_tensor)\n",
        "zeros.dtype"
      ],
      "metadata": {
        "colab": {
          "base_uri": "https://localhost:8080/"
        },
        "id": "vbb-Phwoc2eU",
        "outputId": "cbfc4134-cdbb-4d2c-ffad-b68a615c433c"
      },
      "execution_count": 62,
      "outputs": [
        {
          "output_type": "stream",
          "name": "stdout",
          "text": [
            "tensor([[0., 0., 0.],\n",
            "        [0., 0., 0.]])\n",
            "tensor([[0., 0., 0.],\n",
            "        [0., 0., 0.]])\n"
          ]
        },
        {
          "output_type": "execute_result",
          "data": {
            "text/plain": [
              "torch.float32"
            ]
          },
          "metadata": {},
          "execution_count": 62
        }
      ]
    },
    {
      "cell_type": "code",
      "source": [
        "# create a tensor of all ones\n",
        "ones = torch.ones(2,3)\n",
        "print(ones)\n",
        "print(ones*random_tensor)\n",
        "ones.dtype"
      ],
      "metadata": {
        "colab": {
          "base_uri": "https://localhost:8080/"
        },
        "id": "r_X6Pdu-eyX8",
        "outputId": "f22de671-dced-40a4-bef1-30379c902721"
      },
      "execution_count": 63,
      "outputs": [
        {
          "output_type": "stream",
          "name": "stdout",
          "text": [
            "tensor([[1., 1., 1.],\n",
            "        [1., 1., 1.]])\n",
            "tensor([[0.3588, 0.3866, 0.6693],\n",
            "        [0.4822, 0.9742, 0.8104]])\n"
          ]
        },
        {
          "output_type": "execute_result",
          "data": {
            "text/plain": [
              "torch.float32"
            ]
          },
          "metadata": {},
          "execution_count": 63
        }
      ]
    },
    {
      "cell_type": "markdown",
      "source": [
        "## Range and tensor-like array creation\n",
        "\n",
        "1. The end is not included. [start,end)\n",
        "2. torch.*_like(source_tensor) retains the properties such as shape and ndim of the source_tensor."
      ],
      "metadata": {
        "id": "rY39ohQsgaRI"
      }
    },
    {
      "cell_type": "code",
      "source": [
        "one_ten = torch.arange(start=1, end=11, step=1)\n",
        "one_ten"
      ],
      "metadata": {
        "colab": {
          "base_uri": "https://localhost:8080/"
        },
        "id": "zsfZ-fymfRvX",
        "outputId": "7fa2e7df-d693-4c9f-81e0-56f4107d4289"
      },
      "execution_count": 64,
      "outputs": [
        {
          "output_type": "execute_result",
          "data": {
            "text/plain": [
              "tensor([ 1,  2,  3,  4,  5,  6,  7,  8,  9, 10])"
            ]
          },
          "metadata": {},
          "execution_count": 64
        }
      ]
    },
    {
      "cell_type": "code",
      "source": [
        "ten_zeros = torch.zeros_like(one_ten)\n",
        "print(ten_zeros)\n",
        "ten_ones = torch.ones_like(one_ten)\n",
        "print(ten_ones)"
      ],
      "metadata": {
        "colab": {
          "base_uri": "https://localhost:8080/"
        },
        "id": "cCJYZH6kgkUU",
        "outputId": "feacb8e5-3957-48dd-efbf-58fb729e75fc"
      },
      "execution_count": 65,
      "outputs": [
        {
          "output_type": "stream",
          "name": "stdout",
          "text": [
            "tensor([0, 0, 0, 0, 0, 0, 0, 0, 0, 0])\n",
            "tensor([1, 1, 1, 1, 1, 1, 1, 1, 1, 1])\n"
          ]
        }
      ]
    },
    {
      "cell_type": "markdown",
      "source": [
        "## Tensor Datatypes\n",
        "\n",
        "1. The default datatype for floating point numbers is float32\n",
        "2. The default datatype for whole numbers is int64\n",
        "3. float32 is single-precision floating point where as float64 is called double precision floating point\n",
        "4. Important params of tensor()\n",
        "- dtype: datatype(float32, float64, int64, etc.,)\n",
        "- device: type of device on which the tensor is loaded(cpu or gpu)\n",
        "- requires_grad: tells whether gradients need to be computed or not"
      ],
      "metadata": {
        "id": "oWdVGHqAmVMq"
      }
    },
    {
      "cell_type": "code",
      "source": [
        "tensor_int64 = torch.tensor([1,2,3], dtype=None)\n",
        "print(tensor_int64.dtype)\n",
        "tensor_float32 = torch.tensor([1.0,2.0,3.0],\n",
        "                              dtype=None,\n",
        "                              device=None,\n",
        "                              requires_grad=False)\n",
        "print(tensor_float32.dtype)"
      ],
      "metadata": {
        "colab": {
          "base_uri": "https://localhost:8080/"
        },
        "id": "3xY58WnZhJfr",
        "outputId": "251ba792-e02f-4f35-aa1b-0f0fd03dab9e"
      },
      "execution_count": 66,
      "outputs": [
        {
          "output_type": "stream",
          "name": "stdout",
          "text": [
            "torch.int64\n",
            "torch.float32\n"
          ]
        }
      ]
    },
    {
      "cell_type": "code",
      "source": [
        "tensor_float16_1 = torch.tensor([1.0,2.0,3.0],\n",
        "                              dtype=torch.float16,\n",
        "                              device=None)\n",
        "tensor_float16_2 = tensor_float32.type(torch.float16)\n",
        "tensor_float16_2"
      ],
      "metadata": {
        "colab": {
          "base_uri": "https://localhost:8080/"
        },
        "id": "0bsRhAjjmiIv",
        "outputId": "dcc70cdf-6368-43dd-8a47-c4ece9b27416"
      },
      "execution_count": 67,
      "outputs": [
        {
          "output_type": "execute_result",
          "data": {
            "text/plain": [
              "tensor([1., 2., 3.], dtype=torch.float16)"
            ]
          },
          "metadata": {},
          "execution_count": 67
        }
      ]
    },
    {
      "cell_type": "code",
      "source": [
        "x = tensor_float32 * tensor_float16_1 # results in float32\n",
        "x, x.dtype"
      ],
      "metadata": {
        "colab": {
          "base_uri": "https://localhost:8080/"
        },
        "id": "mHOAv-kXtqbJ",
        "outputId": "622d31a3-c5ba-460a-a2ed-a4aa4171ca93"
      },
      "execution_count": 68,
      "outputs": [
        {
          "output_type": "execute_result",
          "data": {
            "text/plain": [
              "(tensor([1., 4., 9.]), torch.float32)"
            ]
          },
          "metadata": {},
          "execution_count": 68
        }
      ]
    },
    {
      "cell_type": "markdown",
      "source": [
        "- float64 : torch.float64/ torch.double\n",
        "- int64 : torch.int64/ torch.long\n",
        "- float16 : torch.float16/ torch.half"
      ],
      "metadata": {
        "id": "pbCIMXfdvaeH"
      }
    },
    {
      "cell_type": "markdown",
      "source": [
        "Tensor Attributes\n",
        "1. tensor.shape\n",
        "2. tensor.device\n",
        "3. tensor.dtype\n",
        "\n",
        "Tensor methods\n",
        "- tensor.size()"
      ],
      "metadata": {
        "id": "_VrcIpkXworb"
      }
    },
    {
      "cell_type": "code",
      "source": [
        "tensor_eg = torch.tensor(\n",
        "    data = [1,2,3],\n",
        "    dtype=torch.half\n",
        ")\n",
        "print(tensor_eg.dtype, tensor_eg.device, tensor_eg.shape)\n",
        "print(tensor_eg.size())"
      ],
      "metadata": {
        "id": "9hxXmmryrHtG",
        "colab": {
          "base_uri": "https://localhost:8080/"
        },
        "outputId": "7eb7152d-bca5-43de-d17b-9c355e3af2a4"
      },
      "execution_count": 69,
      "outputs": [
        {
          "output_type": "stream",
          "name": "stdout",
          "text": [
            "torch.float16 cpu torch.Size([3])\n",
            "torch.Size([3])\n"
          ]
        }
      ]
    },
    {
      "cell_type": "markdown",
      "source": [
        "## Tensor Operations\n"
      ],
      "metadata": {
        "id": "9eCe_tWbxMb_"
      }
    },
    {
      "cell_type": "code",
      "source": [
        "tensor = torch.tensor([1,2,3])\n",
        "print(\"Addition\",tensor+10)\n",
        "print(\"Multiplication\",tensor*10)\n",
        "print(\"Exponent\",tensor**3)"
      ],
      "metadata": {
        "colab": {
          "base_uri": "https://localhost:8080/"
        },
        "id": "oSboGztqw3HJ",
        "outputId": "a2bce0fd-ee99-4dee-fd13-24bec44a2c46"
      },
      "execution_count": 70,
      "outputs": [
        {
          "output_type": "stream",
          "name": "stdout",
          "text": [
            "Addition tensor([11, 12, 13])\n",
            "Multiplication tensor([10, 20, 30])\n",
            "Exponent tensor([ 1,  8, 27])\n"
          ]
        }
      ]
    },
    {
      "cell_type": "code",
      "source": [
        "# not inplace\n",
        "torch.add(tensor,10)\n",
        "torch.mul(tensor,0.1)"
      ],
      "metadata": {
        "colab": {
          "base_uri": "https://localhost:8080/"
        },
        "id": "UQeD3VZSyeWp",
        "outputId": "c056ba1f-e17e-4c06-bade-d81d382378b1"
      },
      "execution_count": 71,
      "outputs": [
        {
          "output_type": "execute_result",
          "data": {
            "text/plain": [
              "tensor([0.1000, 0.2000, 0.3000])"
            ]
          },
          "metadata": {},
          "execution_count": 71
        }
      ]
    },
    {
      "cell_type": "code",
      "source": [
        "# in-place\n",
        "tensor.add_(10)\n",
        "tensor.mul_(2)"
      ],
      "metadata": {
        "colab": {
          "base_uri": "https://localhost:8080/"
        },
        "id": "as-WXH0IxbKj",
        "outputId": "7a582909-6e2a-464d-e649-7ab5d4a1fc8d"
      },
      "execution_count": 72,
      "outputs": [
        {
          "output_type": "execute_result",
          "data": {
            "text/plain": [
              "tensor([22, 24, 26])"
            ]
          },
          "metadata": {},
          "execution_count": 72
        }
      ]
    },
    {
      "cell_type": "markdown",
      "source": [
        "## Multiplication\n",
        "- Element-wise multiplication\n",
        "- Matrix Multiplication"
      ],
      "metadata": {
        "id": "LNpg6o1ieti3"
      }
    },
    {
      "cell_type": "code",
      "source": [
        "tensor = torch.tensor([1,2,3,])\n",
        "print('Element-wise multiplication tensor*tensor is')\n",
        "print(tensor*tensor)\n",
        "new_tensor = torch.tensor([4,5,6])\n",
        "print(\"new_tensor*tensor =\",tensor*new_tensor)"
      ],
      "metadata": {
        "colab": {
          "base_uri": "https://localhost:8080/"
        },
        "id": "e4zSJJT1xz_v",
        "outputId": "67fa40f0-099e-486c-9e72-ea0ce0a2d55e"
      },
      "execution_count": 73,
      "outputs": [
        {
          "output_type": "stream",
          "name": "stdout",
          "text": [
            "Element-wise multiplication tensor*tensor is\n",
            "tensor([1, 4, 9])\n",
            "new_tensor*tensor = tensor([ 4, 10, 18])\n"
          ]
        }
      ]
    },
    {
      "cell_type": "code",
      "source": [
        "# Matrix multiplication\n",
        "%%time\n",
        "torch.matmul(tensor,tensor)"
      ],
      "metadata": {
        "colab": {
          "base_uri": "https://localhost:8080/"
        },
        "id": "Gc9n9SidfDTd",
        "outputId": "402cdc02-142f-4465-c84d-e24946fcfc4c"
      },
      "execution_count": 74,
      "outputs": [
        {
          "output_type": "stream",
          "name": "stdout",
          "text": [
            "CPU times: user 2.02 ms, sys: 0 ns, total: 2.02 ms\n",
            "Wall time: 5.88 ms\n"
          ]
        },
        {
          "output_type": "execute_result",
          "data": {
            "text/plain": [
              "tensor(14)"
            ]
          },
          "metadata": {},
          "execution_count": 74
        }
      ]
    },
    {
      "cell_type": "code",
      "source": [
        "%%time\n",
        "value=0\n",
        "for el in tensor:\n",
        "    value+=el*el\n",
        "print(value)"
      ],
      "metadata": {
        "colab": {
          "base_uri": "https://localhost:8080/"
        },
        "id": "inXnxdnoff2x",
        "outputId": "547ac124-1023-4a84-88db-af3caaffea10"
      },
      "execution_count": 75,
      "outputs": [
        {
          "output_type": "stream",
          "name": "stdout",
          "text": [
            "tensor(14)\n",
            "CPU times: user 649 µs, sys: 0 ns, total: 649 µs\n",
            "Wall time: 658 µs\n"
          ]
        }
      ]
    },
    {
      "cell_type": "code",
      "source": [
        "mat_1 = torch.tensor([[1,2],\n",
        "                      [3,4]])\n",
        "mat_2 = torch.tensor([1,2])\n",
        "print(\"torch.matmul(mat_1,mat_2) =\",mat_1@mat_2)\n",
        "print(\"torch.matmul(mat_2,mat_1) =\",mat_2@mat_1)\n",
        "print(\"torch.matmul automatically arranges the vector shapes\")"
      ],
      "metadata": {
        "colab": {
          "base_uri": "https://localhost:8080/"
        },
        "id": "ZUOYYZq3hSnR",
        "outputId": "72b58776-f69a-4191-8395-b5b71b031f67"
      },
      "execution_count": 78,
      "outputs": [
        {
          "output_type": "stream",
          "name": "stdout",
          "text": [
            "torch.matmul(mat_1,mat_2) = tensor([ 5, 11])\n",
            "torch.matmul(mat_2,mat_1) = tensor([ 7, 10])\n",
            "torch.matmul automatically arranges the vector shapes\n"
          ]
        }
      ]
    },
    {
      "cell_type": "code",
      "source": [],
      "metadata": {
        "id": "rQWCrtMciG0P"
      },
      "execution_count": 76,
      "outputs": []
    }
  ],
  "metadata": {
    "colab": {
      "provenance": [],
      "mount_file_id": "1GRnuGLGdynWRsKAqdk6suofbV7CXwiI_",
      "authorship_tag": "ABX9TyPDSm1nNUh6AvxeIn2R2nYk",
      "include_colab_link": true
    },
    "kernelspec": {
      "display_name": "Python 3",
      "name": "python3"
    },
    "language_info": {
      "name": "python"
    }
  },
  "nbformat": 4,
  "nbformat_minor": 0
}