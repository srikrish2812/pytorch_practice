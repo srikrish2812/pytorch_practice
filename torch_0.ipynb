{
  "cells": [
    {
      "cell_type": "markdown",
      "metadata": {
        "id": "view-in-github",
        "colab_type": "text"
      },
      "source": [
        "<a href=\"https://colab.research.google.com/github/srikrish2812/pytorch_practice/blob/main/torch_0.ipynb\" target=\"_parent\"><img src=\"https://colab.research.google.com/assets/colab-badge.svg\" alt=\"Open In Colab\"/></a>"
      ]
    },
    {
      "cell_type": "markdown",
      "source": [
        "## PyTorch Fundamentals\n",
        "\n",
        "Source: https://www.learnpytorch.io/00_pytorch_fundamentals/\n",
        "\n",
        "## PyTorch Workflow\n",
        "\n",
        "1. Get the data ready. Convert them to tensors\n",
        "2. Build or pick a model including loss function, optimizer and build a training loop\n",
        "3. Fit the model to the data and make a prediction\n",
        "4. Evaluate the model/Hyperparameter tuning\n",
        "5. Improve the model through experimentation"
      ],
      "metadata": {
        "id": "_0-Vcny38Up0"
      }
    },
    {
      "cell_type": "code",
      "execution_count": 1,
      "metadata": {
        "colab": {
          "base_uri": "https://localhost:8080/"
        },
        "id": "2ke7X_k-Ibv6",
        "outputId": "6656131b-2eeb-495d-a2fe-32be01a5575d"
      },
      "outputs": [
        {
          "output_type": "stream",
          "name": "stdout",
          "text": [
            "2.5.1+cu121\n",
            "nvcc: NVIDIA (R) Cuda compiler driver\n",
            "Copyright (c) 2005-2023 NVIDIA Corporation\n",
            "Built on Tue_Aug_15_22:02:13_PDT_2023\n",
            "Cuda compilation tools, release 12.2, V12.2.140\n",
            "Build cuda_12.2.r12.2/compiler.33191640_0\n"
          ]
        }
      ],
      "source": [
        "import torch\n",
        "import pandas as pd\n",
        "import numpy as np\n",
        "print(torch.__version__)\n",
        "!nvcc --version"
      ]
    },
    {
      "cell_type": "markdown",
      "source": [
        "## What is a Tensor?\n",
        "1. It is a fundamental data structure in PyTorch used for storing and manipulating data.\n",
        "2. Tensor computations can be parallelized on GPUs to improve the speed.\n",
        "3. Tensors can be scalars, vectors or multi-dimensional arrays."
      ],
      "metadata": {
        "id": "jyNA4zUs3-zv"
      }
    },
    {
      "cell_type": "code",
      "execution_count": 2,
      "metadata": {
        "id": "4Kf2eLsMJvnY",
        "colab": {
          "base_uri": "https://localhost:8080/"
        },
        "outputId": "7131c9c3-e97d-4f77-dc5e-7f61380335d4"
      },
      "outputs": [
        {
          "output_type": "stream",
          "name": "stdout",
          "text": [
            "<class 'torch.Tensor'>\n",
            "Num of dimensions = 0, since it is a scalar\n",
            "7\n",
            "Shape of scalar = torch.Size([])\n"
          ]
        }
      ],
      "source": [
        "scalar = torch.tensor(7)\n",
        "print(type(scalar))\n",
        "print(f\"Num of dimensions = {scalar.ndim}, since it is a scalar\")\n",
        "print(scalar.item())\n",
        "print(f\"Shape of scalar = {scalar.shape}\")"
      ]
    },
    {
      "cell_type": "code",
      "source": [
        "vector = torch.tensor([7,7])\n",
        "print(f\"Num of dimensions = {vector.ndim}\")\n",
        "print(f\"Shape = {vector.shape}\")"
      ],
      "metadata": {
        "id": "p98Hj5P49x3d",
        "colab": {
          "base_uri": "https://localhost:8080/"
        },
        "outputId": "f3daeab5-6f40-42c8-e42b-230838fdc6cf"
      },
      "execution_count": 3,
      "outputs": [
        {
          "output_type": "stream",
          "name": "stdout",
          "text": [
            "Num of dimensions = 1\n",
            "Shape = torch.Size([2])\n"
          ]
        }
      ]
    },
    {
      "cell_type": "code",
      "source": [
        "matrix = torch.tensor([[7,8],\n",
        "                       [9,10]])\n",
        "print(\"No of dimensions\", matrix.ndim)\n",
        "print(\"Shape of matrix\",matrix.shape)"
      ],
      "metadata": {
        "colab": {
          "base_uri": "https://localhost:8080/"
        },
        "id": "ViNz036upiRH",
        "outputId": "49d7c396-3030-4fc2-9130-f8445b109e7f"
      },
      "execution_count": 4,
      "outputs": [
        {
          "output_type": "stream",
          "name": "stdout",
          "text": [
            "No of dimensions 2\n",
            "Shape of matrix torch.Size([2, 2])\n"
          ]
        }
      ]
    },
    {
      "cell_type": "code",
      "source": [
        "tensor = torch.tensor([[[1,2,],\n",
        "                        [3,4],\n",
        "                        [5,6]]])\n",
        "print(\"No of dimensions\",tensor.ndim)\n",
        "print(\"SHape of tensor\", tensor.shape)"
      ],
      "metadata": {
        "colab": {
          "base_uri": "https://localhost:8080/"
        },
        "id": "i_ChKIUfTaa9",
        "outputId": "41bec250-f86e-4a3d-917a-28619558c2d9"
      },
      "execution_count": 5,
      "outputs": [
        {
          "output_type": "stream",
          "name": "stdout",
          "text": [
            "No of dimensions 3\n",
            "SHape of tensor torch.Size([1, 3, 2])\n"
          ]
        }
      ]
    },
    {
      "cell_type": "markdown",
      "source": [
        "## Random tensor initialization\n",
        "Used to create tensors randomly without explicitly specifying the input data"
      ],
      "metadata": {
        "id": "H2dQSQc2Uzb7"
      }
    },
    {
      "cell_type": "code",
      "source": [
        "random_tensor = torch.rand(2,3)\n",
        "random_tensor"
      ],
      "metadata": {
        "colab": {
          "base_uri": "https://localhost:8080/"
        },
        "id": "xh4siK5aUkba",
        "outputId": "4fc9d164-2ef2-4976-c1fd-fa3e6e6f9899"
      },
      "execution_count": 6,
      "outputs": [
        {
          "output_type": "execute_result",
          "data": {
            "text/plain": [
              "tensor([[0.3754, 0.4651, 0.5643],\n",
              "        [0.5746, 0.4828, 0.0918]])"
            ]
          },
          "metadata": {},
          "execution_count": 6
        }
      ]
    },
    {
      "cell_type": "code",
      "source": [
        "random_img_tensor = torch.rand(size=(3,224,224))\n",
        "random_img_tensor.shape, random_img_tensor.ndim"
      ],
      "metadata": {
        "colab": {
          "base_uri": "https://localhost:8080/"
        },
        "id": "klzU26esVT3C",
        "outputId": "4276f00b-d418-4346-df65-4ce408dfe93d"
      },
      "execution_count": 7,
      "outputs": [
        {
          "output_type": "execute_result",
          "data": {
            "text/plain": [
              "(torch.Size([3, 224, 224]), 3)"
            ]
          },
          "metadata": {},
          "execution_count": 7
        }
      ]
    },
    {
      "cell_type": "markdown",
      "source": [
        "## Zeros and Ones"
      ],
      "metadata": {
        "id": "F1-io37welqN"
      }
    },
    {
      "cell_type": "code",
      "source": [
        "# create a tensor of all zeros\n",
        "zeros = torch.zeros(2,3)\n",
        "print(zeros)\n",
        "print(zeros*random_tensor)\n",
        "zeros.dtype"
      ],
      "metadata": {
        "colab": {
          "base_uri": "https://localhost:8080/"
        },
        "id": "vbb-Phwoc2eU",
        "outputId": "5b922350-6890-4320-e0d0-ee0f11f818bf"
      },
      "execution_count": 8,
      "outputs": [
        {
          "output_type": "stream",
          "name": "stdout",
          "text": [
            "tensor([[0., 0., 0.],\n",
            "        [0., 0., 0.]])\n",
            "tensor([[0., 0., 0.],\n",
            "        [0., 0., 0.]])\n"
          ]
        },
        {
          "output_type": "execute_result",
          "data": {
            "text/plain": [
              "torch.float32"
            ]
          },
          "metadata": {},
          "execution_count": 8
        }
      ]
    },
    {
      "cell_type": "code",
      "source": [
        "# create a tensor of all ones\n",
        "ones = torch.ones(2,3)\n",
        "print(ones)\n",
        "print(ones*random_tensor)\n",
        "ones.dtype"
      ],
      "metadata": {
        "colab": {
          "base_uri": "https://localhost:8080/"
        },
        "id": "r_X6Pdu-eyX8",
        "outputId": "0aa77bcd-6c85-4ddf-9410-7443a59e0478"
      },
      "execution_count": 9,
      "outputs": [
        {
          "output_type": "stream",
          "name": "stdout",
          "text": [
            "tensor([[1., 1., 1.],\n",
            "        [1., 1., 1.]])\n",
            "tensor([[0.3754, 0.4651, 0.5643],\n",
            "        [0.5746, 0.4828, 0.0918]])\n"
          ]
        },
        {
          "output_type": "execute_result",
          "data": {
            "text/plain": [
              "torch.float32"
            ]
          },
          "metadata": {},
          "execution_count": 9
        }
      ]
    },
    {
      "cell_type": "markdown",
      "source": [
        "## Range and tensor-like array creation\n",
        "\n",
        "1. The end is not included. [start,end)\n",
        "2. torch.*_like(source_tensor) retains the properties such as shape and ndim of the source_tensor."
      ],
      "metadata": {
        "id": "rY39ohQsgaRI"
      }
    },
    {
      "cell_type": "code",
      "source": [
        "one_ten = torch.arange(start=1, end=11, step=1)\n",
        "one_ten"
      ],
      "metadata": {
        "colab": {
          "base_uri": "https://localhost:8080/"
        },
        "id": "zsfZ-fymfRvX",
        "outputId": "5c048bb8-b94d-47e2-a346-23c73709cd48"
      },
      "execution_count": 10,
      "outputs": [
        {
          "output_type": "execute_result",
          "data": {
            "text/plain": [
              "tensor([ 1,  2,  3,  4,  5,  6,  7,  8,  9, 10])"
            ]
          },
          "metadata": {},
          "execution_count": 10
        }
      ]
    },
    {
      "cell_type": "code",
      "source": [
        "ten_zeros = torch.zeros_like(one_ten)\n",
        "print(ten_zeros)\n",
        "ten_ones = torch.ones_like(one_ten)\n",
        "print(ten_ones)"
      ],
      "metadata": {
        "colab": {
          "base_uri": "https://localhost:8080/"
        },
        "id": "cCJYZH6kgkUU",
        "outputId": "35c169b2-4b05-44b8-c583-d8ff1a13ef60"
      },
      "execution_count": 11,
      "outputs": [
        {
          "output_type": "stream",
          "name": "stdout",
          "text": [
            "tensor([0, 0, 0, 0, 0, 0, 0, 0, 0, 0])\n",
            "tensor([1, 1, 1, 1, 1, 1, 1, 1, 1, 1])\n"
          ]
        }
      ]
    },
    {
      "cell_type": "markdown",
      "source": [
        "## Tensor Datatypes\n",
        "\n",
        "1. The default datatype for floating point numbers is float32\n",
        "2. The default datatype for whole numbers is int64\n",
        "3. float32 is single-precision floating point where as float64 is called double precision floating point\n",
        "4. Important params of tensor()\n",
        "- dtype: datatype(float32, float64, int64, etc.,)\n",
        "- device: type of device on which the tensor is loaded(cpu or gpu)\n",
        "- requires_grad: tells whether gradients need to be computed or not"
      ],
      "metadata": {
        "id": "oWdVGHqAmVMq"
      }
    },
    {
      "cell_type": "code",
      "source": [
        "tensor_int64 = torch.tensor([1,2,3], dtype=None)\n",
        "print(tensor_int64.dtype)\n",
        "tensor_float32 = torch.tensor([1.0,2.0,3.0],\n",
        "                              dtype=None,\n",
        "                              device=None,\n",
        "                              requires_grad=False)\n",
        "print(tensor_float32.dtype)"
      ],
      "metadata": {
        "colab": {
          "base_uri": "https://localhost:8080/"
        },
        "id": "3xY58WnZhJfr",
        "outputId": "e8ded2b9-a9b2-4e6c-e695-708de104fbfc"
      },
      "execution_count": 12,
      "outputs": [
        {
          "output_type": "stream",
          "name": "stdout",
          "text": [
            "torch.int64\n",
            "torch.float32\n"
          ]
        }
      ]
    },
    {
      "cell_type": "code",
      "source": [
        "tensor_float16_1 = torch.tensor([1.0,2.0,3.0],\n",
        "                              dtype=torch.float16,\n",
        "                              device=None)\n",
        "tensor_float16_2 = tensor_float32.type(torch.float16)\n",
        "tensor_float16_2"
      ],
      "metadata": {
        "colab": {
          "base_uri": "https://localhost:8080/"
        },
        "id": "0bsRhAjjmiIv",
        "outputId": "fca04d96-ae1c-40bc-d4ce-943f69f87281"
      },
      "execution_count": 13,
      "outputs": [
        {
          "output_type": "execute_result",
          "data": {
            "text/plain": [
              "tensor([1., 2., 3.], dtype=torch.float16)"
            ]
          },
          "metadata": {},
          "execution_count": 13
        }
      ]
    },
    {
      "cell_type": "code",
      "source": [
        "x = tensor_float32 * tensor_float16_1 # results in float32\n",
        "x, x.dtype"
      ],
      "metadata": {
        "colab": {
          "base_uri": "https://localhost:8080/"
        },
        "id": "mHOAv-kXtqbJ",
        "outputId": "26e82012-5956-40f2-f263-0d5e7f7b5293"
      },
      "execution_count": 14,
      "outputs": [
        {
          "output_type": "execute_result",
          "data": {
            "text/plain": [
              "(tensor([1., 4., 9.]), torch.float32)"
            ]
          },
          "metadata": {},
          "execution_count": 14
        }
      ]
    },
    {
      "cell_type": "markdown",
      "source": [
        "- float64 : torch.float64/ torch.double\n",
        "- int64 : torch.int64/ torch.long\n",
        "- float16 : torch.float16/ torch.half"
      ],
      "metadata": {
        "id": "pbCIMXfdvaeH"
      }
    },
    {
      "cell_type": "markdown",
      "source": [
        "Tensor Attributes\n",
        "1. tensor.shape\n",
        "2. tensor.device\n",
        "3. tensor.dtype\n",
        "\n",
        "Tensor methods\n",
        "- tensor.size()"
      ],
      "metadata": {
        "id": "_VrcIpkXworb"
      }
    },
    {
      "cell_type": "code",
      "source": [
        "tensor_eg = torch.tensor(\n",
        "    data = [1,2,3],\n",
        "    dtype=torch.half\n",
        ")\n",
        "print(tensor_eg.dtype, tensor_eg.device, tensor_eg.shape)\n",
        "print(tensor_eg.size())"
      ],
      "metadata": {
        "id": "9hxXmmryrHtG",
        "colab": {
          "base_uri": "https://localhost:8080/"
        },
        "outputId": "3fe34d6a-71d9-4ed7-ad96-de4f7ea212a4"
      },
      "execution_count": 15,
      "outputs": [
        {
          "output_type": "stream",
          "name": "stdout",
          "text": [
            "torch.float16 cpu torch.Size([3])\n",
            "torch.Size([3])\n"
          ]
        }
      ]
    },
    {
      "cell_type": "markdown",
      "source": [
        "## Tensor Operations\n"
      ],
      "metadata": {
        "id": "9eCe_tWbxMb_"
      }
    },
    {
      "cell_type": "code",
      "source": [
        "tensor = torch.tensor([1,2,3])\n",
        "print(\"Addition\",tensor+10)\n",
        "print(\"Multiplication\",tensor*10)\n",
        "print(\"Exponent\",tensor**3)"
      ],
      "metadata": {
        "colab": {
          "base_uri": "https://localhost:8080/"
        },
        "id": "oSboGztqw3HJ",
        "outputId": "80dd5ddb-5448-4ff9-906e-97583b569dc6"
      },
      "execution_count": 16,
      "outputs": [
        {
          "output_type": "stream",
          "name": "stdout",
          "text": [
            "Addition tensor([11, 12, 13])\n",
            "Multiplication tensor([10, 20, 30])\n",
            "Exponent tensor([ 1,  8, 27])\n"
          ]
        }
      ]
    },
    {
      "cell_type": "code",
      "source": [
        "# not inplace\n",
        "torch.add(tensor,10)\n",
        "torch.mul(tensor,0.1)"
      ],
      "metadata": {
        "colab": {
          "base_uri": "https://localhost:8080/"
        },
        "id": "UQeD3VZSyeWp",
        "outputId": "9073aa42-4ed5-4673-9114-7d8b076420b2"
      },
      "execution_count": 17,
      "outputs": [
        {
          "output_type": "execute_result",
          "data": {
            "text/plain": [
              "tensor([0.1000, 0.2000, 0.3000])"
            ]
          },
          "metadata": {},
          "execution_count": 17
        }
      ]
    },
    {
      "cell_type": "code",
      "source": [
        "# in-place\n",
        "tensor.add_(10)\n",
        "tensor.mul_(2)"
      ],
      "metadata": {
        "colab": {
          "base_uri": "https://localhost:8080/"
        },
        "id": "as-WXH0IxbKj",
        "outputId": "86c5727f-2f3c-44c7-a69a-8773005ed0a0"
      },
      "execution_count": 18,
      "outputs": [
        {
          "output_type": "execute_result",
          "data": {
            "text/plain": [
              "tensor([22, 24, 26])"
            ]
          },
          "metadata": {},
          "execution_count": 18
        }
      ]
    },
    {
      "cell_type": "markdown",
      "source": [
        "## Multiplication\n",
        "- Element-wise multiplication\n",
        "- Matrix Multiplication"
      ],
      "metadata": {
        "id": "LNpg6o1ieti3"
      }
    },
    {
      "cell_type": "code",
      "source": [
        "tensor = torch.tensor([1,2,3,])\n",
        "print('Element-wise multiplication tensor*tensor is')\n",
        "print(tensor*tensor)\n",
        "new_tensor = torch.tensor([4,5,6])\n",
        "print(\"new_tensor*tensor =\",tensor*new_tensor)"
      ],
      "metadata": {
        "colab": {
          "base_uri": "https://localhost:8080/"
        },
        "id": "e4zSJJT1xz_v",
        "outputId": "056bbc3c-816e-46d7-c16c-8554e71ebc7f"
      },
      "execution_count": 19,
      "outputs": [
        {
          "output_type": "stream",
          "name": "stdout",
          "text": [
            "Element-wise multiplication tensor*tensor is\n",
            "tensor([1, 4, 9])\n",
            "new_tensor*tensor = tensor([ 4, 10, 18])\n"
          ]
        }
      ]
    },
    {
      "cell_type": "code",
      "source": [
        "# Matrix multiplication\n",
        "%%time\n",
        "torch.matmul(tensor,tensor)"
      ],
      "metadata": {
        "colab": {
          "base_uri": "https://localhost:8080/"
        },
        "id": "Gc9n9SidfDTd",
        "outputId": "7b72ba7e-bba7-4ad9-8f60-8d64c77e2062"
      },
      "execution_count": 20,
      "outputs": [
        {
          "output_type": "stream",
          "name": "stdout",
          "text": [
            "CPU times: user 339 µs, sys: 919 µs, total: 1.26 ms\n",
            "Wall time: 8.43 ms\n"
          ]
        },
        {
          "output_type": "execute_result",
          "data": {
            "text/plain": [
              "tensor(14)"
            ]
          },
          "metadata": {},
          "execution_count": 20
        }
      ]
    },
    {
      "cell_type": "code",
      "source": [
        "%%time\n",
        "value=0\n",
        "for el in tensor:\n",
        "    value+=el*el\n",
        "print(value)"
      ],
      "metadata": {
        "colab": {
          "base_uri": "https://localhost:8080/"
        },
        "id": "inXnxdnoff2x",
        "outputId": "34ffb74c-1976-452d-a58c-8f2da29fcbba"
      },
      "execution_count": 21,
      "outputs": [
        {
          "output_type": "stream",
          "name": "stdout",
          "text": [
            "tensor(14)\n",
            "CPU times: user 760 µs, sys: 150 µs, total: 910 µs\n",
            "Wall time: 814 µs\n"
          ]
        }
      ]
    },
    {
      "cell_type": "code",
      "source": [
        "mat_1 = torch.tensor([[1,2],\n",
        "                      [3,4]])\n",
        "mat_2 = torch.tensor([1,2])\n",
        "print(\"torch.matmul(mat_1,mat_2) =\",mat_1@mat_2)\n",
        "print(\"torch.matmul(mat_2,mat_1) =\",mat_2@mat_1)\n",
        "print(\"torch.matmul automatically arranges the vector shapes\")"
      ],
      "metadata": {
        "colab": {
          "base_uri": "https://localhost:8080/"
        },
        "id": "ZUOYYZq3hSnR",
        "outputId": "a86179a0-3ee5-4b43-bdc5-10202de932e6"
      },
      "execution_count": 22,
      "outputs": [
        {
          "output_type": "stream",
          "name": "stdout",
          "text": [
            "torch.matmul(mat_1,mat_2) = tensor([ 5, 11])\n",
            "torch.matmul(mat_2,mat_1) = tensor([ 7, 10])\n",
            "torch.matmul automatically arranges the vector shapes\n"
          ]
        }
      ]
    },
    {
      "cell_type": "code",
      "source": [
        "mat_1 = torch.tensor([\n",
        "    [1,2],\n",
        "    [3,4],\n",
        "    [5,6]\n",
        "])\n",
        "mat_2 = torch.tensor([\n",
        "    [7,8],\n",
        "    [9,10],\n",
        "    [11,12]\n",
        "])\n",
        "# torch.mm() is an alias to torch.mamtmul()/ @\n",
        "try:\n",
        "    print(torch.mm(mat_1,mat_2))\n",
        "    print(mat_1.shape, mat_2.shape)\n",
        "    print(\"Shape Error\")\n",
        "except:\n",
        "    print(mat_1.shape, mat_2.T.shape)\n",
        "    print(torch.mm(mat_1,mat_2.T))\n",
        "    print(\"Transpose the mat_2 to make matmul valid\")"
      ],
      "metadata": {
        "id": "rQWCrtMciG0P",
        "colab": {
          "base_uri": "https://localhost:8080/"
        },
        "outputId": "6a2bb9ee-46be-4323-8054-907db98166f4"
      },
      "execution_count": 23,
      "outputs": [
        {
          "output_type": "stream",
          "name": "stdout",
          "text": [
            "torch.Size([3, 2]) torch.Size([2, 3])\n",
            "tensor([[ 23,  29,  35],\n",
            "        [ 53,  67,  81],\n",
            "        [ 83, 105, 127]])\n",
            "Transpose the mat_2 to make matmul valid\n"
          ]
        }
      ]
    },
    {
      "cell_type": "markdown",
      "source": [
        "## Tensor Aggregation\n",
        "min, max, mean and sum"
      ],
      "metadata": {
        "id": "jQsFYmHgsIbZ"
      }
    },
    {
      "cell_type": "code",
      "source": [
        "x = torch.arange(1,100,10)\n",
        "x, x.dtype"
      ],
      "metadata": {
        "colab": {
          "base_uri": "https://localhost:8080/"
        },
        "id": "nyBYe4u5rAPC",
        "outputId": "4dbc2575-c6fb-4527-acf1-b52f092e4145"
      },
      "execution_count": 24,
      "outputs": [
        {
          "output_type": "execute_result",
          "data": {
            "text/plain": [
              "(tensor([ 1, 11, 21, 31, 41, 51, 61, 71, 81, 91]), torch.int64)"
            ]
          },
          "metadata": {},
          "execution_count": 24
        }
      ]
    },
    {
      "cell_type": "code",
      "source": [
        "x.min(), x.max()\n",
        "# x.mean() -> fails because .mean() doesn't work on int64 dtype"
      ],
      "metadata": {
        "colab": {
          "base_uri": "https://localhost:8080/"
        },
        "id": "VbpcuH_IsSjE",
        "outputId": "42342094-408a-4410-c97f-565f741f29fb"
      },
      "execution_count": 25,
      "outputs": [
        {
          "output_type": "execute_result",
          "data": {
            "text/plain": [
              "(tensor(1), tensor(91))"
            ]
          },
          "metadata": {},
          "execution_count": 25
        }
      ]
    },
    {
      "cell_type": "code",
      "source": [
        "x.type(torch.float32).mean()"
      ],
      "metadata": {
        "colab": {
          "base_uri": "https://localhost:8080/"
        },
        "id": "Io8duAjXsjhr",
        "outputId": "dadbc7fe-ca06-42e4-842d-3cdf59926157"
      },
      "execution_count": 26,
      "outputs": [
        {
          "output_type": "execute_result",
          "data": {
            "text/plain": [
              "tensor(46.)"
            ]
          },
          "metadata": {},
          "execution_count": 26
        }
      ]
    },
    {
      "cell_type": "code",
      "source": [
        "x.argmin(), x.argmax()"
      ],
      "metadata": {
        "colab": {
          "base_uri": "https://localhost:8080/"
        },
        "id": "s4Mt6GZGspRY",
        "outputId": "72db5279-4cb0-4a27-87fb-47107c88dbd9"
      },
      "execution_count": 27,
      "outputs": [
        {
          "output_type": "execute_result",
          "data": {
            "text/plain": [
              "(tensor(0), tensor(9))"
            ]
          },
          "metadata": {},
          "execution_count": 27
        }
      ]
    },
    {
      "cell_type": "markdown",
      "source": [
        "## Reshaping, Viewing and Stacking Tensors\n",
        "\n",
        "- reshaping: reshapes into a defined shape\n",
        "- view: returns a view of the input tensor but doesn't change it in the memory\n",
        "- stacking: combine/concatenate multiple tensors\n",
        "- squeeze: removes all `1` dimensions from a tensor\n",
        "- unsqueeze: add a `1` dimension to a target tensor\n",
        "- permute: return a view of the inpupt with dimensions swapped"
      ],
      "metadata": {
        "id": "qN-DnEy31DVB"
      }
    },
    {
      "cell_type": "code",
      "source": [
        "x = torch.arange(1.,10.)\n",
        "x, x.shape"
      ],
      "metadata": {
        "colab": {
          "base_uri": "https://localhost:8080/"
        },
        "id": "mbtfPlAGw0Bp",
        "outputId": "ef710864-b8a4-43bd-b260-33340eb8512a"
      },
      "execution_count": 28,
      "outputs": [
        {
          "output_type": "execute_result",
          "data": {
            "text/plain": [
              "(tensor([1., 2., 3., 4., 5., 6., 7., 8., 9.]), torch.Size([9]))"
            ]
          },
          "metadata": {},
          "execution_count": 28
        }
      ]
    },
    {
      "cell_type": "code",
      "source": [
        "# reshapes the tensor\n",
        "x_reshaped = x.reshape(1,9)\n",
        "x_reshaped , x_reshaped.shape"
      ],
      "metadata": {
        "colab": {
          "base_uri": "https://localhost:8080/"
        },
        "id": "kIUEysR-2Hb6",
        "outputId": "fb058c39-5923-416c-aed7-f9f9aacb34c4"
      },
      "execution_count": 29,
      "outputs": [
        {
          "output_type": "execute_result",
          "data": {
            "text/plain": [
              "(tensor([[1., 2., 3., 4., 5., 6., 7., 8., 9.]]), torch.Size([1, 9]))"
            ]
          },
          "metadata": {},
          "execution_count": 29
        }
      ]
    },
    {
      "cell_type": "code",
      "source": [
        "# creates a view but does not modify the tensor in memory\n",
        "z = x.view(1,9)\n",
        "print(z,z.shape)\n",
        "z[:,0] = 5\n",
        "print(z,z.shape)\n",
        "x"
      ],
      "metadata": {
        "colab": {
          "base_uri": "https://localhost:8080/"
        },
        "id": "0OAfZ0TM2QDW",
        "outputId": "81ba0d01-d38d-4bf3-e7df-cbab77e6eaec"
      },
      "execution_count": 30,
      "outputs": [
        {
          "output_type": "stream",
          "name": "stdout",
          "text": [
            "tensor([[1., 2., 3., 4., 5., 6., 7., 8., 9.]]) torch.Size([1, 9])\n",
            "tensor([[5., 2., 3., 4., 5., 6., 7., 8., 9.]]) torch.Size([1, 9])\n"
          ]
        },
        {
          "output_type": "execute_result",
          "data": {
            "text/plain": [
              "tensor([5., 2., 3., 4., 5., 6., 7., 8., 9.])"
            ]
          },
          "metadata": {},
          "execution_count": 30
        }
      ]
    },
    {
      "cell_type": "code",
      "source": [
        "# stacks the tensors and o/p tensor has a dimension more than the input tensor\n",
        "x_stacked = torch.stack([x_reshaped,x_reshaped,x_reshaped], dim=0)\n",
        "x_stacked, x_stacked.shape"
      ],
      "metadata": {
        "colab": {
          "base_uri": "https://localhost:8080/"
        },
        "id": "sLqrnpNL2p4N",
        "outputId": "58f7f6e5-c333-4acf-f058-5fd56a8059e2"
      },
      "execution_count": 31,
      "outputs": [
        {
          "output_type": "execute_result",
          "data": {
            "text/plain": [
              "(tensor([[[5., 2., 3., 4., 5., 6., 7., 8., 9.]],\n",
              " \n",
              "         [[5., 2., 3., 4., 5., 6., 7., 8., 9.]],\n",
              " \n",
              "         [[5., 2., 3., 4., 5., 6., 7., 8., 9.]]]),\n",
              " torch.Size([3, 1, 9]))"
            ]
          },
          "metadata": {},
          "execution_count": 31
        }
      ]
    },
    {
      "cell_type": "code",
      "source": [
        "# squeeze removes dim 1 in the input tensor\n",
        "x_squeezed = x_reshaped.squeeze()\n",
        "x_squeezed.shape\n",
        "print(f\"Before squeezed: {x_reshaped, x_reshaped.shape}\")\n",
        "print(f\"After squeezed dimension 1 is removed: {x_squeezed, x_squeezed.shape}\")"
      ],
      "metadata": {
        "colab": {
          "base_uri": "https://localhost:8080/"
        },
        "id": "yi15Gtc73W1Q",
        "outputId": "82c3a840-545c-432a-bbee-24cb406870ef"
      },
      "execution_count": 32,
      "outputs": [
        {
          "output_type": "stream",
          "name": "stdout",
          "text": [
            "Before squeezed: (tensor([[5., 2., 3., 4., 5., 6., 7., 8., 9.]]), torch.Size([1, 9]))\n",
            "After squeezed dimension 1 is removed: (tensor([5., 2., 3., 4., 5., 6., 7., 8., 9.]), torch.Size([9]))\n"
          ]
        }
      ]
    },
    {
      "cell_type": "code",
      "source": [
        "# unsqueeze adds dim 1 in the specified dimension of the input tensor\n",
        "x_unsqueezed = x_squeezed.unsqueeze(dim=0)\n",
        "print(x_unsqueezed, x_unsqueezed.shape)\n",
        "x_unsqueezed = x_squeezed.unsqueeze(dim=1)\n",
        "print(x_unsqueezed, x_unsqueezed.shape)"
      ],
      "metadata": {
        "colab": {
          "base_uri": "https://localhost:8080/"
        },
        "id": "PH29-Fpb7OKk",
        "outputId": "8eb56191-c7be-4411-a734-bdf54c089230"
      },
      "execution_count": 33,
      "outputs": [
        {
          "output_type": "stream",
          "name": "stdout",
          "text": [
            "tensor([[5., 2., 3., 4., 5., 6., 7., 8., 9.]]) torch.Size([1, 9])\n",
            "tensor([[5.],\n",
            "        [2.],\n",
            "        [3.],\n",
            "        [4.],\n",
            "        [5.],\n",
            "        [6.],\n",
            "        [7.],\n",
            "        [8.],\n",
            "        [9.]]) torch.Size([9, 1])\n"
          ]
        }
      ]
    },
    {
      "cell_type": "code",
      "source": [
        "# permute returns a view by swapping the dimensions in the specified order. modifying a value in view changes it in the original tensor since the view references the original\n",
        "torch.manual_seed(seed=123)\n",
        "y = torch.rand(size=(3,224,224))\n",
        "print(y[0,0,0])\n",
        "y[0,0,0] = 0.9\n",
        "print(f\"Original shape = {y.shape}\")\n",
        "y_perm1 = y.permute((0,1,2))\n",
        "print(y_perm1[0,0,0])\n",
        "print(f\"Permuted 1 shape = {y_perm1.shape}\")\n",
        "y_perm2 = y.permute((1,0,2))\n",
        "print(y_perm2[0,0,0])\n",
        "print(f\"Permuted 2 shape = {y_perm2.shape}\")\n",
        "y_perm3 = y.permute((1,2,0))\n",
        "print(y_perm3[0,0,0])\n",
        "print(f\"Permuted 3 shape = {y_perm3.shape}\")"
      ],
      "metadata": {
        "colab": {
          "base_uri": "https://localhost:8080/"
        },
        "id": "Ylasdpoc8d-x",
        "outputId": "6849cadf-71a6-4efb-c52d-ff64e3da31c3"
      },
      "execution_count": 34,
      "outputs": [
        {
          "output_type": "stream",
          "name": "stdout",
          "text": [
            "tensor(0.2961)\n",
            "Original shape = torch.Size([3, 224, 224])\n",
            "tensor(0.9000)\n",
            "Permuted 1 shape = torch.Size([3, 224, 224])\n",
            "tensor(0.9000)\n",
            "Permuted 2 shape = torch.Size([224, 3, 224])\n",
            "tensor(0.9000)\n",
            "Permuted 3 shape = torch.Size([224, 224, 3])\n"
          ]
        }
      ]
    },
    {
      "cell_type": "markdown",
      "source": [
        "## Tensor Indexing"
      ],
      "metadata": {
        "id": "TYZTfRFLTbqz"
      }
    },
    {
      "cell_type": "code",
      "source": [
        "x = torch.arange(1,10).reshape(1,3,3)\n",
        "x,x.shape"
      ],
      "metadata": {
        "colab": {
          "base_uri": "https://localhost:8080/"
        },
        "id": "QyoOf_uL-Zmn",
        "outputId": "a57411ff-7b6f-47ad-cea7-37adc67c226f"
      },
      "execution_count": 35,
      "outputs": [
        {
          "output_type": "execute_result",
          "data": {
            "text/plain": [
              "(tensor([[[1, 2, 3],\n",
              "          [4, 5, 6],\n",
              "          [7, 8, 9]]]),\n",
              " torch.Size([1, 3, 3]))"
            ]
          },
          "metadata": {},
          "execution_count": 35
        }
      ]
    },
    {
      "cell_type": "code",
      "source": [
        "x[0]"
      ],
      "metadata": {
        "colab": {
          "base_uri": "https://localhost:8080/"
        },
        "id": "A8_eitmITrRk",
        "outputId": "20113330-4ac5-4540-9d07-51125d8c32fb"
      },
      "execution_count": 36,
      "outputs": [
        {
          "output_type": "execute_result",
          "data": {
            "text/plain": [
              "tensor([[1, 2, 3],\n",
              "        [4, 5, 6],\n",
              "        [7, 8, 9]])"
            ]
          },
          "metadata": {},
          "execution_count": 36
        }
      ]
    },
    {
      "cell_type": "code",
      "source": [
        "x[0,0]"
      ],
      "metadata": {
        "colab": {
          "base_uri": "https://localhost:8080/"
        },
        "id": "IJFxzTThTrO7",
        "outputId": "fe68fe83-717d-4280-e3cf-05c836536e2c"
      },
      "execution_count": 37,
      "outputs": [
        {
          "output_type": "execute_result",
          "data": {
            "text/plain": [
              "tensor([1, 2, 3])"
            ]
          },
          "metadata": {},
          "execution_count": 37
        }
      ]
    },
    {
      "cell_type": "code",
      "source": [
        "x[0,2,2]"
      ],
      "metadata": {
        "colab": {
          "base_uri": "https://localhost:8080/"
        },
        "id": "WcDJ4VffTrJq",
        "outputId": "1f213862-83b0-4b4c-98f9-b0fc47a86f3b"
      },
      "execution_count": 38,
      "outputs": [
        {
          "output_type": "execute_result",
          "data": {
            "text/plain": [
              "tensor(9)"
            ]
          },
          "metadata": {},
          "execution_count": 38
        }
      ]
    },
    {
      "cell_type": "code",
      "source": [
        "# we can use : to select all of a target dimension\n",
        "x[:,0]"
      ],
      "metadata": {
        "colab": {
          "base_uri": "https://localhost:8080/"
        },
        "id": "GPhLUFTjUE60",
        "outputId": "337f70af-029d-41c6-891b-4b6ca7513c41"
      },
      "execution_count": 39,
      "outputs": [
        {
          "output_type": "execute_result",
          "data": {
            "text/plain": [
              "tensor([[1, 2, 3]])"
            ]
          },
          "metadata": {},
          "execution_count": 39
        }
      ]
    },
    {
      "cell_type": "code",
      "source": [
        "x[:,:,1]"
      ],
      "metadata": {
        "colab": {
          "base_uri": "https://localhost:8080/"
        },
        "id": "xmlxixHsUfV6",
        "outputId": "cb58acfc-9671-46f6-ff7f-a47e0b8549c6"
      },
      "execution_count": 40,
      "outputs": [
        {
          "output_type": "execute_result",
          "data": {
            "text/plain": [
              "tensor([[2, 5, 8]])"
            ]
          },
          "metadata": {},
          "execution_count": 40
        }
      ]
    },
    {
      "cell_type": "code",
      "source": [
        "x[:,1,1], x[0,1,1]"
      ],
      "metadata": {
        "colab": {
          "base_uri": "https://localhost:8080/"
        },
        "id": "83odk_EsUpUJ",
        "outputId": "58b74c89-73a2-42aa-a77c-40218b16ade9"
      },
      "execution_count": 41,
      "outputs": [
        {
          "output_type": "execute_result",
          "data": {
            "text/plain": [
              "(tensor([5]), tensor(5))"
            ]
          },
          "metadata": {},
          "execution_count": 41
        }
      ]
    },
    {
      "cell_type": "code",
      "source": [
        "# get index 0 of 0th dim and 1st dim and all values od 2nd dim\n",
        "x[0,0,:]"
      ],
      "metadata": {
        "colab": {
          "base_uri": "https://localhost:8080/"
        },
        "id": "z50JOOzicszl",
        "outputId": "18b49702-4149-43c7-b232-7c4d69cb9fc8"
      },
      "execution_count": 42,
      "outputs": [
        {
          "output_type": "execute_result",
          "data": {
            "text/plain": [
              "tensor([1, 2, 3])"
            ]
          },
          "metadata": {},
          "execution_count": 42
        }
      ]
    },
    {
      "cell_type": "code",
      "source": [
        "# index on x to return 9\n",
        "print(x[0,2,2])\n",
        "\n",
        "# index on x to return 3,6,9\n",
        "x[0,:,2]"
      ],
      "metadata": {
        "colab": {
          "base_uri": "https://localhost:8080/"
        },
        "id": "0D5Qy4dJdOu3",
        "outputId": "28147295-d587-4fb8-e578-8129cb481a2c"
      },
      "execution_count": 43,
      "outputs": [
        {
          "output_type": "stream",
          "name": "stdout",
          "text": [
            "tensor(9)\n"
          ]
        },
        {
          "output_type": "execute_result",
          "data": {
            "text/plain": [
              "tensor([3, 6, 9])"
            ]
          },
          "metadata": {},
          "execution_count": 43
        }
      ]
    },
    {
      "cell_type": "markdown",
      "source": [
        "## PyTorch and NumPy\n",
        "\n",
        "1. NumPy is a popular scientific python numerical computing library\n",
        "2.  PyTorch has the functionality to interact with it"
      ],
      "metadata": {
        "id": "1Pcbh8ZYd0qe"
      }
    },
    {
      "cell_type": "code",
      "source": [
        "# numpy to tensor\n",
        "import numpy as np\n",
        "import torch\n",
        "array = np.arange(1.0,8.0) # default dtype is float64 in numpy\n",
        "# when an np array is converted to tensor, the tensor has dtype=float64 and this creates a new tensor in the memory that is changing tensor doesn't change the numpy array\n",
        "tensor = torch.from_numpy(array)\n",
        "array = array+1\n",
        "print(array, tensor)"
      ],
      "metadata": {
        "colab": {
          "base_uri": "https://localhost:8080/"
        },
        "id": "eV6a4YTwdcdH",
        "outputId": "95c5a4c2-4b9f-47f2-8c78-dc53e27e2b73"
      },
      "execution_count": 44,
      "outputs": [
        {
          "output_type": "stream",
          "name": "stdout",
          "text": [
            "[2. 3. 4. 5. 6. 7. 8.] tensor([1., 2., 3., 4., 5., 6., 7.], dtype=torch.float64)\n"
          ]
        }
      ]
    },
    {
      "cell_type": "code",
      "source": [
        "# tensor to numpy\n",
        "tensor = torch.ones(7)\n",
        "tensor.dtype\n",
        "np_tensor = tensor.numpy() # np_array has same dtype has tensor\n",
        "print(tensor, np_tensor)\n",
        "# changing tensor doesn't change the numpy array\n",
        "tensor = tensor +1\n",
        "print(tensor, np_tensor)\n"
      ],
      "metadata": {
        "colab": {
          "base_uri": "https://localhost:8080/"
        },
        "id": "wgxnOnJ1eZJr",
        "outputId": "c06fc33e-a6c5-413c-9307-a9b840421ae5"
      },
      "execution_count": 45,
      "outputs": [
        {
          "output_type": "stream",
          "name": "stdout",
          "text": [
            "tensor([1., 1., 1., 1., 1., 1., 1.]) [1. 1. 1. 1. 1. 1. 1.]\n",
            "tensor([2., 2., 2., 2., 2., 2., 2.]) [1. 1. 1. 1. 1. 1. 1.]\n"
          ]
        }
      ]
    },
    {
      "cell_type": "markdown",
      "source": [
        "## Reproducibility in Tensors\n",
        "\n",
        "- torch.manual_seed(seed) removes the randomness in the random initializes of tensors and makes then reproducuble"
      ],
      "metadata": {
        "id": "RjZIScExhQ1N"
      }
    },
    {
      "cell_type": "code",
      "source": [
        "torch.manual_seed(seed=1234567890)\n",
        "A = torch.rand(3,3)\n",
        "B = torch.rand(3,3)\n",
        "print(A,B, A==B)\n",
        "\n",
        "torch.manual_seed(seed=1234567890)\n",
        "A = torch.rand(3,3)\n",
        "torch.manual_seed(seed=1234567890)\n",
        "B = torch.rand(3,3)\n",
        "print(A,B,A==B)"
      ],
      "metadata": {
        "colab": {
          "base_uri": "https://localhost:8080/"
        },
        "id": "hmqJb4dJfpOr",
        "outputId": "8e9bf173-0447-48f7-81ce-56040dac2122"
      },
      "execution_count": 46,
      "outputs": [
        {
          "output_type": "stream",
          "name": "stdout",
          "text": [
            "tensor([[0.4115, 0.1703, 0.4556],\n",
            "        [0.1519, 0.5030, 0.5041],\n",
            "        [0.2636, 0.5436, 0.1373]]) tensor([[0.2508, 0.2161, 0.4232],\n",
            "        [0.3683, 0.7578, 0.0032],\n",
            "        [0.3863, 0.2643, 0.1759]]) tensor([[False, False, False],\n",
            "        [False, False, False],\n",
            "        [False, False, False]])\n",
            "tensor([[0.4115, 0.1703, 0.4556],\n",
            "        [0.1519, 0.5030, 0.5041],\n",
            "        [0.2636, 0.5436, 0.1373]]) tensor([[0.4115, 0.1703, 0.4556],\n",
            "        [0.1519, 0.5030, 0.5041],\n",
            "        [0.2636, 0.5436, 0.1373]]) tensor([[True, True, True],\n",
            "        [True, True, True],\n",
            "        [True, True, True]])\n"
          ]
        }
      ]
    },
    {
      "cell_type": "markdown",
      "source": [
        "## Running on GPUs\n",
        "\n",
        "CUDA + NVIDIA + PyTorch == insane_computation speeds"
      ],
      "metadata": {
        "id": "nZcA82FYi28G"
      }
    },
    {
      "cell_type": "code",
      "source": [
        "!nvidia-smi"
      ],
      "metadata": {
        "colab": {
          "base_uri": "https://localhost:8080/"
        },
        "id": "Z4gngVMLhXob",
        "outputId": "a08fbbf8-5738-4c86-8cf6-4d23629d705c"
      },
      "execution_count": 47,
      "outputs": [
        {
          "output_type": "stream",
          "name": "stdout",
          "text": [
            "Mon Jan 20 02:33:44 2025       \n",
            "+---------------------------------------------------------------------------------------+\n",
            "| NVIDIA-SMI 535.104.05             Driver Version: 535.104.05   CUDA Version: 12.2     |\n",
            "|-----------------------------------------+----------------------+----------------------+\n",
            "| GPU  Name                 Persistence-M | Bus-Id        Disp.A | Volatile Uncorr. ECC |\n",
            "| Fan  Temp   Perf          Pwr:Usage/Cap |         Memory-Usage | GPU-Util  Compute M. |\n",
            "|                                         |                      |               MIG M. |\n",
            "|=========================================+======================+======================|\n",
            "|   0  Tesla T4                       Off | 00000000:00:04.0 Off |                    0 |\n",
            "| N/A   46C    P8               9W /  70W |      0MiB / 15360MiB |      0%      Default |\n",
            "|                                         |                      |                  N/A |\n",
            "+-----------------------------------------+----------------------+----------------------+\n",
            "                                                                                         \n",
            "+---------------------------------------------------------------------------------------+\n",
            "| Processes:                                                                            |\n",
            "|  GPU   GI   CI        PID   Type   Process name                            GPU Memory |\n",
            "|        ID   ID                                                             Usage      |\n",
            "|=======================================================================================|\n",
            "|  No running processes found                                                           |\n",
            "+---------------------------------------------------------------------------------------+\n"
          ]
        }
      ]
    },
    {
      "cell_type": "code",
      "source": [
        "torch.cuda.is_available()"
      ],
      "metadata": {
        "colab": {
          "base_uri": "https://localhost:8080/"
        },
        "id": "G2Og2TpIjxJM",
        "outputId": "6e66d040-0ef0-4c09-bfdb-8bed5d482278"
      },
      "execution_count": 48,
      "outputs": [
        {
          "output_type": "execute_result",
          "data": {
            "text/plain": [
              "True"
            ]
          },
          "metadata": {},
          "execution_count": 48
        }
      ]
    },
    {
      "cell_type": "code",
      "source": [
        "device = \"cuda\" if torch.cuda.is_available() else \"cpu\"\n",
        "print(\"Device =\", device)\n",
        "print(\"Number of GPUs =\", torch.cuda.device_count())"
      ],
      "metadata": {
        "colab": {
          "base_uri": "https://localhost:8080/"
        },
        "id": "mmhgYcuNj-AO",
        "outputId": "02015710-0f56-4a0a-b959-c12044f79ea0"
      },
      "execution_count": 53,
      "outputs": [
        {
          "output_type": "stream",
          "name": "stdout",
          "text": [
            "Device = cuda\n",
            "Number of GPUs = 1\n"
          ]
        }
      ]
    },
    {
      "cell_type": "markdown",
      "source": [
        "## Setup device agnostic code and putting tensor on and off GPU"
      ],
      "metadata": {
        "id": "1MRg51CBksaK"
      }
    },
    {
      "cell_type": "code",
      "source": [
        "tensor = torch.tensor([1,2,3])\n",
        "print(tensor, tensor.device)"
      ],
      "metadata": {
        "colab": {
          "base_uri": "https://localhost:8080/"
        },
        "id": "SZmvIcHRkTJE",
        "outputId": "e1387d4f-33be-4791-d4a0-1962ddbd7710"
      },
      "execution_count": 56,
      "outputs": [
        {
          "output_type": "stream",
          "name": "stdout",
          "text": [
            "tensor([1, 2, 3]) cpu\n"
          ]
        }
      ]
    },
    {
      "cell_type": "code",
      "source": [
        "# move tensor to gpu if available\n",
        "device = \"cuda\" if torch.cuda.is_available() else \"cpu\"\n",
        "print(\"Device =\", device)\n",
        "print(\"Number of GPUs =\", torch.cuda.device_count())\n",
        "tensor_gpu = tensor.to(device)\n",
        "print(tensor_gpu)"
      ],
      "metadata": {
        "colab": {
          "base_uri": "https://localhost:8080/"
        },
        "id": "oESmjGWTkWfo",
        "outputId": "d86c4c1e-0ece-454c-b446-2f6bdf385f96"
      },
      "execution_count": 61,
      "outputs": [
        {
          "output_type": "stream",
          "name": "stdout",
          "text": [
            "Device = cuda\n",
            "Number of GPUs = 1\n",
            "tensor([1, 2, 3], device='cuda:0')\n"
          ]
        }
      ]
    },
    {
      "cell_type": "code",
      "source": [
        "# move tensors back to cpu\n",
        "tensor_cpu = tensor_gpu.cpu()\n",
        "print(tensor_cpu, tensor_gpu)"
      ],
      "metadata": {
        "colab": {
          "base_uri": "https://localhost:8080/"
        },
        "id": "CQYdpCF8lCUG",
        "outputId": "00d978b9-2fec-4740-8dd1-586d466b3458"
      },
      "execution_count": 66,
      "outputs": [
        {
          "output_type": "stream",
          "name": "stdout",
          "text": [
            "tensor([1, 2, 3]) tensor([1, 2, 3], device='cuda:0')\n"
          ]
        }
      ]
    },
    {
      "cell_type": "markdown",
      "source": [
        "## Exercises and Problems"
      ],
      "metadata": {
        "id": "fnsWGiZvmON8"
      }
    },
    {
      "cell_type": "code",
      "source": [],
      "metadata": {
        "id": "20DCRM7Jlj3J"
      },
      "execution_count": null,
      "outputs": []
    },
    {
      "cell_type": "code",
      "source": [],
      "metadata": {
        "id": "7KaBgWlWmUsL"
      },
      "execution_count": null,
      "outputs": []
    },
    {
      "cell_type": "code",
      "source": [],
      "metadata": {
        "id": "62psNQWumUmN"
      },
      "execution_count": null,
      "outputs": []
    }
  ],
  "metadata": {
    "colab": {
      "provenance": [],
      "gpuType": "T4",
      "mount_file_id": "1GRnuGLGdynWRsKAqdk6suofbV7CXwiI_",
      "authorship_tag": "ABX9TyNk/16OHvxpEPNB+QvhWXNC",
      "include_colab_link": true
    },
    "kernelspec": {
      "display_name": "Python 3",
      "name": "python3"
    },
    "language_info": {
      "name": "python"
    },
    "accelerator": "GPU"
  },
  "nbformat": 4,
  "nbformat_minor": 0
}