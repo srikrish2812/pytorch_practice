{
  "cells": [
    {
      "cell_type": "markdown",
      "metadata": {
        "id": "view-in-github",
        "colab_type": "text"
      },
      "source": [
        "<a href=\"https://colab.research.google.com/github/srikrish2812/pytorch_practice/blob/main/torch_0.ipynb\" target=\"_parent\"><img src=\"https://colab.research.google.com/assets/colab-badge.svg\" alt=\"Open In Colab\"/></a>"
      ]
    },
    {
      "cell_type": "markdown",
      "source": [
        "## PyTorch Fundamentals\n",
        "\n",
        "Source: https://www.learnpytorch.io/00_pytorch_fundamentals/\n",
        "\n",
        "## PyTorch Workflow\n",
        "\n",
        "1. Get the data ready. Convert them to tensors\n",
        "2. Build or pick a model including loss function, optimizer and build a training loop\n",
        "3. Fit the model to the data and make a prediction\n",
        "4. Evaluate the model/Hyperparameter tuning\n",
        "5. Improve the model through experimentation"
      ],
      "metadata": {
        "id": "_0-Vcny38Up0"
      }
    },
    {
      "cell_type": "code",
      "execution_count": 1,
      "metadata": {
        "colab": {
          "base_uri": "https://localhost:8080/"
        },
        "id": "2ke7X_k-Ibv6",
        "outputId": "aaf1ce11-4a95-4741-e1f1-a1a3c0721855"
      },
      "outputs": [
        {
          "output_type": "stream",
          "name": "stdout",
          "text": [
            "2.5.1+cu121\n",
            "nvcc: NVIDIA (R) Cuda compiler driver\n",
            "Copyright (c) 2005-2023 NVIDIA Corporation\n",
            "Built on Tue_Aug_15_22:02:13_PDT_2023\n",
            "Cuda compilation tools, release 12.2, V12.2.140\n",
            "Build cuda_12.2.r12.2/compiler.33191640_0\n"
          ]
        }
      ],
      "source": [
        "import torch\n",
        "import pandas as pd\n",
        "import numpy as np\n",
        "print(torch.__version__)\n",
        "!nvcc --version"
      ]
    },
    {
      "cell_type": "markdown",
      "source": [
        "## What is a Tensor?\n",
        "1. It is a fundamental data structure in PyTorch used for storing and manipulating data.\n",
        "2. Tensor computations can be parallelized on GPUs to improve the speed.\n",
        "3. Tensors can be scalars, vectors or multi-dimensional arrays."
      ],
      "metadata": {
        "id": "jyNA4zUs3-zv"
      }
    },
    {
      "cell_type": "code",
      "execution_count": 2,
      "metadata": {
        "id": "4Kf2eLsMJvnY",
        "colab": {
          "base_uri": "https://localhost:8080/"
        },
        "outputId": "29fb59fa-53cb-4cb0-97c9-23292cd834d3"
      },
      "outputs": [
        {
          "output_type": "stream",
          "name": "stdout",
          "text": [
            "<class 'torch.Tensor'>\n",
            "Num of dimensions = 0, since it is a scalar\n",
            "7\n",
            "Shape of scalar = torch.Size([])\n"
          ]
        }
      ],
      "source": [
        "scalar = torch.tensor(7)\n",
        "print(type(scalar))\n",
        "print(f\"Num of dimensions = {scalar.ndim}, since it is a scalar\")\n",
        "print(scalar.item())\n",
        "print(f\"Shape of scalar = {scalar.shape}\")"
      ]
    },
    {
      "cell_type": "code",
      "source": [
        "vector = torch.tensor([7,7])\n",
        "print(f\"Num of dimensions = {vector.ndim}\")\n",
        "print(f\"Shape = {vector.shape}\")"
      ],
      "metadata": {
        "id": "p98Hj5P49x3d",
        "colab": {
          "base_uri": "https://localhost:8080/"
        },
        "outputId": "a4fbf53a-e609-4c48-e70c-eee16d24f0b4"
      },
      "execution_count": 3,
      "outputs": [
        {
          "output_type": "stream",
          "name": "stdout",
          "text": [
            "Num of dimensions = 1\n",
            "Shape = torch.Size([2])\n"
          ]
        }
      ]
    },
    {
      "cell_type": "code",
      "source": [
        "matrix = torch.tensor([[7,8],\n",
        "                       [9,10]])\n",
        "print(\"No of dimensions\", matrix.ndim)\n",
        "print(\"Shape of matrix\",matrix.shape)"
      ],
      "metadata": {
        "colab": {
          "base_uri": "https://localhost:8080/"
        },
        "id": "ViNz036upiRH",
        "outputId": "7dc31b39-c8cd-415f-c4eb-d584744de198"
      },
      "execution_count": 4,
      "outputs": [
        {
          "output_type": "stream",
          "name": "stdout",
          "text": [
            "No of dimensions 2\n",
            "Shape of matrix torch.Size([2, 2])\n"
          ]
        }
      ]
    },
    {
      "cell_type": "code",
      "source": [
        "tensor = torch.tensor([[[1,2,],\n",
        "                        [3,4],\n",
        "                        [5,6]]])\n",
        "print(\"No of dimensions\",tensor.ndim)\n",
        "print(\"SHape of tensor\", tensor.shape)"
      ],
      "metadata": {
        "colab": {
          "base_uri": "https://localhost:8080/"
        },
        "id": "i_ChKIUfTaa9",
        "outputId": "d8c13709-c75c-4f5e-98aa-d1cae1842373"
      },
      "execution_count": 5,
      "outputs": [
        {
          "output_type": "stream",
          "name": "stdout",
          "text": [
            "No of dimensions 3\n",
            "SHape of tensor torch.Size([1, 3, 2])\n"
          ]
        }
      ]
    },
    {
      "cell_type": "markdown",
      "source": [
        "## Random tensor initialization\n",
        "Used to create tensors randomly without explicitly specifying the input data"
      ],
      "metadata": {
        "id": "H2dQSQc2Uzb7"
      }
    },
    {
      "cell_type": "code",
      "source": [
        "random_tensor = torch.rand(2,3)\n",
        "random_tensor"
      ],
      "metadata": {
        "colab": {
          "base_uri": "https://localhost:8080/"
        },
        "id": "xh4siK5aUkba",
        "outputId": "84b3381a-56ae-45d5-f0a8-6e8cd0182f47"
      },
      "execution_count": 6,
      "outputs": [
        {
          "output_type": "execute_result",
          "data": {
            "text/plain": [
              "tensor([[0.3456, 0.1987, 0.4402],\n",
              "        [0.6952, 0.0231, 0.6136]])"
            ]
          },
          "metadata": {},
          "execution_count": 6
        }
      ]
    },
    {
      "cell_type": "code",
      "source": [
        "random_img_tensor = torch.rand(size=(3,224,224))\n",
        "random_img_tensor.shape, random_img_tensor.ndim"
      ],
      "metadata": {
        "colab": {
          "base_uri": "https://localhost:8080/"
        },
        "id": "klzU26esVT3C",
        "outputId": "b4ac2acd-17a2-4dd4-c0a2-9cbe3da4fbae"
      },
      "execution_count": 7,
      "outputs": [
        {
          "output_type": "execute_result",
          "data": {
            "text/plain": [
              "(torch.Size([3, 224, 224]), 3)"
            ]
          },
          "metadata": {},
          "execution_count": 7
        }
      ]
    },
    {
      "cell_type": "markdown",
      "source": [
        "## Zeros and Ones"
      ],
      "metadata": {
        "id": "F1-io37welqN"
      }
    },
    {
      "cell_type": "code",
      "source": [
        "# create a tensor of all zeros\n",
        "zeros = torch.zeros(2,3)\n",
        "print(zeros)\n",
        "print(zeros*random_tensor)\n",
        "zeros.dtype"
      ],
      "metadata": {
        "colab": {
          "base_uri": "https://localhost:8080/"
        },
        "id": "vbb-Phwoc2eU",
        "outputId": "527305f1-c13a-48a4-d526-fd7f6bcce76e"
      },
      "execution_count": 8,
      "outputs": [
        {
          "output_type": "stream",
          "name": "stdout",
          "text": [
            "tensor([[0., 0., 0.],\n",
            "        [0., 0., 0.]])\n",
            "tensor([[0., 0., 0.],\n",
            "        [0., 0., 0.]])\n"
          ]
        },
        {
          "output_type": "execute_result",
          "data": {
            "text/plain": [
              "torch.float32"
            ]
          },
          "metadata": {},
          "execution_count": 8
        }
      ]
    },
    {
      "cell_type": "code",
      "source": [
        "# create a tensor of all ones\n",
        "ones = torch.ones(2,3)\n",
        "print(ones)\n",
        "print(ones*random_tensor)\n",
        "ones.dtype"
      ],
      "metadata": {
        "colab": {
          "base_uri": "https://localhost:8080/"
        },
        "id": "r_X6Pdu-eyX8",
        "outputId": "2cfff2c6-f844-4959-a25c-624fb9cbca35"
      },
      "execution_count": 9,
      "outputs": [
        {
          "output_type": "stream",
          "name": "stdout",
          "text": [
            "tensor([[1., 1., 1.],\n",
            "        [1., 1., 1.]])\n",
            "tensor([[0.3456, 0.1987, 0.4402],\n",
            "        [0.6952, 0.0231, 0.6136]])\n"
          ]
        },
        {
          "output_type": "execute_result",
          "data": {
            "text/plain": [
              "torch.float32"
            ]
          },
          "metadata": {},
          "execution_count": 9
        }
      ]
    },
    {
      "cell_type": "markdown",
      "source": [
        "## Range and tensor-like array creation\n",
        "\n",
        "1. The end is not included. [start,end)\n",
        "2. torch.*_like(source_tensor) retains the properties such as shape and ndim of the source_tensor."
      ],
      "metadata": {
        "id": "rY39ohQsgaRI"
      }
    },
    {
      "cell_type": "code",
      "source": [
        "one_ten = torch.arange(start=1, end=11, step=1)\n",
        "one_ten"
      ],
      "metadata": {
        "colab": {
          "base_uri": "https://localhost:8080/"
        },
        "id": "zsfZ-fymfRvX",
        "outputId": "8fe43e9e-e528-4156-9d4d-801296bde8cb"
      },
      "execution_count": 10,
      "outputs": [
        {
          "output_type": "execute_result",
          "data": {
            "text/plain": [
              "tensor([ 1,  2,  3,  4,  5,  6,  7,  8,  9, 10])"
            ]
          },
          "metadata": {},
          "execution_count": 10
        }
      ]
    },
    {
      "cell_type": "code",
      "source": [
        "ten_zeros = torch.zeros_like(one_ten)\n",
        "print(ten_zeros)\n",
        "ten_ones = torch.ones_like(one_ten)\n",
        "print(ten_ones)"
      ],
      "metadata": {
        "colab": {
          "base_uri": "https://localhost:8080/"
        },
        "id": "cCJYZH6kgkUU",
        "outputId": "9f3f1d7b-4491-4c3d-c645-36e3f1958180"
      },
      "execution_count": 11,
      "outputs": [
        {
          "output_type": "stream",
          "name": "stdout",
          "text": [
            "tensor([0, 0, 0, 0, 0, 0, 0, 0, 0, 0])\n",
            "tensor([1, 1, 1, 1, 1, 1, 1, 1, 1, 1])\n"
          ]
        }
      ]
    },
    {
      "cell_type": "markdown",
      "source": [
        "## Tensor Datatypes\n",
        "\n",
        "1. The default datatype for floating point numbers is float32\n",
        "2. The default datatype for whole numbers is int64\n",
        "3. float32 is single-precision floating point where as float64 is called double precision floating point\n",
        "4. Important params of tensor()\n",
        "- dtype: datatype(float32, float64, int64, etc.,)\n",
        "- device: type of device on which the tensor is loaded(cpu or gpu)\n",
        "- requires_grad: tells whether gradients need to be computed or not"
      ],
      "metadata": {
        "id": "oWdVGHqAmVMq"
      }
    },
    {
      "cell_type": "code",
      "source": [
        "tensor_int64 = torch.tensor([1,2,3], dtype=None)\n",
        "print(tensor_int64.dtype)\n",
        "tensor_float32 = torch.tensor([1.0,2.0,3.0],\n",
        "                              dtype=None,\n",
        "                              device=None,\n",
        "                              requires_grad=False)\n",
        "print(tensor_float32.dtype)"
      ],
      "metadata": {
        "colab": {
          "base_uri": "https://localhost:8080/"
        },
        "id": "3xY58WnZhJfr",
        "outputId": "cacaf0df-a7d6-44ab-bc5a-49bc97446016"
      },
      "execution_count": 12,
      "outputs": [
        {
          "output_type": "stream",
          "name": "stdout",
          "text": [
            "torch.int64\n",
            "torch.float32\n"
          ]
        }
      ]
    },
    {
      "cell_type": "code",
      "source": [
        "tensor_float16_1 = torch.tensor([1.0,2.0,3.0],\n",
        "                              dtype=torch.float16,\n",
        "                              device=None)\n",
        "tensor_float16_2 = tensor_float32.type(torch.float16)\n",
        "tensor_float16_2"
      ],
      "metadata": {
        "colab": {
          "base_uri": "https://localhost:8080/"
        },
        "id": "0bsRhAjjmiIv",
        "outputId": "ded96890-e512-40bd-fa25-88b2d448779b"
      },
      "execution_count": 13,
      "outputs": [
        {
          "output_type": "execute_result",
          "data": {
            "text/plain": [
              "tensor([1., 2., 3.], dtype=torch.float16)"
            ]
          },
          "metadata": {},
          "execution_count": 13
        }
      ]
    },
    {
      "cell_type": "code",
      "source": [
        "x = tensor_float32 * tensor_float16_1 # results in float32\n",
        "x, x.dtype"
      ],
      "metadata": {
        "colab": {
          "base_uri": "https://localhost:8080/"
        },
        "id": "mHOAv-kXtqbJ",
        "outputId": "ff966e01-f03b-4208-abb9-9eaf43bf720c"
      },
      "execution_count": 14,
      "outputs": [
        {
          "output_type": "execute_result",
          "data": {
            "text/plain": [
              "(tensor([1., 4., 9.]), torch.float32)"
            ]
          },
          "metadata": {},
          "execution_count": 14
        }
      ]
    },
    {
      "cell_type": "markdown",
      "source": [
        "- float64 : torch.float64/ torch.double\n",
        "- int64 : torch.int64/ torch.long\n",
        "- float16 : torch.float16/ torch.half"
      ],
      "metadata": {
        "id": "pbCIMXfdvaeH"
      }
    },
    {
      "cell_type": "markdown",
      "source": [
        "Tensor Attributes\n",
        "1. tensor.shape\n",
        "2. tensor.device\n",
        "3. tensor.dtype\n",
        "\n",
        "Tensor methods\n",
        "- tensor.size()"
      ],
      "metadata": {
        "id": "_VrcIpkXworb"
      }
    },
    {
      "cell_type": "code",
      "source": [
        "tensor_eg = torch.tensor(\n",
        "    data = [1,2,3],\n",
        "    dtype=torch.half\n",
        ")\n",
        "print(tensor_eg.dtype, tensor_eg.device, tensor_eg.shape)\n",
        "print(tensor_eg.size())"
      ],
      "metadata": {
        "id": "9hxXmmryrHtG",
        "colab": {
          "base_uri": "https://localhost:8080/"
        },
        "outputId": "3b44f919-13da-420b-a4c3-aeaa6bf5e3f5"
      },
      "execution_count": 15,
      "outputs": [
        {
          "output_type": "stream",
          "name": "stdout",
          "text": [
            "torch.float16 cpu torch.Size([3])\n",
            "torch.Size([3])\n"
          ]
        }
      ]
    },
    {
      "cell_type": "markdown",
      "source": [
        "## Tensor Operations\n"
      ],
      "metadata": {
        "id": "9eCe_tWbxMb_"
      }
    },
    {
      "cell_type": "code",
      "source": [
        "tensor = torch.tensor([1,2,3])\n",
        "print(\"Addition\",tensor+10)\n",
        "print(\"Multiplication\",tensor*10)\n",
        "print(\"Exponent\",tensor**3)"
      ],
      "metadata": {
        "colab": {
          "base_uri": "https://localhost:8080/"
        },
        "id": "oSboGztqw3HJ",
        "outputId": "ae2577da-4352-4e95-9eed-523249f421b6"
      },
      "execution_count": 16,
      "outputs": [
        {
          "output_type": "stream",
          "name": "stdout",
          "text": [
            "Addition tensor([11, 12, 13])\n",
            "Multiplication tensor([10, 20, 30])\n",
            "Exponent tensor([ 1,  8, 27])\n"
          ]
        }
      ]
    },
    {
      "cell_type": "code",
      "source": [
        "# not inplace\n",
        "torch.add(tensor,10)\n",
        "torch.mul(tensor,0.1)"
      ],
      "metadata": {
        "colab": {
          "base_uri": "https://localhost:8080/"
        },
        "id": "UQeD3VZSyeWp",
        "outputId": "7af00114-3046-4802-b743-4f23e2ef9775"
      },
      "execution_count": 17,
      "outputs": [
        {
          "output_type": "execute_result",
          "data": {
            "text/plain": [
              "tensor([0.1000, 0.2000, 0.3000])"
            ]
          },
          "metadata": {},
          "execution_count": 17
        }
      ]
    },
    {
      "cell_type": "code",
      "source": [
        "# in-place\n",
        "tensor.add_(10)\n",
        "tensor.mul_(2)"
      ],
      "metadata": {
        "colab": {
          "base_uri": "https://localhost:8080/"
        },
        "id": "as-WXH0IxbKj",
        "outputId": "76da1f11-a921-4503-9289-f72930c5da6c"
      },
      "execution_count": 18,
      "outputs": [
        {
          "output_type": "execute_result",
          "data": {
            "text/plain": [
              "tensor([22, 24, 26])"
            ]
          },
          "metadata": {},
          "execution_count": 18
        }
      ]
    },
    {
      "cell_type": "markdown",
      "source": [
        "## Multiplication\n",
        "- Element-wise multiplication\n",
        "- Matrix Multiplication"
      ],
      "metadata": {
        "id": "LNpg6o1ieti3"
      }
    },
    {
      "cell_type": "code",
      "source": [
        "tensor = torch.tensor([1,2,3,])\n",
        "print('Element-wise multiplication tensor*tensor is')\n",
        "print(tensor*tensor)\n",
        "new_tensor = torch.tensor([4,5,6])\n",
        "print(\"new_tensor*tensor =\",tensor*new_tensor)"
      ],
      "metadata": {
        "colab": {
          "base_uri": "https://localhost:8080/"
        },
        "id": "e4zSJJT1xz_v",
        "outputId": "3efed2a1-02c2-46b8-f990-7ee7d9073898"
      },
      "execution_count": 19,
      "outputs": [
        {
          "output_type": "stream",
          "name": "stdout",
          "text": [
            "Element-wise multiplication tensor*tensor is\n",
            "tensor([1, 4, 9])\n",
            "new_tensor*tensor = tensor([ 4, 10, 18])\n"
          ]
        }
      ]
    },
    {
      "cell_type": "code",
      "source": [
        "# Matrix multiplication\n",
        "%%time\n",
        "torch.matmul(tensor,tensor)"
      ],
      "metadata": {
        "colab": {
          "base_uri": "https://localhost:8080/"
        },
        "id": "Gc9n9SidfDTd",
        "outputId": "f28bafd7-e61b-4094-b85e-942f0ac828e4"
      },
      "execution_count": 20,
      "outputs": [
        {
          "output_type": "stream",
          "name": "stdout",
          "text": [
            "CPU times: user 1.38 ms, sys: 0 ns, total: 1.38 ms\n",
            "Wall time: 10.8 ms\n"
          ]
        },
        {
          "output_type": "execute_result",
          "data": {
            "text/plain": [
              "tensor(14)"
            ]
          },
          "metadata": {},
          "execution_count": 20
        }
      ]
    },
    {
      "cell_type": "code",
      "source": [
        "%%time\n",
        "value=0\n",
        "for el in tensor:\n",
        "    value+=el*el\n",
        "print(value)"
      ],
      "metadata": {
        "colab": {
          "base_uri": "https://localhost:8080/"
        },
        "id": "inXnxdnoff2x",
        "outputId": "3d02b14f-32f0-49d2-8663-665cf93e883f"
      },
      "execution_count": 21,
      "outputs": [
        {
          "output_type": "stream",
          "name": "stdout",
          "text": [
            "tensor(14)\n",
            "CPU times: user 659 µs, sys: 0 ns, total: 659 µs\n",
            "Wall time: 658 µs\n"
          ]
        }
      ]
    },
    {
      "cell_type": "code",
      "source": [
        "mat_1 = torch.tensor([[1,2],\n",
        "                      [3,4]])\n",
        "mat_2 = torch.tensor([1,2])\n",
        "print(\"torch.matmul(mat_1,mat_2) =\",mat_1@mat_2)\n",
        "print(\"torch.matmul(mat_2,mat_1) =\",mat_2@mat_1)\n",
        "print(\"torch.matmul automatically arranges the vector shapes\")"
      ],
      "metadata": {
        "colab": {
          "base_uri": "https://localhost:8080/"
        },
        "id": "ZUOYYZq3hSnR",
        "outputId": "a890e731-8001-4ac0-c749-b677444d07c2"
      },
      "execution_count": 22,
      "outputs": [
        {
          "output_type": "stream",
          "name": "stdout",
          "text": [
            "torch.matmul(mat_1,mat_2) = tensor([ 5, 11])\n",
            "torch.matmul(mat_2,mat_1) = tensor([ 7, 10])\n",
            "torch.matmul automatically arranges the vector shapes\n"
          ]
        }
      ]
    },
    {
      "cell_type": "code",
      "source": [
        "mat_1 = torch.tensor([\n",
        "    [1,2],\n",
        "    [3,4],\n",
        "    [5,6]\n",
        "])\n",
        "mat_2 = torch.tensor([\n",
        "    [7,8],\n",
        "    [9,10],\n",
        "    [11,12]\n",
        "])\n",
        "# torch.mm() is an alias to torch.mamtmul()/ @\n",
        "try:\n",
        "    print(torch.mm(mat_1,mat_2))\n",
        "    print(mat_1.shape, mat_2.shape)\n",
        "    print(\"Shape Error\")\n",
        "except:\n",
        "    print(mat_1.shape, mat_2.T.shape)\n",
        "    print(torch.mm(mat_1,mat_2.T))\n",
        "    print(\"Transpose the mat_2 to make matmul valid\")"
      ],
      "metadata": {
        "id": "rQWCrtMciG0P",
        "colab": {
          "base_uri": "https://localhost:8080/"
        },
        "outputId": "bbb0d09c-f30f-4bce-8992-bd35c12ba5fa"
      },
      "execution_count": 23,
      "outputs": [
        {
          "output_type": "stream",
          "name": "stdout",
          "text": [
            "torch.Size([3, 2]) torch.Size([2, 3])\n",
            "tensor([[ 23,  29,  35],\n",
            "        [ 53,  67,  81],\n",
            "        [ 83, 105, 127]])\n",
            "Transpose the mat_2 to make matmul valid\n"
          ]
        }
      ]
    },
    {
      "cell_type": "markdown",
      "source": [
        "## Tensor Aggregation\n",
        "min, max, mean and sum"
      ],
      "metadata": {
        "id": "jQsFYmHgsIbZ"
      }
    },
    {
      "cell_type": "code",
      "source": [
        "x = torch.arange(1,100,10)\n",
        "x, x.dtype"
      ],
      "metadata": {
        "colab": {
          "base_uri": "https://localhost:8080/"
        },
        "id": "nyBYe4u5rAPC",
        "outputId": "b58f73ec-7467-4007-d8cb-fa7bf06b00f9"
      },
      "execution_count": 24,
      "outputs": [
        {
          "output_type": "execute_result",
          "data": {
            "text/plain": [
              "(tensor([ 1, 11, 21, 31, 41, 51, 61, 71, 81, 91]), torch.int64)"
            ]
          },
          "metadata": {},
          "execution_count": 24
        }
      ]
    },
    {
      "cell_type": "code",
      "source": [
        "x.min(), x.max()\n",
        "# x.mean() -> fails because .mean() doesn't work on int64 dtype"
      ],
      "metadata": {
        "colab": {
          "base_uri": "https://localhost:8080/"
        },
        "id": "VbpcuH_IsSjE",
        "outputId": "6ac04973-3ae7-4eac-be54-afe282f43ff3"
      },
      "execution_count": 25,
      "outputs": [
        {
          "output_type": "execute_result",
          "data": {
            "text/plain": [
              "(tensor(1), tensor(91))"
            ]
          },
          "metadata": {},
          "execution_count": 25
        }
      ]
    },
    {
      "cell_type": "code",
      "source": [
        "x.type(torch.float32).mean()"
      ],
      "metadata": {
        "colab": {
          "base_uri": "https://localhost:8080/"
        },
        "id": "Io8duAjXsjhr",
        "outputId": "79ff105f-c6f9-4e36-8820-00a2cdeadac7"
      },
      "execution_count": 26,
      "outputs": [
        {
          "output_type": "execute_result",
          "data": {
            "text/plain": [
              "tensor(46.)"
            ]
          },
          "metadata": {},
          "execution_count": 26
        }
      ]
    },
    {
      "cell_type": "code",
      "source": [
        "x.argmin(), x.argmax()"
      ],
      "metadata": {
        "colab": {
          "base_uri": "https://localhost:8080/"
        },
        "id": "s4Mt6GZGspRY",
        "outputId": "c7202bf7-bd4c-4f2e-a040-7e7d384d0618"
      },
      "execution_count": 27,
      "outputs": [
        {
          "output_type": "execute_result",
          "data": {
            "text/plain": [
              "(tensor(0), tensor(9))"
            ]
          },
          "metadata": {},
          "execution_count": 27
        }
      ]
    },
    {
      "cell_type": "markdown",
      "source": [
        "## Reshaping, Viewing and Stacking Tensors\n",
        "\n",
        "- reshaping: reshapes into a defined shape\n",
        "- view: returns a view of the input tensor but doesn't change it in the memory\n",
        "- stacking: combine/concatenate multiple tensors\n",
        "- squeeze: removes all `1` dimensions from a tensor\n",
        "- unsqueeze: add a `1` dimension to a target tensor\n",
        "- permute: return a view of the inpupt with dimensions swapped"
      ],
      "metadata": {
        "id": "qN-DnEy31DVB"
      }
    },
    {
      "cell_type": "code",
      "source": [
        "x = torch.arange(1.,10.)\n",
        "x, x.shape"
      ],
      "metadata": {
        "colab": {
          "base_uri": "https://localhost:8080/"
        },
        "id": "mbtfPlAGw0Bp",
        "outputId": "46f6d7af-dc64-46ff-a579-d4b8f35e1de3"
      },
      "execution_count": 95,
      "outputs": [
        {
          "output_type": "execute_result",
          "data": {
            "text/plain": [
              "(tensor([1., 2., 3., 4., 5., 6., 7., 8., 9.]), torch.Size([9]))"
            ]
          },
          "metadata": {},
          "execution_count": 95
        }
      ]
    },
    {
      "cell_type": "code",
      "source": [
        "# reshapes the tensor\n",
        "x_reshaped = x.reshape(1,9)\n",
        "x_reshaped , x_reshaped.shape"
      ],
      "metadata": {
        "colab": {
          "base_uri": "https://localhost:8080/"
        },
        "id": "kIUEysR-2Hb6",
        "outputId": "58a83864-c59a-4db9-a20f-327875948e3f"
      },
      "execution_count": 96,
      "outputs": [
        {
          "output_type": "execute_result",
          "data": {
            "text/plain": [
              "(tensor([[1., 2., 3., 4., 5., 6., 7., 8., 9.]]), torch.Size([1, 9]))"
            ]
          },
          "metadata": {},
          "execution_count": 96
        }
      ]
    },
    {
      "cell_type": "code",
      "source": [
        "# creates a view but does not modify the tensor in memory\n",
        "z = x.view(1,9)\n",
        "print(z,z.shape)\n",
        "z[:,0] = 5\n",
        "print(z,z.shape)\n",
        "x"
      ],
      "metadata": {
        "colab": {
          "base_uri": "https://localhost:8080/"
        },
        "id": "0OAfZ0TM2QDW",
        "outputId": "05e7d13b-e50b-4a8b-a311-e517957c109f"
      },
      "execution_count": 97,
      "outputs": [
        {
          "output_type": "stream",
          "name": "stdout",
          "text": [
            "tensor([[1., 2., 3., 4., 5., 6., 7., 8., 9.]]) torch.Size([1, 9])\n",
            "tensor([[5., 2., 3., 4., 5., 6., 7., 8., 9.]]) torch.Size([1, 9])\n"
          ]
        },
        {
          "output_type": "execute_result",
          "data": {
            "text/plain": [
              "tensor([5., 2., 3., 4., 5., 6., 7., 8., 9.])"
            ]
          },
          "metadata": {},
          "execution_count": 97
        }
      ]
    },
    {
      "cell_type": "code",
      "source": [
        "# stacks the tensors and o/p tensor has a dimension more than the input tensor\n",
        "x_stacked = torch.stack([x_reshaped,x_reshaped,x_reshaped], dim=0)\n",
        "x_stacked, x_stacked.shape"
      ],
      "metadata": {
        "colab": {
          "base_uri": "https://localhost:8080/"
        },
        "id": "sLqrnpNL2p4N",
        "outputId": "ca5e83ec-b57e-43ec-cc15-00188363fbed"
      },
      "execution_count": 101,
      "outputs": [
        {
          "output_type": "execute_result",
          "data": {
            "text/plain": [
              "(tensor([[[5., 2., 3., 4., 5., 6., 7., 8., 9.]],\n",
              " \n",
              "         [[5., 2., 3., 4., 5., 6., 7., 8., 9.]],\n",
              " \n",
              "         [[5., 2., 3., 4., 5., 6., 7., 8., 9.]]]),\n",
              " torch.Size([3, 1, 9]))"
            ]
          },
          "metadata": {},
          "execution_count": 101
        }
      ]
    },
    {
      "cell_type": "code",
      "source": [
        "# squeeze removes dim 1 in the input tensor\n",
        "x_squeezed = x_reshaped.squeeze()\n",
        "x_squeezed.shape\n",
        "print(f\"Before squeezed: {x_reshaped, x_reshaped.shape}\")\n",
        "print(f\"After squeezed dimension 1 is removed: {x_squeezed, x_squeezed.shape}\")"
      ],
      "metadata": {
        "colab": {
          "base_uri": "https://localhost:8080/"
        },
        "id": "yi15Gtc73W1Q",
        "outputId": "6f5541eb-d609-49c6-8987-e3f4501b5198"
      },
      "execution_count": 102,
      "outputs": [
        {
          "output_type": "stream",
          "name": "stdout",
          "text": [
            "Before squeezed: (tensor([[5., 2., 3., 4., 5., 6., 7., 8., 9.]]), torch.Size([1, 9]))\n",
            "After squeezed dimension 1 is removed: (tensor([5., 2., 3., 4., 5., 6., 7., 8., 9.]), torch.Size([9]))\n"
          ]
        }
      ]
    },
    {
      "cell_type": "code",
      "source": [
        "# unsqueeze adds dim 1 in the specified dimension of the input tensor\n",
        "x_unsqueezed = x_squeezed.unsqueeze(dim=0)\n",
        "print(x_unsqueezed, x_unsqueezed.shape)\n",
        "x_unsqueezed = x_squeezed.unsqueeze(dim=1)\n",
        "print(x_unsqueezed, x_unsqueezed.shape)"
      ],
      "metadata": {
        "colab": {
          "base_uri": "https://localhost:8080/"
        },
        "id": "PH29-Fpb7OKk",
        "outputId": "41f60a70-4694-411a-f9aa-2a76187f0c3c"
      },
      "execution_count": 105,
      "outputs": [
        {
          "output_type": "stream",
          "name": "stdout",
          "text": [
            "tensor([[5., 2., 3., 4., 5., 6., 7., 8., 9.]]) torch.Size([1, 9])\n",
            "tensor([[5.],\n",
            "        [2.],\n",
            "        [3.],\n",
            "        [4.],\n",
            "        [5.],\n",
            "        [6.],\n",
            "        [7.],\n",
            "        [8.],\n",
            "        [9.]]) torch.Size([9, 1])\n"
          ]
        }
      ]
    },
    {
      "cell_type": "code",
      "source": [
        "# permute returns a view by swapping the dimensions in the specified order. modifying a value in view changes it in the original tensor since the view references the original\n",
        "\n",
        "y = torch.rand(size=(3,224,224))\n",
        "print(y[0,0,0])\n",
        "y[0,0,0] = 0.9\n",
        "print(f\"Original shape = {y.shape}\")\n",
        "y_perm1 = y.permute((0,1,2))\n",
        "print(y_perm1[0,0,0])\n",
        "print(f\"Permuted 1 shape = {y_perm1.shape}\")\n",
        "y_perm2 = y.permute((1,0,2))\n",
        "print(y_perm2[0,0,0])\n",
        "print(f\"Permuted 2 shape = {y_perm2.shape}\")\n",
        "y_perm3 = y.permute((1,2,0))\n",
        "print(y_perm3[0,0,0])\n",
        "print(f\"Permuted 3 shape = {y_perm3.shape}\")"
      ],
      "metadata": {
        "colab": {
          "base_uri": "https://localhost:8080/"
        },
        "id": "Ylasdpoc8d-x",
        "outputId": "e6734f21-4ebd-4ea9-f672-15d8729e26b5"
      },
      "execution_count": 116,
      "outputs": [
        {
          "output_type": "stream",
          "name": "stdout",
          "text": [
            "tensor(0.0709)\n",
            "Original shape = torch.Size([3, 224, 224])\n",
            "tensor(0.9000)\n",
            "Permuted 1 shape = torch.Size([3, 224, 224])\n",
            "tensor(0.9000)\n",
            "Permuted 2 shape = torch.Size([224, 3, 224])\n",
            "tensor(0.9000)\n",
            "Permuted 3 shape = torch.Size([224, 224, 3])\n"
          ]
        }
      ]
    },
    {
      "cell_type": "code",
      "source": [],
      "metadata": {
        "id": "QyoOf_uL-Zmn"
      },
      "execution_count": null,
      "outputs": []
    }
  ],
  "metadata": {
    "colab": {
      "provenance": [],
      "mount_file_id": "1GRnuGLGdynWRsKAqdk6suofbV7CXwiI_",
      "authorship_tag": "ABX9TyOT9K/KV+poc0fPMTJgjxA/",
      "include_colab_link": true
    },
    "kernelspec": {
      "display_name": "Python 3",
      "name": "python3"
    },
    "language_info": {
      "name": "python"
    }
  },
  "nbformat": 4,
  "nbformat_minor": 0
}