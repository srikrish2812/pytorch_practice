{
  "nbformat": 4,
  "nbformat_minor": 0,
  "metadata": {
    "colab": {
      "provenance": [],
      "collapsed_sections": [
        "WizQ6yZvDHBR",
        "jjvgWTbQELqF",
        "YY7WQj1wFoS2"
      ],
      "authorship_tag": "ABX9TyPtBSK71IqG2IOsSXGMjBER",
      "include_colab_link": true
    },
    "kernelspec": {
      "name": "python3",
      "display_name": "Python 3"
    },
    "language_info": {
      "name": "python"
    }
  },
  "cells": [
    {
      "cell_type": "markdown",
      "metadata": {
        "id": "view-in-github",
        "colab_type": "text"
      },
      "source": [
        "<a href=\"https://colab.research.google.com/github/srikrish2812/pytorch_practice/blob/main/torch_1_workflow.ipynb\" target=\"_parent\"><img src=\"https://colab.research.google.com/assets/colab-badge.svg\" alt=\"Open In Colab\"/></a>"
      ]
    },
    {
      "cell_type": "markdown",
      "source": [
        "## PyTorch Workflow:\n",
        "\n",
        "1. Prepare the data and load\n",
        "2. Build the model\n",
        "3. Fit/Train the model\n",
        "4. Making the predictions and evaluating the model\n",
        "5. Saving and loading the model"
      ],
      "metadata": {
        "id": "PDopJm-rAdAn"
      }
    },
    {
      "cell_type": "code",
      "execution_count": 2,
      "metadata": {
        "colab": {
          "base_uri": "https://localhost:8080/",
          "height": 35
        },
        "id": "B4dxhpU7AS_3",
        "outputId": "e1eea3fd-a83d-4e9f-83cc-8c1a66f40234"
      },
      "outputs": [
        {
          "output_type": "execute_result",
          "data": {
            "text/plain": [
              "'2.5.1+cu121'"
            ],
            "application/vnd.google.colaboratory.intrinsic+json": {
              "type": "string"
            }
          },
          "metadata": {},
          "execution_count": 2
        }
      ],
      "source": [
        "import torch\n",
        "from torch import nn\n",
        "import matplotlib.pyplot as plt\n",
        "import numpy as np\n",
        "\n",
        "torch.__version__"
      ]
    },
    {
      "cell_type": "markdown",
      "source": [
        "## Preparing Data and Loading\n",
        "- Excel/CSV sheets\n",
        "- Images\n",
        "- Videos\n",
        "- Audio\n",
        "- DNA\n",
        "- Text\n",
        "\n",
        "**We need to transform the data into a numerical representation**\n",
        "\n",
        "1. We will simulate the data using linear regression formula"
      ],
      "metadata": {
        "id": "TyMMjTL2Bkan"
      }
    },
    {
      "cell_type": "code",
      "source": [
        "weight = 0.7\n",
        "bias = 0.3\n",
        "\n",
        "start = 0\n",
        "end = 1\n",
        "step = 0.02\n",
        "X  = torch.arange(start,end,step).unsqueeze(dim=1)\n",
        "y = weight*X + bias\n",
        "X[:10], y[:10]"
      ],
      "metadata": {
        "colab": {
          "base_uri": "https://localhost:8080/"
        },
        "id": "SdphPMIJBe1D",
        "outputId": "e4314b3e-7663-4abf-f9ea-eae3c43a4add"
      },
      "execution_count": 3,
      "outputs": [
        {
          "output_type": "execute_result",
          "data": {
            "text/plain": [
              "(tensor([[0.0000],\n",
              "         [0.0200],\n",
              "         [0.0400],\n",
              "         [0.0600],\n",
              "         [0.0800],\n",
              "         [0.1000],\n",
              "         [0.1200],\n",
              "         [0.1400],\n",
              "         [0.1600],\n",
              "         [0.1800]]),\n",
              " tensor([[0.3000],\n",
              "         [0.3140],\n",
              "         [0.3280],\n",
              "         [0.3420],\n",
              "         [0.3560],\n",
              "         [0.3700],\n",
              "         [0.3840],\n",
              "         [0.3980],\n",
              "         [0.4120],\n",
              "         [0.4260]]))"
            ]
          },
          "metadata": {},
          "execution_count": 3
        }
      ]
    },
    {
      "cell_type": "markdown",
      "source": [
        "## Splitting data into train and test sets"
      ],
      "metadata": {
        "id": "p9jwgOzOGK57"
      }
    },
    {
      "cell_type": "code",
      "source": [
        "train_split = int(0.8*len(X))\n",
        "X_train, y_train = X[:train_split], y[:train_split]\n",
        "X_test, y_test = X[train_split:], y[train_split:]\n",
        "\n",
        "len(X_train), len(X_test)"
      ],
      "metadata": {
        "colab": {
          "base_uri": "https://localhost:8080/"
        },
        "id": "gQCK5zd9FnW8",
        "outputId": "973b1aae-fd55-44f6-cd2d-606410b03e21"
      },
      "execution_count": 4,
      "outputs": [
        {
          "output_type": "execute_result",
          "data": {
            "text/plain": [
              "(40, 10)"
            ]
          },
          "metadata": {},
          "execution_count": 4
        }
      ]
    },
    {
      "cell_type": "markdown",
      "source": [
        "## Visualize the Data\n"
      ],
      "metadata": {
        "id": "9qK7bExAHZCm"
      }
    },
    {
      "cell_type": "code",
      "source": [
        "def plot_predictions(train_data=X_train,\n",
        "                     train_labels = y_train,\n",
        "                     test_data = X_test,\n",
        "                     test_labels = y_test,\n",
        "                     predictions=None):\n",
        "    plt.figure(figsize=(9,7))\n",
        "    # plot the training data\n",
        "    plt.scatter(train_data, train_labels, c=\"b\",s=4, label=\"Training data\")\n",
        "\n",
        "    # plot the testing data\n",
        "    plt.scatter(test_data, test_labels, c=\"g\",s=4, label=\"Testing data\")\n",
        "\n",
        "    if predictions is not None:\n",
        "        plt.scatter(test_data, predictions,c=\"r\", s=4, label=\"Predictions\")\n",
        "    plt.legend(prop={\"size\":14})"
      ],
      "metadata": {
        "id": "Z7goIyGxGn6V"
      },
      "execution_count": 5,
      "outputs": []
    },
    {
      "cell_type": "code",
      "source": [
        "plot_predictions()"
      ],
      "metadata": {
        "colab": {
          "base_uri": "https://localhost:8080/",
          "height": 599
        },
        "id": "JRclYG2XIk5d",
        "outputId": "ef429321-b216-4d48-c244-dc70e48b4393"
      },
      "execution_count": 6,
      "outputs": [
        {
          "output_type": "display_data",
          "data": {
            "text/plain": [
              "<Figure size 900x700 with 1 Axes>"
            ],
            "image/png": "[encoded data removed]"
          },
          "metadata": {}
        }
      ]
    },
    {
      "cell_type": "markdown",
      "source": [
        "## Build the model"
      ],
      "metadata": {
        "id": "egoAFAmIJCiJ"
      }
    },
    {
      "cell_type": "code",
      "source": [
        "class LinearRegressionModel(nn.Module):\n",
        "    \"\"\"\n",
        "    Almost every pytorch model subclasses nn.Module\n",
        "    \"\"\"\n",
        "    def __init__(self):\n",
        "        super().__init__() # inherits attributes and methods from nn.Module\n",
        "        self.weights = nn.Parameter(torch.randn(1,requires_grad=True, dtype=torch.float32))\n",
        "        self.bias = nn.Parameter(torch.randn(1,requires_grad=True, dtype=torch.float32))\n",
        "\n",
        "    def forward(self, x:torch.Tensor) -> torch.Tensor:\n",
        "        return self.weights*x + self.bias\n"
      ],
      "metadata": {
        "id": "YgHzvAvrImes"
      },
      "execution_count": 7,
      "outputs": []
    },
    {
      "cell_type": "markdown",
      "source": [
        "### Pytorch model building essentials\n",
        "\n",
        "- torch.nn: contains the components to build computational graphs. A neural network is a directed acyclic graph\n",
        "- torch.nn.Parameter - what parameters should our model try and learn, often a PyTorch layer from torch.nn will set these for us\n",
        "- torch.nn.Module: The base class for all neural network modules, if you subclass it you should overwrite forward()\n",
        "- torch.optim: diffrent types of optimization algorithms for gradient descent"
      ],
      "metadata": {
        "id": "CJYhwD8kNTmL"
      }
    },
    {
      "cell_type": "markdown",
      "source": [
        "## Check the model contents"
      ],
      "metadata": {
        "id": "gE4tYFXZPjrA"
      }
    },
    {
      "cell_type": "code",
      "source": [
        "torch.manual_seed(42)\n",
        "\n",
        "model_0 = LinearRegressionModel()\n",
        "print(list(model_0.parameters()))\n",
        "model_0.state_dict()"
      ],
      "metadata": {
        "colab": {
          "base_uri": "https://localhost:8080/"
        },
        "id": "sskak7uiLSvq",
        "outputId": "cbe151cd-2b7a-4a9d-9876-914c9fc3acc1"
      },
      "execution_count": 8,
      "outputs": [
        {
          "output_type": "stream",
          "name": "stdout",
          "text": [
            "[Parameter containing:\n",
            "tensor([0.3367], requires_grad=True), Parameter containing:\n",
            "tensor([0.1288], requires_grad=True)]\n"
          ]
        },
        {
          "output_type": "execute_result",
          "data": {
            "text/plain": [
              "OrderedDict([('weights', tensor([0.3367])), ('bias', tensor([0.1288]))])"
            ]
          },
          "metadata": {},
          "execution_count": 8
        }
      ]
    },
    {
      "cell_type": "markdown",
      "source": [
        "### Making the prediction using `torch.inference_mode()`\n",
        "\n",
        "- When we pass data thorugh our model it's going to run it trhough the `forward()` method\n",
        "https://pytorch.org/docs/stable/generated/torch.autograd.grad_mode.inference_mode.html"
      ],
      "metadata": {
        "id": "nlK0adf8SSrh"
      }
    },
    {
      "cell_type": "code",
      "source": [
        "model_0(X_test)"
      ],
      "metadata": {
        "colab": {
          "base_uri": "https://localhost:8080/"
        },
        "id": "0mBJtOYHTy8W",
        "outputId": "2078fd5f-a906-4d09-a108-3c72a985def3"
      },
      "execution_count": 9,
      "outputs": [
        {
          "output_type": "execute_result",
          "data": {
            "text/plain": [
              "tensor([[0.3982],\n",
              "        [0.4049],\n",
              "        [0.4116],\n",
              "        [0.4184],\n",
              "        [0.4251],\n",
              "        [0.4318],\n",
              "        [0.4386],\n",
              "        [0.4453],\n",
              "        [0.4520],\n",
              "        [0.4588]], grad_fn=<AddBackward0>)"
            ]
          },
          "metadata": {},
          "execution_count": 9
        }
      ]
    },
    {
      "cell_type": "code",
      "source": [
        "# make predictions with model\n",
        "# with torch.inference removes the gradient tracking as\n",
        "# it is not required while getting the predictions on the test set since we are not training. There is no need to track gradients\n",
        "with torch.inference_mode():\n",
        "    y_preds = model_0(X_test)\n",
        "y_preds"
      ],
      "metadata": {
        "colab": {
          "base_uri": "https://localhost:8080/"
        },
        "id": "cUgQ9ueRSEiF",
        "outputId": "5d87af9b-2a0c-44e9-d4d7-48756177462f"
      },
      "execution_count": 10,
      "outputs": [
        {
          "output_type": "execute_result",
          "data": {
            "text/plain": [
              "tensor([[0.3982],\n",
              "        [0.4049],\n",
              "        [0.4116],\n",
              "        [0.4184],\n",
              "        [0.4251],\n",
              "        [0.4318],\n",
              "        [0.4386],\n",
              "        [0.4453],\n",
              "        [0.4520],\n",
              "        [0.4588]])"
            ]
          },
          "metadata": {},
          "execution_count": 10
        }
      ]
    },
    {
      "cell_type": "code",
      "source": [
        "plot_predictions(predictions=y_preds)"
      ],
      "metadata": {
        "colab": {
          "base_uri": "https://localhost:8080/",
          "height": 599
        },
        "id": "-sqaLjN7TE9a",
        "outputId": "f97db209-98d1-4195-b6c3-6f0fae7023fd"
      },
      "execution_count": 11,
      "outputs": [
        {
          "output_type": "display_data",
          "data": {
            "text/plain": [
              "<Figure size 900x700 with 1 Axes>"
            ],
            "image/png": "[encoded data removed]"
          },
          "metadata": {}
        }
      ]
    },
    {
      "cell_type": "markdown",
      "source": [
        "## Training Intuition\n",
        "\n",
        "1. The whole idea of training is for a model to move from some unknown parameters to some known parameters.\n",
        "2. Or in other words from a poor representation of data to a better represenation\n",
        "3. A loss function can be used to quantify how wrong a model's predictions are wrt the ground truth values\n",
        "4. Optimizers take into account the loss of a model and adjusts the model's parameters in the direction of decreasing loss"
      ],
      "metadata": {
        "id": "IN0qahbRRYJB"
      }
    },
    {
      "cell_type": "code",
      "source": [
        "list(model_0.parameters())"
      ],
      "metadata": {
        "id": "XaA3_DUaTdTu",
        "colab": {
          "base_uri": "https://localhost:8080/"
        },
        "outputId": "eb94abb8-1b73-43d7-e88a-4d30809ae165"
      },
      "execution_count": 12,
      "outputs": [
        {
          "output_type": "execute_result",
          "data": {
            "text/plain": [
              "[Parameter containing:\n",
              " tensor([0.3367], requires_grad=True),\n",
              " Parameter containing:\n",
              " tensor([0.1288], requires_grad=True)]"
            ]
          },
          "metadata": {},
          "execution_count": 12
        }
      ]
    },
    {
      "cell_type": "code",
      "source": [
        "# Setup a loss function\n",
        "loss_fn = nn.L1Loss()\n",
        "\n",
        "# setup the optimizer\n",
        "optimizer = torch.optim.SGD(params=model_0.parameters(),\n",
        "                            lr = 0.01)"
      ],
      "metadata": {
        "id": "UBC0mwAmd0bD"
      },
      "execution_count": 13,
      "outputs": []
    },
    {
      "cell_type": "markdown",
      "source": [
        "## Building a training loop and testing loop in PyTorch\n",
        "\n",
        "0. Loop through the data\n",
        "1. Forward pass: moving through the model's `forward()` to get the predictions on data\n",
        "2. Calculate the loss(compare forward pass to ground truth labels)\n",
        "3. Optimizer zero grad\n",
        "4. Back Propagation - move backwards through the network to calculate the gradients of loss wrt each parameter\n",
        "5. Adjust the parameter to reduce the loss iteratively. Use optimizer step"
      ],
      "metadata": {
        "id": "zmYqLSxphU63"
      }
    },
    {
      "cell_type": "code",
      "source": [
        "epochs = 200\n",
        "torch.manual_seed(42)\n",
        "\n",
        "epoch_count = []\n",
        "loss_value = []\n",
        "test_loss_values = []\n",
        "# 0. looping data\n",
        "for epoch in range(epochs):\n",
        "    # set the model to traiing mode\n",
        "    model_0.train() # train() mode sets all params that requires gradients to require_gradients=True\n",
        "\n",
        "    # 1. Forward Pass\n",
        "    y_pred = model_0(X_train)\n",
        "\n",
        "    # 2. Calculate loss\n",
        "    loss = loss_fn(y_pred, y_train)\n",
        "    #print(\"Loss:\",loss)\n",
        "\n",
        "    # 3. Zero the optimizer gradients\n",
        "    optimizer.zero_grad()\n",
        "\n",
        "    # 4. Perform back propagation\n",
        "    loss.backward()\n",
        "\n",
        "    # 5. Step the optimizer\n",
        "    optimizer.step() # how the optimizer changes will accumulate through the loop so we have to zero them in step 3\n",
        "\n",
        "    # Testing\n",
        "    model_0.eval() # turns off gradient tracking\n",
        "    with torch.inference_mode(): # this mode turns off gradient tracking and some more settings\n",
        "        # 1. Do the forward pass\n",
        "        test_pred = model_0(X_test)\n",
        "\n",
        "        # 2. Calculate the loss\n",
        "        test_loss = loss_fn(test_pred, y_test)\n",
        "\n",
        "    if epoch%10==0:\n",
        "        epoch_count.append(epoch)\n",
        "        loss_value.append(np.array(torch.tensor(loss).cpu().numpy()))\n",
        "        test_loss_values.append(test_loss)\n",
        "        print(f\"Epoch: {epoch} | Loss: {loss} | Test loss: {test_loss}\")\n",
        "\n",
        "    print(model_0.state_dict())\n"
      ],
      "metadata": {
        "colab": {
          "base_uri": "https://localhost:8080/"
        },
        "id": "TwureHFLe7yB",
        "outputId": "8786e895-62eb-4179-a05d-97f9a34565fb"
      },
      "execution_count": 14,
      "outputs": [
        {
          "output_type": "stream",
          "name": "stderr",
          "text": [
            "<ipython-input-14-a51a73334ef2>:39: UserWarning: To copy construct from a tensor, it is recommended to use sourceTensor.clone().detach() or sourceTensor.clone().detach().requires_grad_(True), rather than torch.tensor(sourceTensor).\n",
            "  loss_value.append(np.array(torch.tensor(loss).cpu().numpy()))\n"
          ]
        },
        {
          "output_type": "stream",
          "name": "stdout",
          "text": [
            "Epoch: 0 | Loss: 0.31288138031959534 | Test loss: 0.48106518387794495\n",
            "OrderedDict([('weights', tensor([0.3406])), ('bias', tensor([0.1388]))])\n",
            "OrderedDict([('weights', tensor([0.3445])), ('bias', tensor([0.1488]))])\n",
            "OrderedDict([('weights', tensor([0.3484])), ('bias', tensor([0.1588]))])\n",
            "OrderedDict([('weights', tensor([0.3523])), ('bias', tensor([0.1688]))])\n",
            "OrderedDict([('weights', tensor([0.3562])), ('bias', tensor([0.1788]))])\n",
            "OrderedDict([('weights', tensor([0.3601])), ('bias', tensor([0.1888]))])\n",
            "OrderedDict([('weights', tensor([0.3640])), ('bias', tensor([0.1988]))])\n",
            "OrderedDict([('weights', tensor([0.3679])), ('bias', tensor([0.2088]))])\n",
            "OrderedDict([('weights', tensor([0.3718])), ('bias', tensor([0.2188]))])\n",
            "OrderedDict([('weights', tensor([0.3757])), ('bias', tensor([0.2288]))])\n",
            "Epoch: 10 | Loss: 0.1976713240146637 | Test loss: 0.3463551998138428\n",
            "OrderedDict([('weights', tensor([0.3796])), ('bias', tensor([0.2388]))])\n",
            "OrderedDict([('weights', tensor([0.3835])), ('bias', tensor([0.2488]))])\n",
            "OrderedDict([('weights', tensor([0.3874])), ('bias', tensor([0.2588]))])\n",
            "OrderedDict([('weights', tensor([0.3913])), ('bias', tensor([0.2688]))])\n",
            "OrderedDict([('weights', tensor([0.3952])), ('bias', tensor([0.2788]))])\n",
            "OrderedDict([('weights', tensor([0.3991])), ('bias', tensor([0.2888]))])\n",
            "OrderedDict([('weights', tensor([0.4030])), ('bias', tensor([0.2988]))])\n",
            "OrderedDict([('weights', tensor([0.4069])), ('bias', tensor([0.3088]))])\n",
            "OrderedDict([('weights', tensor([0.4108])), ('bias', tensor([0.3178]))])\n",
            "OrderedDict([('weights', tensor([0.4146])), ('bias', tensor([0.3258]))])\n",
            "Epoch: 20 | Loss: 0.08908725529909134 | Test loss: 0.21729660034179688\n",
            "OrderedDict([('weights', tensor([0.4184])), ('bias', tensor([0.3333]))])\n",
            "OrderedDict([('weights', tensor([0.4222])), ('bias', tensor([0.3403]))])\n",
            "OrderedDict([('weights', tensor([0.4258])), ('bias', tensor([0.3463]))])\n",
            "OrderedDict([('weights', tensor([0.4293])), ('bias', tensor([0.3518]))])\n",
            "OrderedDict([('weights', tensor([0.4328])), ('bias', tensor([0.3568]))])\n",
            "OrderedDict([('weights', tensor([0.4361])), ('bias', tensor([0.3613]))])\n",
            "OrderedDict([('weights', tensor([0.4394])), ('bias', tensor([0.3653]))])\n",
            "OrderedDict([('weights', tensor([0.4425])), ('bias', tensor([0.3688]))])\n",
            "OrderedDict([('weights', tensor([0.4455])), ('bias', tensor([0.3718]))])\n",
            "OrderedDict([('weights', tensor([0.4483])), ('bias', tensor([0.3743]))])\n",
            "Epoch: 30 | Loss: 0.053148526698350906 | Test loss: 0.14464017748832703\n",
            "OrderedDict([('weights', tensor([0.4512])), ('bias', tensor([0.3768]))])\n",
            "OrderedDict([('weights', tensor([0.4539])), ('bias', tensor([0.3788]))])\n",
            "OrderedDict([('weights', tensor([0.4564])), ('bias', tensor([0.3803]))])\n",
            "OrderedDict([('weights', tensor([0.4590])), ('bias', tensor([0.3818]))])\n",
            "OrderedDict([('weights', tensor([0.4615])), ('bias', tensor([0.3833]))])\n",
            "OrderedDict([('weights', tensor([0.4639])), ('bias', tensor([0.3843]))])\n",
            "OrderedDict([('weights', tensor([0.4662])), ('bias', tensor([0.3853]))])\n",
            "OrderedDict([('weights', tensor([0.4684])), ('bias', tensor([0.3858]))])\n",
            "OrderedDict([('weights', tensor([0.4706])), ('bias', tensor([0.3863]))])\n",
            "OrderedDict([('weights', tensor([0.4728])), ('bias', tensor([0.3868]))])\n",
            "Epoch: 40 | Loss: 0.04543796554207802 | Test loss: 0.11360953003168106\n",
            "OrderedDict([('weights', tensor([0.4748])), ('bias', tensor([0.3868]))])\n",
            "OrderedDict([('weights', tensor([0.4768])), ('bias', tensor([0.3868]))])\n",
            "OrderedDict([('weights', tensor([0.4788])), ('bias', tensor([0.3868]))])\n",
            "OrderedDict([('weights', tensor([0.4808])), ('bias', tensor([0.3868]))])\n",
            "OrderedDict([('weights', tensor([0.4828])), ('bias', tensor([0.3868]))])\n",
            "OrderedDict([('weights', tensor([0.4848])), ('bias', tensor([0.3868]))])\n",
            "OrderedDict([('weights', tensor([0.4866])), ('bias', tensor([0.3863]))])\n",
            "OrderedDict([('weights', tensor([0.4884])), ('bias', tensor([0.3858]))])\n",
            "OrderedDict([('weights', tensor([0.4902])), ('bias', tensor([0.3853]))])\n",
            "OrderedDict([('weights', tensor([0.4920])), ('bias', tensor([0.3848]))])\n",
            "Epoch: 50 | Loss: 0.04167863354086876 | Test loss: 0.09919948130846024\n",
            "OrderedDict([('weights', tensor([0.4938])), ('bias', tensor([0.3843]))])\n",
            "OrderedDict([('weights', tensor([0.4956])), ('bias', tensor([0.3838]))])\n",
            "OrderedDict([('weights', tensor([0.4974])), ('bias', tensor([0.3833]))])\n",
            "OrderedDict([('weights', tensor([0.4992])), ('bias', tensor([0.3828]))])\n",
            "OrderedDict([('weights', tensor([0.5010])), ('bias', tensor([0.3823]))])\n",
            "OrderedDict([('weights', tensor([0.5028])), ('bias', tensor([0.3818]))])\n",
            "OrderedDict([('weights', tensor([0.5046])), ('bias', tensor([0.3813]))])\n",
            "OrderedDict([('weights', tensor([0.5064])), ('bias', tensor([0.3808]))])\n",
            "OrderedDict([('weights', tensor([0.5082])), ('bias', tensor([0.3803]))])\n",
            "OrderedDict([('weights', tensor([0.5100])), ('bias', tensor([0.3798]))])\n",
            "Epoch: 60 | Loss: 0.03818932920694351 | Test loss: 0.08886633068323135\n",
            "OrderedDict([('weights', tensor([0.5116])), ('bias', tensor([0.3788]))])\n",
            "OrderedDict([('weights', tensor([0.5134])), ('bias', tensor([0.3783]))])\n",
            "OrderedDict([('weights', tensor([0.5152])), ('bias', tensor([0.3778]))])\n",
            "OrderedDict([('weights', tensor([0.5168])), ('bias', tensor([0.3768]))])\n",
            "OrderedDict([('weights', tensor([0.5186])), ('bias', tensor([0.3763]))])\n",
            "OrderedDict([('weights', tensor([0.5202])), ('bias', tensor([0.3753]))])\n",
            "OrderedDict([('weights', tensor([0.5220])), ('bias', tensor([0.3748]))])\n",
            "OrderedDict([('weights', tensor([0.5236])), ('bias', tensor([0.3738]))])\n",
            "OrderedDict([('weights', tensor([0.5254])), ('bias', tensor([0.3733]))])\n",
            "OrderedDict([('weights', tensor([0.5272])), ('bias', tensor([0.3728]))])\n",
            "Epoch: 70 | Loss: 0.03476089984178543 | Test loss: 0.0805937647819519\n",
            "OrderedDict([('weights', tensor([0.5288])), ('bias', tensor([0.3718]))])\n",
            "OrderedDict([('weights', tensor([0.5306])), ('bias', tensor([0.3713]))])\n",
            "OrderedDict([('weights', tensor([0.5322])), ('bias', tensor([0.3703]))])\n",
            "OrderedDict([('weights', tensor([0.5340])), ('bias', tensor([0.3698]))])\n",
            "OrderedDict([('weights', tensor([0.5355])), ('bias', tensor([0.3688]))])\n",
            "OrderedDict([('weights', tensor([0.5373])), ('bias', tensor([0.3683]))])\n",
            "OrderedDict([('weights', tensor([0.5391])), ('bias', tensor([0.3678]))])\n",
            "OrderedDict([('weights', tensor([0.5407])), ('bias', tensor([0.3668]))])\n",
            "OrderedDict([('weights', tensor([0.5425])), ('bias', tensor([0.3663]))])\n",
            "OrderedDict([('weights', tensor([0.5441])), ('bias', tensor([0.3653]))])\n",
            "Epoch: 80 | Loss: 0.03132382780313492 | Test loss: 0.07232122868299484\n",
            "OrderedDict([('weights', tensor([0.5459])), ('bias', tensor([0.3648]))])\n",
            "OrderedDict([('weights', tensor([0.5475])), ('bias', tensor([0.3638]))])\n",
            "OrderedDict([('weights', tensor([0.5493])), ('bias', tensor([0.3633]))])\n",
            "OrderedDict([('weights', tensor([0.5509])), ('bias', tensor([0.3623]))])\n",
            "OrderedDict([('weights', tensor([0.5527])), ('bias', tensor([0.3618]))])\n",
            "OrderedDict([('weights', tensor([0.5545])), ('bias', tensor([0.3613]))])\n",
            "OrderedDict([('weights', tensor([0.5561])), ('bias', tensor([0.3603]))])\n",
            "OrderedDict([('weights', tensor([0.5579])), ('bias', tensor([0.3598]))])\n",
            "OrderedDict([('weights', tensor([0.5595])), ('bias', tensor([0.3588]))])\n",
            "OrderedDict([('weights', tensor([0.5613])), ('bias', tensor([0.3583]))])\n",
            "Epoch: 90 | Loss: 0.02788739837706089 | Test loss: 0.06473556160926819\n",
            "OrderedDict([('weights', tensor([0.5629])), ('bias', tensor([0.3573]))])\n",
            "OrderedDict([('weights', tensor([0.5647])), ('bias', tensor([0.3568]))])\n",
            "OrderedDict([('weights', tensor([0.5665])), ('bias', tensor([0.3563]))])\n",
            "OrderedDict([('weights', tensor([0.5681])), ('bias', tensor([0.3553]))])\n",
            "OrderedDict([('weights', tensor([0.5699])), ('bias', tensor([0.3548]))])\n",
            "OrderedDict([('weights', tensor([0.5715])), ('bias', tensor([0.3538]))])\n",
            "OrderedDict([('weights', tensor([0.5733])), ('bias', tensor([0.3533]))])\n",
            "OrderedDict([('weights', tensor([0.5748])), ('bias', tensor([0.3523]))])\n",
            "OrderedDict([('weights', tensor([0.5766])), ('bias', tensor([0.3518]))])\n",
            "OrderedDict([('weights', tensor([0.5784])), ('bias', tensor([0.3513]))])\n",
            "Epoch: 100 | Loss: 0.024458957836031914 | Test loss: 0.05646304413676262\n",
            "OrderedDict([('weights', tensor([0.5800])), ('bias', tensor([0.3503]))])\n",
            "OrderedDict([('weights', tensor([0.5818])), ('bias', tensor([0.3498]))])\n",
            "OrderedDict([('weights', tensor([0.5834])), ('bias', tensor([0.3488]))])\n",
            "OrderedDict([('weights', tensor([0.5852])), ('bias', tensor([0.3483]))])\n",
            "OrderedDict([('weights', tensor([0.5868])), ('bias', tensor([0.3473]))])\n",
            "OrderedDict([('weights', tensor([0.5886])), ('bias', tensor([0.3468]))])\n",
            "OrderedDict([('weights', tensor([0.5902])), ('bias', tensor([0.3458]))])\n",
            "OrderedDict([('weights', tensor([0.5920])), ('bias', tensor([0.3453]))])\n",
            "OrderedDict([('weights', tensor([0.5938])), ('bias', tensor([0.3448]))])\n",
            "OrderedDict([('weights', tensor([0.5954])), ('bias', tensor([0.3438]))])\n",
            "Epoch: 110 | Loss: 0.021020207554101944 | Test loss: 0.04819049686193466\n",
            "OrderedDict([('weights', tensor([0.5972])), ('bias', tensor([0.3433]))])\n",
            "OrderedDict([('weights', tensor([0.5988])), ('bias', tensor([0.3423]))])\n",
            "OrderedDict([('weights', tensor([0.6006])), ('bias', tensor([0.3418]))])\n",
            "OrderedDict([('weights', tensor([0.6022])), ('bias', tensor([0.3408]))])\n",
            "OrderedDict([('weights', tensor([0.6040])), ('bias', tensor([0.3403]))])\n",
            "OrderedDict([('weights', tensor([0.6058])), ('bias', tensor([0.3398]))])\n",
            "OrderedDict([('weights', tensor([0.6074])), ('bias', tensor([0.3388]))])\n",
            "OrderedDict([('weights', tensor([0.6092])), ('bias', tensor([0.3383]))])\n",
            "OrderedDict([('weights', tensor([0.6108])), ('bias', tensor([0.3373]))])\n",
            "OrderedDict([('weights', tensor([0.6126])), ('bias', tensor([0.3368]))])\n",
            "Epoch: 120 | Loss: 0.01758546568453312 | Test loss: 0.04060482233762741\n",
            "OrderedDict([('weights', tensor([0.6141])), ('bias', tensor([0.3358]))])\n",
            "OrderedDict([('weights', tensor([0.6159])), ('bias', tensor([0.3353]))])\n",
            "OrderedDict([('weights', tensor([0.6175])), ('bias', tensor([0.3343]))])\n",
            "OrderedDict([('weights', tensor([0.6193])), ('bias', tensor([0.3338]))])\n",
            "OrderedDict([('weights', tensor([0.6211])), ('bias', tensor([0.3333]))])\n",
            "OrderedDict([('weights', tensor([0.6227])), ('bias', tensor([0.3323]))])\n",
            "OrderedDict([('weights', tensor([0.6245])), ('bias', tensor([0.3318]))])\n",
            "OrderedDict([('weights', tensor([0.6261])), ('bias', tensor([0.3308]))])\n",
            "OrderedDict([('weights', tensor([0.6279])), ('bias', tensor([0.3303]))])\n",
            "OrderedDict([('weights', tensor([0.6295])), ('bias', tensor([0.3293]))])\n",
            "Epoch: 130 | Loss: 0.014155393466353416 | Test loss: 0.03233227878808975\n",
            "OrderedDict([('weights', tensor([0.6313])), ('bias', tensor([0.3288]))])\n",
            "OrderedDict([('weights', tensor([0.6331])), ('bias', tensor([0.3283]))])\n",
            "OrderedDict([('weights', tensor([0.6347])), ('bias', tensor([0.3273]))])\n",
            "OrderedDict([('weights', tensor([0.6365])), ('bias', tensor([0.3268]))])\n",
            "OrderedDict([('weights', tensor([0.6381])), ('bias', tensor([0.3258]))])\n",
            "OrderedDict([('weights', tensor([0.6399])), ('bias', tensor([0.3253]))])\n",
            "OrderedDict([('weights', tensor([0.6415])), ('bias', tensor([0.3243]))])\n",
            "OrderedDict([('weights', tensor([0.6433])), ('bias', tensor([0.3238]))])\n",
            "OrderedDict([('weights', tensor([0.6451])), ('bias', tensor([0.3233]))])\n",
            "OrderedDict([('weights', tensor([0.6467])), ('bias', tensor([0.3223]))])\n",
            "Epoch: 140 | Loss: 0.010716589167714119 | Test loss: 0.024059748277068138\n",
            "OrderedDict([('weights', tensor([0.6485])), ('bias', tensor([0.3218]))])\n",
            "OrderedDict([('weights', tensor([0.6501])), ('bias', tensor([0.3208]))])\n",
            "OrderedDict([('weights', tensor([0.6519])), ('bias', tensor([0.3203]))])\n",
            "OrderedDict([('weights', tensor([0.6534])), ('bias', tensor([0.3193]))])\n",
            "OrderedDict([('weights', tensor([0.6552])), ('bias', tensor([0.3188]))])\n",
            "OrderedDict([('weights', tensor([0.6568])), ('bias', tensor([0.3178]))])\n",
            "OrderedDict([('weights', tensor([0.6586])), ('bias', tensor([0.3173]))])\n",
            "OrderedDict([('weights', tensor([0.6604])), ('bias', tensor([0.3168]))])\n",
            "OrderedDict([('weights', tensor([0.6620])), ('bias', tensor([0.3158]))])\n",
            "OrderedDict([('weights', tensor([0.6638])), ('bias', tensor([0.3153]))])\n",
            "Epoch: 150 | Loss: 0.0072835334576666355 | Test loss: 0.016474086791276932\n",
            "OrderedDict([('weights', tensor([0.6654])), ('bias', tensor([0.3143]))])\n",
            "OrderedDict([('weights', tensor([0.6672])), ('bias', tensor([0.3138]))])\n",
            "OrderedDict([('weights', tensor([0.6688])), ('bias', tensor([0.3128]))])\n",
            "OrderedDict([('weights', tensor([0.6706])), ('bias', tensor([0.3123]))])\n",
            "OrderedDict([('weights', tensor([0.6724])), ('bias', tensor([0.3118]))])\n",
            "OrderedDict([('weights', tensor([0.6740])), ('bias', tensor([0.3108]))])\n",
            "OrderedDict([('weights', tensor([0.6758])), ('bias', tensor([0.3103]))])\n",
            "OrderedDict([('weights', tensor([0.6774])), ('bias', tensor([0.3093]))])\n",
            "OrderedDict([('weights', tensor([0.6792])), ('bias', tensor([0.3088]))])\n",
            "OrderedDict([('weights', tensor([0.6808])), ('bias', tensor([0.3078]))])\n",
            "Epoch: 160 | Loss: 0.0038517764769494534 | Test loss: 0.008201557211577892\n",
            "OrderedDict([('weights', tensor([0.6826])), ('bias', tensor([0.3073]))])\n",
            "OrderedDict([('weights', tensor([0.6844])), ('bias', tensor([0.3068]))])\n",
            "OrderedDict([('weights', tensor([0.6860])), ('bias', tensor([0.3058]))])\n",
            "OrderedDict([('weights', tensor([0.6878])), ('bias', tensor([0.3053]))])\n",
            "OrderedDict([('weights', tensor([0.6894])), ('bias', tensor([0.3043]))])\n",
            "OrderedDict([('weights', tensor([0.6912])), ('bias', tensor([0.3038]))])\n",
            "OrderedDict([('weights', tensor([0.6927])), ('bias', tensor([0.3028]))])\n",
            "OrderedDict([('weights', tensor([0.6947])), ('bias', tensor([0.3028]))])\n",
            "OrderedDict([('weights', tensor([0.6951])), ('bias', tensor([0.2993]))])\n",
            "OrderedDict([('weights', tensor([0.6990])), ('bias', tensor([0.3093]))])\n",
            "Epoch: 170 | Loss: 0.008932482451200485 | Test loss: 0.005023092031478882\n",
            "OrderedDict([('weights', tensor([0.6951])), ('bias', tensor([0.2993]))])\n",
            "OrderedDict([('weights', tensor([0.6990])), ('bias', tensor([0.3093]))])\n",
            "OrderedDict([('weights', tensor([0.6951])), ('bias', tensor([0.2993]))])\n",
            "OrderedDict([('weights', tensor([0.6990])), ('bias', tensor([0.3093]))])\n",
            "OrderedDict([('weights', tensor([0.6951])), ('bias', tensor([0.2993]))])\n",
            "OrderedDict([('weights', tensor([0.6990])), ('bias', tensor([0.3093]))])\n",
            "OrderedDict([('weights', tensor([0.6951])), ('bias', tensor([0.2993]))])\n",
            "OrderedDict([('weights', tensor([0.6990])), ('bias', tensor([0.3093]))])\n",
            "OrderedDict([('weights', tensor([0.6951])), ('bias', tensor([0.2993]))])\n",
            "OrderedDict([('weights', tensor([0.6990])), ('bias', tensor([0.3093]))])\n",
            "Epoch: 180 | Loss: 0.008932482451200485 | Test loss: 0.005023092031478882\n",
            "OrderedDict([('weights', tensor([0.6951])), ('bias', tensor([0.2993]))])\n",
            "OrderedDict([('weights', tensor([0.6990])), ('bias', tensor([0.3093]))])\n",
            "OrderedDict([('weights', tensor([0.6951])), ('bias', tensor([0.2993]))])\n",
            "OrderedDict([('weights', tensor([0.6990])), ('bias', tensor([0.3093]))])\n",
            "OrderedDict([('weights', tensor([0.6951])), ('bias', tensor([0.2993]))])\n",
            "OrderedDict([('weights', tensor([0.6990])), ('bias', tensor([0.3093]))])\n",
            "OrderedDict([('weights', tensor([0.6951])), ('bias', tensor([0.2993]))])\n",
            "OrderedDict([('weights', tensor([0.6990])), ('bias', tensor([0.3093]))])\n",
            "OrderedDict([('weights', tensor([0.6951])), ('bias', tensor([0.2993]))])\n",
            "OrderedDict([('weights', tensor([0.6990])), ('bias', tensor([0.3093]))])\n",
            "Epoch: 190 | Loss: 0.008932482451200485 | Test loss: 0.005023092031478882\n",
            "OrderedDict([('weights', tensor([0.6951])), ('bias', tensor([0.2993]))])\n",
            "OrderedDict([('weights', tensor([0.6990])), ('bias', tensor([0.3093]))])\n",
            "OrderedDict([('weights', tensor([0.6951])), ('bias', tensor([0.2993]))])\n",
            "OrderedDict([('weights', tensor([0.6990])), ('bias', tensor([0.3093]))])\n",
            "OrderedDict([('weights', tensor([0.6951])), ('bias', tensor([0.2993]))])\n",
            "OrderedDict([('weights', tensor([0.6990])), ('bias', tensor([0.3093]))])\n",
            "OrderedDict([('weights', tensor([0.6951])), ('bias', tensor([0.2993]))])\n",
            "OrderedDict([('weights', tensor([0.6990])), ('bias', tensor([0.3093]))])\n",
            "OrderedDict([('weights', tensor([0.6951])), ('bias', tensor([0.2993]))])\n",
            "OrderedDict([('weights', tensor([0.6990])), ('bias', tensor([0.3093]))])\n"
          ]
        }
      ]
    },
    {
      "cell_type": "code",
      "source": [
        "plt.plot(epoch_count, loss_value,label=\"Train loss\")\n",
        "plt.plot(epoch_count, test_loss_values, label=\"Test loss\")\n",
        "plt.title(\"Training and test loss curves\")\n",
        "plt.ylabel(\"Loss\")\n",
        "plt.xlabel(\"Epochs\")\n",
        "plt.legend()"
      ],
      "metadata": {
        "colab": {
          "base_uri": "https://localhost:8080/",
          "height": 489
        },
        "id": "H2346x0tkiQw",
        "outputId": "2f678b57-54d3-415e-cc37-09c1a5eddba6"
      },
      "execution_count": 15,
      "outputs": [
        {
          "output_type": "execute_result",
          "data": {
            "text/plain": [
              "<matplotlib.legend.Legend at 0x7e862caa0e50>"
            ]
          },
          "metadata": {},
          "execution_count": 15
        },
        {
          "output_type": "display_data",
          "data": {
            "text/plain": [
              "<Figure size 640x480 with 1 Axes>"
            ],
            "image/png": "[encoded data removed]"
          },
          "metadata": {}
        }
      ]
    },
    {
      "cell_type": "code",
      "source": [
        "with torch.inference_mode():\n",
        "    y_preds_new = model_0(X_test)"
      ],
      "metadata": {
        "id": "lwDOIzwWpEQz"
      },
      "execution_count": 16,
      "outputs": []
    },
    {
      "cell_type": "code",
      "source": [
        "plot_predictions(predictions=y_preds_new)"
      ],
      "metadata": {
        "colab": {
          "base_uri": "https://localhost:8080/",
          "height": 599
        },
        "id": "FSIubVPlpAKg",
        "outputId": "f8223f78-ad39-4df3-cc08-d0231d15376c"
      },
      "execution_count": 17,
      "outputs": [
        {
          "output_type": "display_data",
          "data": {
            "text/plain": [
              "<Figure size 900x700 with 1 Axes>"
            ],
            "image/png": "[encoded data removed]"
          },
          "metadata": {}
        }
      ]
    },
    {
      "cell_type": "markdown",
      "source": [
        "## Saving the Model\n",
        "\n",
        "1. `torch.save()`: allows you to save a PyTorch object in Python's pickle format\n",
        "2. `torch.load()`: allows you to load a saved PyTorch object\n",
        "3. `torch.nn.Module.load_state_dict()`: allows to load a model's saved state dictionary\n",
        "\n",
        "https://pytorch.org/tutorials/beginner/saving_loading_models.html"
      ],
      "metadata": {
        "id": "fzENJs6g3b9L"
      }
    },
    {
      "cell_type": "code",
      "source": [
        "from pathlib import Path\n",
        "\n",
        "# create model directory\n",
        "MODEL_PATH = Path(\"models\")\n",
        "MODEL_PATH.mkdir(parents=True, exist_ok=True)\n",
        "\n",
        "# create a model save path\n",
        "MODEL_NAME = \"01_pytorch_workflow_model_0.pth\"\n",
        "MODEL_SAVE_PATH = MODEL_PATH/MODEL_NAME\n",
        "\n",
        "# save the state dict\n",
        "print(f\"Saving model to : {MODEL_SAVE_PATH}\")\n",
        "torch.save(obj=model_0.state_dict(),\n",
        "           f=MODEL_SAVE_PATH)"
      ],
      "metadata": {
        "colab": {
          "base_uri": "https://localhost:8080/"
        },
        "id": "aw-xqijgqLDG",
        "outputId": "ee409c04-777b-4008-805f-651f5bc97a33"
      },
      "execution_count": 18,
      "outputs": [
        {
          "output_type": "stream",
          "name": "stdout",
          "text": [
            "Saving model to : models/01_pytorch_workflow_model_0.pth\n"
          ]
        }
      ]
    },
    {
      "cell_type": "markdown",
      "source": [
        "## Load the Model\n",
        "\n",
        "Since we save the model's `state_dict()` rather the entire model, we'll create a new instance of our model class and load the saved state_dict() into that\n",
        "\n",
        "`torch.nn.Module.load_state_dict()`: allows to load a model's saved state dictionary"
      ],
      "metadata": {
        "id": "kZdznM0P64BY"
      }
    },
    {
      "cell_type": "code",
      "source": [
        "model_0.state_dict()"
      ],
      "metadata": {
        "colab": {
          "base_uri": "https://localhost:8080/"
        },
        "id": "ccThHeI-6H5t",
        "outputId": "84189e6d-0cf5-4b28-c24f-9f27d47fc7e6"
      },
      "execution_count": 19,
      "outputs": [
        {
          "output_type": "execute_result",
          "data": {
            "text/plain": [
              "OrderedDict([('weights', tensor([0.6990])), ('bias', tensor([0.3093]))])"
            ]
          },
          "metadata": {},
          "execution_count": 19
        }
      ]
    },
    {
      "cell_type": "code",
      "source": [
        "loaded_model_0 = LinearRegressionModel()\n",
        "\n",
        "# load the saved state_dict() of model_0\n",
        "loaded_model_0.load_state_dict(torch.load(f=MODEL_SAVE_PATH))"
      ],
      "metadata": {
        "colab": {
          "base_uri": "https://localhost:8080/"
        },
        "id": "espF29kY7C9D",
        "outputId": "3a8feeb4-5cf7-49d0-827a-99d6c5246d14"
      },
      "execution_count": 20,
      "outputs": [
        {
          "output_type": "stream",
          "name": "stderr",
          "text": [
            "<ipython-input-20-6817e6066b80>:4: FutureWarning: You are using `torch.load` with `weights_only=False` (the current default value), which uses the default pickle module implicitly. It is possible to construct malicious pickle data which will execute arbitrary code during unpickling (See https://github.com/pytorch/pytorch/blob/main/SECURITY.md#untrusted-models for more details). In a future release, the default value for `weights_only` will be flipped to `True`. This limits the functions that could be executed during unpickling. Arbitrary objects will no longer be allowed to be loaded via this mode unless they are explicitly allowlisted by the user via `torch.serialization.add_safe_globals`. We recommend you start setting `weights_only=True` for any use case where you don't have full control of the loaded file. Please open an issue on GitHub for any issues related to this experimental feature.\n",
            "  loaded_model_0.load_state_dict(torch.load(f=MODEL_SAVE_PATH))\n"
          ]
        },
        {
          "output_type": "execute_result",
          "data": {
            "text/plain": [
              "<All keys matched successfully>"
            ]
          },
          "metadata": {},
          "execution_count": 20
        }
      ]
    },
    {
      "cell_type": "code",
      "source": [
        "loaded_model_0.state_dict()"
      ],
      "metadata": {
        "colab": {
          "base_uri": "https://localhost:8080/"
        },
        "id": "Bbnbopv-8iUg",
        "outputId": "a3681a0f-55db-47b5-d291-e8f289fe2c46"
      },
      "execution_count": 21,
      "outputs": [
        {
          "output_type": "execute_result",
          "data": {
            "text/plain": [
              "OrderedDict([('weights', tensor([0.6990])), ('bias', tensor([0.3093]))])"
            ]
          },
          "metadata": {},
          "execution_count": 21
        }
      ]
    },
    {
      "cell_type": "code",
      "source": [
        "loaded_model_0.eval()\n",
        "\n",
        "with torch.inference_mode():\n",
        "    loaded_model_preds = loaded_model_0(X_test)\n",
        "\n",
        "loaded_model_preds"
      ],
      "metadata": {
        "colab": {
          "base_uri": "https://localhost:8080/"
        },
        "id": "Tu4j4WhR8lV1",
        "outputId": "2e3ee27d-769b-4f63-ac61-698cbcf0cc8a"
      },
      "execution_count": 22,
      "outputs": [
        {
          "output_type": "execute_result",
          "data": {
            "text/plain": [
              "tensor([[0.8685],\n",
              "        [0.8825],\n",
              "        [0.8965],\n",
              "        [0.9105],\n",
              "        [0.9245],\n",
              "        [0.9384],\n",
              "        [0.9524],\n",
              "        [0.9664],\n",
              "        [0.9804],\n",
              "        [0.9944]])"
            ]
          },
          "metadata": {},
          "execution_count": 22
        }
      ]
    },
    {
      "cell_type": "code",
      "source": [
        "model_0.eval()\n",
        "with torch.inference_mode():\n",
        "    y_preds = model_0(X_test)\n",
        "\n",
        "print(y_preds)\n",
        "y_preds==loaded_model_preds"
      ],
      "metadata": {
        "colab": {
          "base_uri": "https://localhost:8080/"
        },
        "id": "MPYIW2pK9COG",
        "outputId": "bd3e9509-2a14-42b4-a73d-971d11e7ef15"
      },
      "execution_count": 23,
      "outputs": [
        {
          "output_type": "stream",
          "name": "stdout",
          "text": [
            "tensor([[0.8685],\n",
            "        [0.8825],\n",
            "        [0.8965],\n",
            "        [0.9105],\n",
            "        [0.9245],\n",
            "        [0.9384],\n",
            "        [0.9524],\n",
            "        [0.9664],\n",
            "        [0.9804],\n",
            "        [0.9944]])\n"
          ]
        },
        {
          "output_type": "execute_result",
          "data": {
            "text/plain": [
              "tensor([[True],\n",
              "        [True],\n",
              "        [True],\n",
              "        [True],\n",
              "        [True],\n",
              "        [True],\n",
              "        [True],\n",
              "        [True],\n",
              "        [True],\n",
              "        [True]])"
            ]
          },
          "metadata": {},
          "execution_count": 23
        }
      ]
    },
    {
      "cell_type": "markdown",
      "source": [
        "# Putting it all together"
      ],
      "metadata": {
        "id": "4i83izk017Ii"
      }
    },
    {
      "cell_type": "code",
      "source": [
        "# import modules\n",
        "import torch\n",
        "from torch import nn\n",
        "import matplotlib.pyplot as plt\n",
        "import numpy as np\n",
        "import pandas as pd\n",
        "\n",
        "torch.__version__"
      ],
      "metadata": {
        "id": "8rAM0oIO9HbG",
        "colab": {
          "base_uri": "https://localhost:8080/",
          "height": 35
        },
        "outputId": "1aa999dd-fe4d-4820-effc-078de7b9633b"
      },
      "execution_count": 24,
      "outputs": [
        {
          "output_type": "execute_result",
          "data": {
            "text/plain": [
              "'2.5.1+cu121'"
            ],
            "application/vnd.google.colaboratory.intrinsic+json": {
              "type": "string"
            }
          },
          "metadata": {},
          "execution_count": 24
        }
      ]
    },
    {
      "cell_type": "markdown",
      "source": [
        "Create device agnostic code"
      ],
      "metadata": {
        "id": "4c8ZI_S72oH-"
      }
    },
    {
      "cell_type": "code",
      "source": [
        "device = \"cuda\" if torch.cuda.is_available() else \"cpu\"\n",
        "print(f\"Using device = {device}\")"
      ],
      "metadata": {
        "colab": {
          "base_uri": "https://localhost:8080/"
        },
        "id": "VsKdmJN-2mI5",
        "outputId": "214c8503-235f-4f02-8635-7e42e8efddbf"
      },
      "execution_count": 25,
      "outputs": [
        {
          "output_type": "stream",
          "name": "stdout",
          "text": [
            "Using device = cpu\n"
          ]
        }
      ]
    },
    {
      "cell_type": "markdown",
      "source": [
        "## 1. Data"
      ],
      "metadata": {
        "id": "bJXIcDps3DAb"
      }
    },
    {
      "cell_type": "code",
      "source": [
        "# create some data using linear regression formula of y=weight*X + bias\n",
        "weight = 0.7\n",
        "bias = 0.3\n",
        "\n",
        "# create range of values\n",
        "start = 0\n",
        "end =1\n",
        "step=0.02\n",
        "\n",
        "# create X and y\n",
        "X = torch.arange(start, end,step).unsqueeze(dim=1)\n",
        "y = weight*X + bias\n",
        "X[:10], y[:10]"
      ],
      "metadata": {
        "colab": {
          "base_uri": "https://localhost:8080/"
        },
        "id": "g0Cl6TQy20pX",
        "outputId": "5d6a725f-6f7e-47de-8fc6-cfe28967ba59"
      },
      "execution_count": 55,
      "outputs": [
        {
          "output_type": "execute_result",
          "data": {
            "text/plain": [
              "(tensor([[0.0000],\n",
              "         [0.0200],\n",
              "         [0.0400],\n",
              "         [0.0600],\n",
              "         [0.0800],\n",
              "         [0.1000],\n",
              "         [0.1200],\n",
              "         [0.1400],\n",
              "         [0.1600],\n",
              "         [0.1800]]),\n",
              " tensor([[0.3000],\n",
              "         [0.3140],\n",
              "         [0.3280],\n",
              "         [0.3420],\n",
              "         [0.3560],\n",
              "         [0.3700],\n",
              "         [0.3840],\n",
              "         [0.3980],\n",
              "         [0.4120],\n",
              "         [0.4260]]))"
            ]
          },
          "metadata": {},
          "execution_count": 55
        }
      ]
    },
    {
      "cell_type": "code",
      "source": [
        "# split data\n",
        "train_split = int(0.8*len(X))\n",
        "X_train, y_train = X[:train_split], y[:train_split]\n",
        "X_test, y_test = X[train_split:], y[train_split:]\n",
        "len(X_train), len(X_test), len(y_train), len(y_test)"
      ],
      "metadata": {
        "colab": {
          "base_uri": "https://localhost:8080/"
        },
        "id": "xM_JR3jn2-zL",
        "outputId": "d83e9274-5a25-4a70-98fa-e7ac173f6d21"
      },
      "execution_count": 27,
      "outputs": [
        {
          "output_type": "execute_result",
          "data": {
            "text/plain": [
              "(40, 10, 40, 10)"
            ]
          },
          "metadata": {},
          "execution_count": 27
        }
      ]
    },
    {
      "cell_type": "markdown",
      "source": [
        "### Visualize the data"
      ],
      "metadata": {
        "id": "Ie69jWIG4N71"
      }
    },
    {
      "cell_type": "code",
      "source": [
        "# PLot the data\n",
        "\n",
        "plot_predictions(X_train, y_train, X_test, y_test)"
      ],
      "metadata": {
        "colab": {
          "base_uri": "https://localhost:8080/",
          "height": 599
        },
        "id": "47gRfaS-4MQF",
        "outputId": "b2e9cfe4-9680-41e4-df31-2a88b1d8adc0"
      },
      "execution_count": 28,
      "outputs": [
        {
          "output_type": "display_data",
          "data": {
            "text/plain": [
              "<Figure size 900x700 with 1 Axes>"
            ],
            "image/png": "[encoded data removed]"
          },
          "metadata": {}
        }
      ]
    },
    {
      "cell_type": "markdown",
      "source": [
        "## 2. Build the Model\n",
        "\n",
        "[nn.Linear(in_features, out_features)](https://pytorch.org/docs/stable/generated/torch.nn.Linear.html)\n",
        "\n",
        "in_features: size of each input sample\n",
        "out_features: size of each output sample"
      ],
      "metadata": {
        "id": "DArplYXC4dFT"
      }
    },
    {
      "cell_type": "code",
      "source": [
        " # subclass nn.Module class\n",
        "class Linear(nn.Module):\n",
        "    def __init__(self):\n",
        "        \"\"\"\n",
        "        create linear layer using nn.Linear\n",
        "        nn.Linear() is used for creating model parameters\n",
        "        nn.Linear(x) performs x.W + b\n",
        "        \"\"\"\n",
        "        super().__init__()\n",
        "        self.linear = nn.Linear(in_features=1,\n",
        "                                out_features=1,\n",
        "                                bias=True)\n",
        "    def forward(self,x:torch.Tensor)->torch.Tensor:\n",
        "        return self.linear(x)\n",
        "\n",
        "torch.manual_seed(42)\n",
        "model_1 = Linear()\n",
        "print(model_1.state_dict())\n",
        "print(model_1)"
      ],
      "metadata": {
        "colab": {
          "base_uri": "https://localhost:8080/"
        },
        "id": "mi05Faso4buB",
        "outputId": "8257937d-5aec-49eb-96bd-0eb7f6ccb611"
      },
      "execution_count": 29,
      "outputs": [
        {
          "output_type": "stream",
          "name": "stdout",
          "text": [
            "OrderedDict([('linear.weight', tensor([[0.7645]])), ('linear.bias', tensor([0.8300]))])\n",
            "Linear(\n",
            "  (linear): Linear(in_features=1, out_features=1, bias=True)\n",
            ")\n"
          ]
        }
      ]
    },
    {
      "cell_type": "code",
      "source": [
        "# check which device the model is on\n",
        "print(next(model_1.parameters()).device)\n",
        "\n",
        "# move to the gpu\n",
        "model_1.to(device)\n",
        "print(next(model_1.parameters()).device)"
      ],
      "metadata": {
        "colab": {
          "base_uri": "https://localhost:8080/"
        },
        "id": "Hn0_atF_6RC3",
        "outputId": "5b8058b0-fba0-4153-a6be-753a90af2408"
      },
      "execution_count": 30,
      "outputs": [
        {
          "output_type": "stream",
          "name": "stdout",
          "text": [
            "cpu\n",
            "cpu\n"
          ]
        }
      ]
    },
    {
      "cell_type": "markdown",
      "source": [
        "## 3. Training\n",
        "\n",
        "For training we need\n",
        "\n",
        "- Loss function\n",
        "- Optimizer\n",
        "- Training Loop\n",
        "- Testing Loop"
      ],
      "metadata": {
        "id": "lQl5FicH7UVK"
      }
    },
    {
      "cell_type": "code",
      "source": [
        "# define loss function\n",
        "loss_fn = nn.L1Loss()\n",
        "\n",
        "# define optimizer\n",
        "optimizer = torch.optim.SGD(params = model_1.parameters(),lr=0.01)"
      ],
      "metadata": {
        "id": "wPWMsNtl68No"
      },
      "execution_count": 31,
      "outputs": []
    },
    {
      "cell_type": "code",
      "source": [
        "# training loop\n",
        "torch.manual_seed(42)\n",
        "\n",
        "epochs=200\n",
        "# Put data on the target device\n",
        "\n",
        "X_train = X_train.to(device)\n",
        "y_train = y_train.to(device)\n",
        "X_test = X_test.to(device)\n",
        "y_test = y_test.to(device)\n",
        "\n",
        "for epoch in range(epochs):\n",
        "    # set to train mode\n",
        "    model_1.train()\n",
        "\n",
        "    # 1. Forwards pass\n",
        "    y_pred = model_1(X_train)\n",
        "\n",
        "    # 2. calculate loss\n",
        "    loss = loss_fn(y_pred, y_train)\n",
        "\n",
        "    # 3. zero the optimizer gradients\n",
        "    optimizer.zero_grad()\n",
        "\n",
        "    # 4. Back propagate the loss\n",
        "    loss.backward()\n",
        "\n",
        "    # 5. accumulate the gradients\n",
        "    optimizer.step()\n",
        "\n",
        "    \"\"\"\n",
        "    Testing loop\n",
        "    \"\"\"\n",
        "    # set to eval() mode\n",
        "    model_1.eval()\n",
        "\n",
        "    with torch.inference_mode():\n",
        "        test_pred = model_1(X_test)\n",
        "        test_loss = loss_fn(test_pred, y_test)\n",
        "\n",
        "    if epoch%10==0:\n",
        "        print(f\"Epoch: {epoch} | Loss: {loss} | Test Loss : {test_loss}\")\n",
        "\n",
        "\n",
        "\n"
      ],
      "metadata": {
        "colab": {
          "base_uri": "https://localhost:8080/"
        },
        "id": "5HKOhVyX8Rcv",
        "outputId": "cf002431-69e7-4638-e095-a2fb8e98d4d6"
      },
      "execution_count": 32,
      "outputs": [
        {
          "output_type": "stream",
          "name": "stdout",
          "text": [
            "Epoch: 0 | Loss: 0.5551779866218567 | Test Loss : 0.5739762187004089\n",
            "Epoch: 10 | Loss: 0.4399680495262146 | Test Loss : 0.4392663538455963\n",
            "Epoch: 20 | Loss: 0.3247582018375397 | Test Loss : 0.30455657839775085\n",
            "Epoch: 30 | Loss: 0.20954827964305878 | Test Loss : 0.16984674334526062\n",
            "Epoch: 40 | Loss: 0.09433844685554504 | Test Loss : 0.03513689711689949\n",
            "Epoch: 50 | Loss: 0.023886386305093765 | Test Loss : 0.04784906655550003\n",
            "Epoch: 60 | Loss: 0.0199567973613739 | Test Loss : 0.04580312222242355\n",
            "Epoch: 70 | Loss: 0.016517987474799156 | Test Loss : 0.0375305712223053\n",
            "Epoch: 80 | Loss: 0.013089170679450035 | Test Loss : 0.029944902285933495\n",
            "Epoch: 90 | Loss: 0.009653178043663502 | Test Loss : 0.02167237363755703\n",
            "Epoch: 100 | Loss: 0.006215679459273815 | Test Loss : 0.014086711220443249\n",
            "Epoch: 110 | Loss: 0.002787243574857712 | Test Loss : 0.005814164876937866\n",
            "Epoch: 120 | Loss: 0.0012645035749301314 | Test Loss : 0.013801807537674904\n",
            "Epoch: 130 | Loss: 0.0012645035749301314 | Test Loss : 0.013801807537674904\n",
            "Epoch: 140 | Loss: 0.0012645035749301314 | Test Loss : 0.013801807537674904\n",
            "Epoch: 150 | Loss: 0.0012645035749301314 | Test Loss : 0.013801807537674904\n",
            "Epoch: 160 | Loss: 0.0012645035749301314 | Test Loss : 0.013801807537674904\n",
            "Epoch: 170 | Loss: 0.0012645035749301314 | Test Loss : 0.013801807537674904\n",
            "Epoch: 180 | Loss: 0.0012645035749301314 | Test Loss : 0.013801807537674904\n",
            "Epoch: 190 | Loss: 0.0012645035749301314 | Test Loss : 0.013801807537674904\n"
          ]
        }
      ]
    },
    {
      "cell_type": "code",
      "source": [
        "model_1.state_dict()"
      ],
      "metadata": {
        "colab": {
          "base_uri": "https://localhost:8080/"
        },
        "id": "vBRe3q6K-RyK",
        "outputId": "032bc322-eb04-4ea3-a154-dc1b2c89cdc7"
      },
      "execution_count": 33,
      "outputs": [
        {
          "output_type": "execute_result",
          "data": {
            "text/plain": [
              "OrderedDict([('linear.weight', tensor([[0.6968]])),\n",
              "             ('linear.bias', tensor([0.3025]))])"
            ]
          },
          "metadata": {},
          "execution_count": 33
        }
      ]
    },
    {
      "cell_type": "markdown",
      "source": [
        "## 4. Make predictions and Visualize"
      ],
      "metadata": {
        "id": "xDufrG7O-wW9"
      }
    },
    {
      "cell_type": "code",
      "source": [
        "model_1.eval()\n",
        "with torch.inference_mode():\n",
        "    y_test_preds = model_1(X_test)\n",
        "\n",
        "plot_predictions(predictions=y_test_preds.cpu()) # move the preds to cpu"
      ],
      "metadata": {
        "colab": {
          "base_uri": "https://localhost:8080/",
          "height": 599
        },
        "id": "4yhfXYNy-gAf",
        "outputId": "6d9b1748-c54c-4318-cc68-9fc795f531d8"
      },
      "execution_count": 34,
      "outputs": [
        {
          "output_type": "display_data",
          "data": {
            "text/plain": [
              "<Figure size 900x700 with 1 Axes>"
            ],
            "image/png": "[encoded data removed]"
          },
          "metadata": {}
        }
      ]
    },
    {
      "cell_type": "markdown",
      "source": [
        "## 5. Saving and Loading model"
      ],
      "metadata": {
        "id": "qkTIg9qdBFf5"
      }
    },
    {
      "cell_type": "code",
      "source": [
        "from pathlib import Path\n",
        "\n",
        "MODEL_PATH = Path(\"models\")\n",
        "MODEL_PATH.mkdir(parents=True, exist_ok=True)\n",
        "\n",
        "MODEL_NAME = \"01_pytorch_workflow_model_1.pth\"\n",
        "MODEL_SAVE_PATH = MODEL_PATH/MODEL_NAME\n",
        "\n",
        "print(f\"Saving model to {MODEL_SAVE_PATH}\")\n",
        "torch.save(obj=model_1.state_dict(), f=MODEL_SAVE_PATH)"
      ],
      "metadata": {
        "colab": {
          "base_uri": "https://localhost:8080/"
        },
        "id": "ABxyEMFR_UzA",
        "outputId": "4e7df58f-b727-41bb-c5df-e1e3018f587c"
      },
      "execution_count": 35,
      "outputs": [
        {
          "output_type": "stream",
          "name": "stdout",
          "text": [
            "Saving model to models/01_pytorch_workflow_model_1.pth\n"
          ]
        }
      ]
    },
    {
      "cell_type": "code",
      "source": [
        "loaded_model_1 = Linear()\n",
        "\n",
        "loaded_model_1.load_state_dict(torch.load(f=MODEL_SAVE_PATH))\n",
        "\n",
        "loaded_model_1.state_dict()"
      ],
      "metadata": {
        "colab": {
          "base_uri": "https://localhost:8080/"
        },
        "id": "7apkf1sfBp45",
        "outputId": "17ed6234-c3e1-49ed-dde7-e51c5994007a"
      },
      "execution_count": 36,
      "outputs": [
        {
          "output_type": "stream",
          "name": "stderr",
          "text": [
            "<ipython-input-36-426c8724e39b>:3: FutureWarning: You are using `torch.load` with `weights_only=False` (the current default value), which uses the default pickle module implicitly. It is possible to construct malicious pickle data which will execute arbitrary code during unpickling (See https://github.com/pytorch/pytorch/blob/main/SECURITY.md#untrusted-models for more details). In a future release, the default value for `weights_only` will be flipped to `True`. This limits the functions that could be executed during unpickling. Arbitrary objects will no longer be allowed to be loaded via this mode unless they are explicitly allowlisted by the user via `torch.serialization.add_safe_globals`. We recommend you start setting `weights_only=True` for any use case where you don't have full control of the loaded file. Please open an issue on GitHub for any issues related to this experimental feature.\n",
            "  loaded_model_1.load_state_dict(torch.load(f=MODEL_SAVE_PATH))\n"
          ]
        },
        {
          "output_type": "execute_result",
          "data": {
            "text/plain": [
              "OrderedDict([('linear.weight', tensor([[0.6968]])),\n",
              "             ('linear.bias', tensor([0.3025]))])"
            ]
          },
          "metadata": {},
          "execution_count": 36
        }
      ]
    },
    {
      "cell_type": "code",
      "source": [
        "next(loaded_model_1.parameters()).device\n",
        "\n",
        "loaded_model_1.to(device)\n",
        "next(loaded_model_1.parameters()).device"
      ],
      "metadata": {
        "colab": {
          "base_uri": "https://localhost:8080/"
        },
        "id": "gKXbvrf-CPhz",
        "outputId": "cb0e5f2e-c3f5-464f-da5e-59a058179fd4"
      },
      "execution_count": 37,
      "outputs": [
        {
          "output_type": "execute_result",
          "data": {
            "text/plain": [
              "device(type='cpu')"
            ]
          },
          "metadata": {},
          "execution_count": 37
        }
      ]
    },
    {
      "cell_type": "code",
      "source": [
        "loaded_model_1.state_dict()"
      ],
      "metadata": {
        "colab": {
          "base_uri": "https://localhost:8080/"
        },
        "id": "qqFOFpB2DGga",
        "outputId": "3116612d-569e-4592-fb09-256d3cc37b82"
      },
      "execution_count": 38,
      "outputs": [
        {
          "output_type": "execute_result",
          "data": {
            "text/plain": [
              "OrderedDict([('linear.weight', tensor([[0.6968]])),\n",
              "             ('linear.bias', tensor([0.3025]))])"
            ]
          },
          "metadata": {},
          "execution_count": 38
        }
      ]
    },
    {
      "cell_type": "code",
      "source": [
        "loaded_model_1.eval()\n",
        "\n",
        "with torch.inference_mode():\n",
        "    loaded_model_1_preds = loaded_model_1(X_test)\n",
        "loaded_model_1_preds"
      ],
      "metadata": {
        "colab": {
          "base_uri": "https://localhost:8080/"
        },
        "id": "NBEl6_04DIUj",
        "outputId": "0d985d99-7605-4f21-9b43-9515a8299217"
      },
      "execution_count": 39,
      "outputs": [
        {
          "output_type": "execute_result",
          "data": {
            "text/plain": [
              "tensor([[0.8600],\n",
              "        [0.8739],\n",
              "        [0.8878],\n",
              "        [0.9018],\n",
              "        [0.9157],\n",
              "        [0.9296],\n",
              "        [0.9436],\n",
              "        [0.9575],\n",
              "        [0.9714],\n",
              "        [0.9854]])"
            ]
          },
          "metadata": {},
          "execution_count": 39
        }
      ]
    },
    {
      "cell_type": "markdown",
      "source": [
        "# Exercises:"
      ],
      "metadata": {
        "id": "bk4j4ZgqFESF"
      }
    },
    {
      "cell_type": "markdown",
      "source": [
        "## 1. Create a straight line dataset using the linear regression formula (weight * X + bias).\n",
        "- Set weight=0.3 and bias=0.9 there should be at least 100 datapoints total.\n",
        "- Split the data into 80% training, 20% testing.\n",
        "- Plot the training and testing data so it becomes visual.\n"
      ],
      "metadata": {
        "id": "WizQ6yZvDHBR"
      }
    },
    {
      "cell_type": "code",
      "source": [
        "weight=0.3\n",
        "bias = 0.9\n",
        "\n",
        "start = 0\n",
        "end =1\n",
        "step =0.01\n",
        "\n",
        "X = torch.arange(start, end, step).unsqueeze(dim=1)\n",
        "y = weight*X + bias\n",
        "\n",
        "train_split = int(0.8*len(X))\n",
        "X_train, y_train = X[:train_split], y[:train_split]\n",
        "X_test, y_test = X[train_split:], y[train_split:]\n",
        "len(X_train), len(y_train), len(X_test), len(y_test)"
      ],
      "metadata": {
        "colab": {
          "base_uri": "https://localhost:8080/"
        },
        "id": "yMsImHDnDXSq",
        "outputId": "f4481f3c-6f49-49ef-9b5e-c73a5213a3f3"
      },
      "execution_count": 57,
      "outputs": [
        {
          "output_type": "execute_result",
          "data": {
            "text/plain": [
              "(80, 80, 20, 20)"
            ]
          },
          "metadata": {},
          "execution_count": 57
        }
      ]
    },
    {
      "cell_type": "code",
      "source": [
        "plot_predictions(X_train, y_train, X_test, y_test)"
      ],
      "metadata": {
        "colab": {
          "base_uri": "https://localhost:8080/",
          "height": 599
        },
        "id": "ggEJWtzLFPWZ",
        "outputId": "72ab7775-0197-4694-af8b-62a6d64f000d"
      },
      "execution_count": 58,
      "outputs": [
        {
          "output_type": "display_data",
          "data": {
            "text/plain": [
              "<Figure size 900x700 with 1 Axes>"
            ],
            "image/png": "[encoded data removed]"
          },
          "metadata": {}
        }
      ]
    },
    {
      "cell_type": "markdown",
      "source": [
        "## 2. Build a PyTorch model by subclassing nn.Module.\n",
        "- Inside should be a randomly initialized nn.Parameter() with requires_grad=True, one for weights and one for bias.\n",
        "- Implement the forward() method to compute the linear regression function you used to create the dataset in 1.\n",
        "- Once you've constructed the model, make an instance of it and check its state_dict()."
      ],
      "metadata": {
        "id": "jjvgWTbQELqF"
      }
    },
    {
      "cell_type": "code",
      "source": [
        "class LinearModel(nn.Module):\n",
        "    def __init__(self):\n",
        "        super().__init__()\n",
        "        self.linear = nn.Linear(\n",
        "            in_features=1,\n",
        "            out_features=1,\n",
        "            bias=True\n",
        "        )\n",
        "\n",
        "    def forward(self, x: torch.Tensor)->torch.Tensor:\n",
        "        return self.linear(x)\n",
        "torch.manual_seed(42)\n",
        "lin_model = LinearModel()\n",
        "lin_model.state_dict()"
      ],
      "metadata": {
        "colab": {
          "base_uri": "https://localhost:8080/"
        },
        "id": "krMsp6hNEFWG",
        "outputId": "b9befbfd-0662-4c07-c4e0-ae25fd3acb1e"
      },
      "execution_count": 62,
      "outputs": [
        {
          "output_type": "execute_result",
          "data": {
            "text/plain": [
              "OrderedDict([('linear.weight', tensor([[0.7645]])),\n",
              "             ('linear.bias', tensor([0.8300]))])"
            ]
          },
          "metadata": {},
          "execution_count": 62
        }
      ]
    },
    {
      "cell_type": "code",
      "source": [
        "device = \"cuda\" if torch.cuda.is_available() else \"cpu\"\n",
        "lin_model.to(device)\n",
        "X_train = X_train.to(device)\n",
        "y_train = y_train.to(device)\n",
        "X_test = X_test.to(device)\n",
        "y_test = y_test.to(device)"
      ],
      "metadata": {
        "id": "WBsvyX_6E_TL"
      },
      "execution_count": 63,
      "outputs": []
    },
    {
      "cell_type": "markdown",
      "source": [
        "## 3. Create a loss function and optimizer using nn.L1Loss() and torch.optim.SGD(params, lr) respectively.\n",
        "\n",
        "- Set the learning rate of the optimizer to be 0.01 and the parameters to optimize should be the model parameters from the model you created in 2.\n",
        "- Write a training loop to perform the appropriate training steps for 300 epochs.\n",
        "- The training loop should test the model on the test dataset every 20 epochs."
      ],
      "metadata": {
        "id": "YY7WQj1wFoS2"
      }
    },
    {
      "cell_type": "code",
      "source": [
        "loss_fn = nn.L1Loss()\n",
        "optimizer = torch.optim.SGD(params=lin_model.parameters(),\n",
        "                            lr=0.01)\n",
        "\n",
        "epochs = 300\n",
        "\n",
        "for epoch in range(epochs):\n",
        "    lin_model.train()\n",
        "\n",
        "    # 1. forward pass\n",
        "    y_preds = lin_model(X_train)\n",
        "\n",
        "    # 2. compute loss\n",
        "    loss =loss_fn(y_preds, y_train)\n",
        "\n",
        "    # 3. zero the optimizer gradients\n",
        "    optimizer.zero_grad()\n",
        "\n",
        "    # 4. back propagate the loss\n",
        "    loss.backward()\n",
        "\n",
        "    # 5. step optimizer gradients\n",
        "    optimizer.step()\n",
        "\n",
        "    ## testing loop\n",
        "    if epoch%20==0:\n",
        "        lin_model.eval()\n",
        "        with torch.inference_mode():\n",
        "            test_preds = lin_model(X_test)\n",
        "            test_loss = loss_fn(test_preds, y_test)\n",
        "        print(f\"Epoch: {epoch} | Loss : {loss} | Test Loss: {test_loss}\")\n",
        "\n",
        "\n"
      ],
      "metadata": {
        "colab": {
          "base_uri": "https://localhost:8080/"
        },
        "id": "5_TmknYLFOC_",
        "outputId": "f90a4bf5-a12b-4a31-de15-7f3450be5a89"
      },
      "execution_count": 64,
      "outputs": [
        {
          "output_type": "stream",
          "name": "stdout",
          "text": [
            "Epoch: 0 | Loss : 0.12756133079528809 | Test Loss: 0.33650320768356323\n",
            "Epoch: 20 | Loss : 0.08187223970890045 | Test Loss: 0.2184026539325714\n",
            "Epoch: 40 | Loss : 0.07207288593053818 | Test Loss: 0.17458662390708923\n",
            "Epoch: 60 | Loss : 0.06507987529039383 | Test Loss: 0.15310418605804443\n",
            "Epoch: 80 | Loss : 0.05822876840829849 | Test Loss: 0.1367770880460739\n",
            "Epoch: 100 | Loss : 0.05137667804956436 | Test Loss: 0.12079393863677979\n",
            "Epoch: 120 | Loss : 0.044525571167469025 | Test Loss: 0.10446684062480927\n",
            "Epoch: 140 | Loss : 0.037674423307180405 | Test Loss: 0.08813951164484024\n",
            "Epoch: 160 | Loss : 0.03082224354147911 | Test Loss: 0.0721558928489685\n",
            "Epoch: 180 | Loss : 0.02397105097770691 | Test Loss: 0.055828340351581573\n",
            "Epoch: 200 | Loss : 0.01711984910070896 | Test Loss: 0.03950077295303345\n",
            "Epoch: 220 | Loss : 0.010267667472362518 | Test Loss: 0.02351721003651619\n",
            "Epoch: 240 | Loss : 0.0034169009886682034 | Test Loss: 0.007191836833953857\n",
            "Epoch: 260 | Loss : 0.007878491654992104 | Test Loss: 0.007064247038215399\n",
            "Epoch: 280 | Loss : 0.007878491654992104 | Test Loss: 0.007064247038215399\n"
          ]
        }
      ]
    },
    {
      "cell_type": "markdown",
      "source": [
        "## 4. Make predictions with the trained model on the test data.\n",
        "\n",
        "- Visualize these predictions against the original training and testing data (note: you may need to make sure the predictions are not on the GPU if you want to use non-CUDA-enabled libraries such as matplotlib to plot)."
      ],
      "metadata": {
        "id": "mme7xZXbJVGI"
      }
    },
    {
      "cell_type": "code",
      "source": [
        "lin_model.eval()\n",
        "with torch.inference_mode():\n",
        "    y_test_preds = lin_model(X_test)\n",
        "y_test_preds"
      ],
      "metadata": {
        "colab": {
          "base_uri": "https://localhost:8080/"
        },
        "id": "iatjI_onIe4m",
        "outputId": "b8764c85-9c74-4a7a-d99d-36d6d233dc7f"
      },
      "execution_count": 65,
      "outputs": [
        {
          "output_type": "execute_result",
          "data": {
            "text/plain": [
              "tensor([[1.1333],\n",
              "        [1.1363],\n",
              "        [1.1393],\n",
              "        [1.1423],\n",
              "        [1.1454],\n",
              "        [1.1484],\n",
              "        [1.1514],\n",
              "        [1.1545],\n",
              "        [1.1575],\n",
              "        [1.1605],\n",
              "        [1.1635],\n",
              "        [1.1666],\n",
              "        [1.1696],\n",
              "        [1.1726],\n",
              "        [1.1757],\n",
              "        [1.1787],\n",
              "        [1.1817],\n",
              "        [1.1847],\n",
              "        [1.1878],\n",
              "        [1.1908]])"
            ]
          },
          "metadata": {},
          "execution_count": 65
        }
      ]
    },
    {
      "cell_type": "code",
      "source": [
        "plot_predictions(X_train, y_train,X_test, y_test,predictions=y_test_preds.cpu())"
      ],
      "metadata": {
        "colab": {
          "base_uri": "https://localhost:8080/",
          "height": 599
        },
        "id": "0l0XfyXQJiOP",
        "outputId": "8fcbe49b-cc9c-46db-bfbf-73c00c08d48d"
      },
      "execution_count": 68,
      "outputs": [
        {
          "output_type": "display_data",
          "data": {
            "text/plain": [
              "<Figure size 900x700 with 1 Axes>"
            ],
            "image/png": "[encoded data removed]"
          },
          "metadata": {}
        }
      ]
    },
    {
      "cell_type": "markdown",
      "source": [
        "## 5. Save your trained model's state_dict() to file.\n",
        "- Create a new instance of your model class you made in 2. and load in the state_dict() you just saved to it.\n",
        "- Perform predictions on your test data with the loaded model and confirm they match the original model predictions from 4.\n"
      ],
      "metadata": {
        "id": "EU_BVLTkKF-y"
      }
    },
    {
      "cell_type": "code",
      "source": [
        "NEW_MODEL_NAME = \"01_pytorch_exercise.pth\"\n",
        "NEW_MODEL_PATH = MODEL_PATH/NEW_MODEL_NAME\n",
        "torch.save(lin_model.state_dict(),f=NEW_MODEL_PATH)"
      ],
      "metadata": {
        "id": "qua2Pk-sJnHA"
      },
      "execution_count": 69,
      "outputs": []
    },
    {
      "cell_type": "code",
      "source": [
        "load_lin_model = LinearModel()\n",
        "\n",
        "load_lin_model.load_state_dict(torch.load(f=NEW_MODEL_PATH))"
      ],
      "metadata": {
        "colab": {
          "base_uri": "https://localhost:8080/"
        },
        "id": "ziN4hTW6KhGy",
        "outputId": "d16818f1-ec80-4103-920d-6d2d723540e1"
      },
      "execution_count": 71,
      "outputs": [
        {
          "output_type": "stream",
          "name": "stderr",
          "text": [
            "<ipython-input-71-4ce9f606c4fd>:3: FutureWarning: You are using `torch.load` with `weights_only=False` (the current default value), which uses the default pickle module implicitly. It is possible to construct malicious pickle data which will execute arbitrary code during unpickling (See https://github.com/pytorch/pytorch/blob/main/SECURITY.md#untrusted-models for more details). In a future release, the default value for `weights_only` will be flipped to `True`. This limits the functions that could be executed during unpickling. Arbitrary objects will no longer be allowed to be loaded via this mode unless they are explicitly allowlisted by the user via `torch.serialization.add_safe_globals`. We recommend you start setting `weights_only=True` for any use case where you don't have full control of the loaded file. Please open an issue on GitHub for any issues related to this experimental feature.\n",
            "  load_lin_model.load_state_dict(torch.load(f=NEW_MODEL_PATH))\n"
          ]
        },
        {
          "output_type": "execute_result",
          "data": {
            "text/plain": [
              "<All keys matched successfully>"
            ]
          },
          "metadata": {},
          "execution_count": 71
        }
      ]
    },
    {
      "cell_type": "code",
      "source": [
        "load_lin_model_preds = load_lin_model(X_test)\n",
        "print(load_lin_model_preds==y_test_preds)"
      ],
      "metadata": {
        "colab": {
          "base_uri": "https://localhost:8080/"
        },
        "id": "Sgz35BnyKxm8",
        "outputId": "af77cef9-9f71-4e8d-b4e3-4235b44f5652"
      },
      "execution_count": 72,
      "outputs": [
        {
          "output_type": "stream",
          "name": "stdout",
          "text": [
            "tensor([[True],\n",
            "        [True],\n",
            "        [True],\n",
            "        [True],\n",
            "        [True],\n",
            "        [True],\n",
            "        [True],\n",
            "        [True],\n",
            "        [True],\n",
            "        [True],\n",
            "        [True],\n",
            "        [True],\n",
            "        [True],\n",
            "        [True],\n",
            "        [True],\n",
            "        [True],\n",
            "        [True],\n",
            "        [True],\n",
            "        [True],\n",
            "        [True]])\n"
          ]
        }
      ]
    },
    {
      "cell_type": "markdown",
      "source": [
        "# Workflow completed. Exercises Completed!!"
      ],
      "metadata": {
        "id": "_ujpuqWMLA2y"
      }
    }
  ]
}