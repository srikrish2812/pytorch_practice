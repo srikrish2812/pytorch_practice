{
  "nbformat": 4,
  "nbformat_minor": 0,
  "metadata": {
    "colab": {
      "provenance": [],
      "authorship_tag": "ABX9TyO3ioKYFuJOPAcokMalzFeF",
      "include_colab_link": true
    },
    "kernelspec": {
      "name": "python3",
      "display_name": "Python 3"
    },
    "language_info": {
      "name": "python"
    }
  },
  "cells": [
    {
      "cell_type": "markdown",
      "metadata": {
        "id": "view-in-github",
        "colab_type": "text"
      },
      "source": [
        "<a href=\"https://colab.research.google.com/github/srikrish2812/pytorch_practice/blob/main/torch_1_workflow.ipynb\" target=\"_parent\"><img src=\"https://colab.research.google.com/assets/colab-badge.svg\" alt=\"Open In Colab\"/></a>"
      ]
    },
    {
      "cell_type": "markdown",
      "source": [
        "## PyTorch Workflow:\n",
        "\n",
        "1. Prepare the data and load\n",
        "2. Build the model\n",
        "3. Fit/Train the model\n",
        "4. Making the predictions and evaluating the model\n",
        "5. Saving and loading the model"
      ],
      "metadata": {
        "id": "PDopJm-rAdAn"
      }
    },
    {
      "cell_type": "code",
      "execution_count": 1,
      "metadata": {
        "colab": {
          "base_uri": "https://localhost:8080/",
          "height": 35
        },
        "id": "B4dxhpU7AS_3",
        "outputId": "52401024-c2b9-4e70-94ac-68d88c6e7a3b"
      },
      "outputs": [
        {
          "output_type": "execute_result",
          "data": {
            "text/plain": [
              "'2.5.1+cu121'"
            ],
            "application/vnd.google.colaboratory.intrinsic+json": {
              "type": "string"
            }
          },
          "metadata": {},
          "execution_count": 1
        }
      ],
      "source": [
        "import torch\n",
        "from torch import nn\n",
        "import matplotlib.pyplot as plt\n",
        "\n",
        "torch.__version__"
      ]
    },
    {
      "cell_type": "markdown",
      "source": [
        "## Preparing Data and Loading\n",
        "- Excel/CSV sheets\n",
        "- Images\n",
        "- Videos\n",
        "- Audio\n",
        "- DNA\n",
        "- Text\n",
        "\n",
        "**We need to transform the data into a numerical representation**\n",
        "\n",
        "1. We will simulate the data using linear regression formula"
      ],
      "metadata": {
        "id": "TyMMjTL2Bkan"
      }
    },
    {
      "cell_type": "code",
      "source": [
        "weight = 0.7\n",
        "bias = 0.3\n",
        "\n",
        "start = 0\n",
        "end = 1\n",
        "step = 0.02\n",
        "X  = torch.arange(start,end,step).unsqueeze(dim=1)\n",
        "y = weight*X + bias\n",
        "X[:10], y[:10]"
      ],
      "metadata": {
        "colab": {
          "base_uri": "https://localhost:8080/"
        },
        "id": "SdphPMIJBe1D",
        "outputId": "de930359-7151-4c9f-eb9b-4c7a8f494efc"
      },
      "execution_count": 2,
      "outputs": [
        {
          "output_type": "execute_result",
          "data": {
            "text/plain": [
              "(tensor([[0.0000],\n",
              "         [0.0200],\n",
              "         [0.0400],\n",
              "         [0.0600],\n",
              "         [0.0800],\n",
              "         [0.1000],\n",
              "         [0.1200],\n",
              "         [0.1400],\n",
              "         [0.1600],\n",
              "         [0.1800]]),\n",
              " tensor([[0.3000],\n",
              "         [0.3140],\n",
              "         [0.3280],\n",
              "         [0.3420],\n",
              "         [0.3560],\n",
              "         [0.3700],\n",
              "         [0.3840],\n",
              "         [0.3980],\n",
              "         [0.4120],\n",
              "         [0.4260]]))"
            ]
          },
          "metadata": {},
          "execution_count": 2
        }
      ]
    },
    {
      "cell_type": "markdown",
      "source": [
        "## Splitting data into train and test sets"
      ],
      "metadata": {
        "id": "p9jwgOzOGK57"
      }
    },
    {
      "cell_type": "code",
      "source": [
        "train_split = int(0.8*len(X))\n",
        "X_train, y_train = X[:train_split], y[:train_split]\n",
        "X_test, y_test = X[train_split:], y[train_split:]\n",
        "\n",
        "len(X_train), len(X_test)"
      ],
      "metadata": {
        "colab": {
          "base_uri": "https://localhost:8080/"
        },
        "id": "gQCK5zd9FnW8",
        "outputId": "d28e9401-b387-455e-a5fe-ab61497b6623"
      },
      "execution_count": 3,
      "outputs": [
        {
          "output_type": "execute_result",
          "data": {
            "text/plain": [
              "(40, 10)"
            ]
          },
          "metadata": {},
          "execution_count": 3
        }
      ]
    },
    {
      "cell_type": "markdown",
      "source": [
        "## Visualize the Data\n"
      ],
      "metadata": {
        "id": "9qK7bExAHZCm"
      }
    },
    {
      "cell_type": "code",
      "source": [
        "def plot_predictions(train_data=X_train,\n",
        "                     train_labels = y_train,\n",
        "                     test_data = X_test,\n",
        "                     test_labels = y_test,\n",
        "                     predictions=None):\n",
        "    plt.figure(figsize=(9,7))\n",
        "    # plot the training data\n",
        "    plt.scatter(train_data, train_labels, c=\"b\",s=4, label=\"Training data\")\n",
        "\n",
        "    # plot the testing data\n",
        "    plt.scatter(test_data, test_labels, c=\"g\",s=4, label=\"Testing data\")\n",
        "\n",
        "    if predictions is not None:\n",
        "        plt.scatter(test_data, predictions,c=\"r\", s=4, label=\"Predictions\")\n",
        "    plt.legend(prop={\"size\":14})"
      ],
      "metadata": {
        "id": "Z7goIyGxGn6V"
      },
      "execution_count": 4,
      "outputs": []
    },
    {
      "cell_type": "code",
      "source": [
        "plot_predictions()"
      ],
      "metadata": {
        "colab": {
          "base_uri": "https://localhost:8080/",
          "height": 599
        },
        "id": "JRclYG2XIk5d",
        "outputId": "22503e7a-a36a-465b-a7bc-5cbbc4dd2772"
      },
      "execution_count": 5,
      "outputs": [
        {
          "output_type": "display_data",
          "data": {
            "text/plain": [
              "<Figure size 900x700 with 1 Axes>"
            ],
            "image/png": "[encoded data removed]"
          },
          "metadata": {}
        }
      ]
    },
    {
      "cell_type": "markdown",
      "source": [
        "## Build the model"
      ],
      "metadata": {
        "id": "egoAFAmIJCiJ"
      }
    },
    {
      "cell_type": "code",
      "source": [
        "class LinearRegressionModel(nn.Module):\n",
        "    \"\"\"\n",
        "    Almost every pytorch model subclasses nn.Module\n",
        "    \"\"\"\n",
        "    def __init__(self):\n",
        "        super().__init__() # inherits attributes and methods from nn.Module\n",
        "        self.weights = nn.Parameter(torch.randn(1,requires_grad=True, dtype=torch.float32))\n",
        "        self.bias = nn.Parameter(torch.randn(1,requires_grad=True, dtype=torch.float32))\n",
        "\n",
        "    def forward(self, x:torch.Tensor) -> torch.Tensor:\n",
        "        return self.weights*x + self.bias\n"
      ],
      "metadata": {
        "id": "YgHzvAvrImes"
      },
      "execution_count": 6,
      "outputs": []
    },
    {
      "cell_type": "markdown",
      "source": [
        "### Pytorch model building essentials\n",
        "\n",
        "- torch.nn: contains the components to build computational graphs. A neural network is a directed acyclic graph\n",
        "- torch.nn.Parameter - what parameters should our model try and learn, often a PyTorch layer from torch.nn will set these for us\n",
        "- torch.nn.Module: The base class for all neural network modules, if you subclass it you should overwrite forward()\n",
        "- torch.optim: diffrent types of optimization algorithms for gradient descent"
      ],
      "metadata": {
        "id": "CJYhwD8kNTmL"
      }
    },
    {
      "cell_type": "markdown",
      "source": [
        "## Check the model contents"
      ],
      "metadata": {
        "id": "gE4tYFXZPjrA"
      }
    },
    {
      "cell_type": "code",
      "source": [
        "torch.manual_seed(42)\n",
        "\n",
        "model_0 = LinearRegressionModel()\n",
        "print(list(model_0.parameters()))\n",
        "model_0.state_dict()"
      ],
      "metadata": {
        "colab": {
          "base_uri": "https://localhost:8080/"
        },
        "id": "sskak7uiLSvq",
        "outputId": "0f92d69a-64e1-47ff-ee31-dde24bceb67c"
      },
      "execution_count": 7,
      "outputs": [
        {
          "output_type": "stream",
          "name": "stdout",
          "text": [
            "[Parameter containing:\n",
            "tensor([0.3367], requires_grad=True), Parameter containing:\n",
            "tensor([0.1288], requires_grad=True)]\n"
          ]
        },
        {
          "output_type": "execute_result",
          "data": {
            "text/plain": [
              "OrderedDict([('weights', tensor([0.3367])), ('bias', tensor([0.1288]))])"
            ]
          },
          "metadata": {},
          "execution_count": 7
        }
      ]
    },
    {
      "cell_type": "markdown",
      "source": [
        "### Making the prediction using `torch.inference_mode()`\n",
        "\n",
        "- When we pass data thorugh our model it's going to run it trhough the `forward()` method\n",
        "https://pytorch.org/docs/stable/generated/torch.autograd.grad_mode.inference_mode.html"
      ],
      "metadata": {
        "id": "nlK0adf8SSrh"
      }
    },
    {
      "cell_type": "code",
      "source": [
        "model_0(X_test)"
      ],
      "metadata": {
        "colab": {
          "base_uri": "https://localhost:8080/"
        },
        "id": "0mBJtOYHTy8W",
        "outputId": "b13b256a-8081-46cb-b24c-44b4d7cc2b65"
      },
      "execution_count": 8,
      "outputs": [
        {
          "output_type": "execute_result",
          "data": {
            "text/plain": [
              "tensor([[0.3982],\n",
              "        [0.4049],\n",
              "        [0.4116],\n",
              "        [0.4184],\n",
              "        [0.4251],\n",
              "        [0.4318],\n",
              "        [0.4386],\n",
              "        [0.4453],\n",
              "        [0.4520],\n",
              "        [0.4588]], grad_fn=<AddBackward0>)"
            ]
          },
          "metadata": {},
          "execution_count": 8
        }
      ]
    },
    {
      "cell_type": "code",
      "source": [
        "# make predictions with model\n",
        "# with torch.inference removes the gradient tracking as\n",
        "# it is not required while getting the predictions on the test set since we are not training. There is no need to track gradients\n",
        "with torch.inference_mode():\n",
        "    y_preds = model_0(X_test)\n",
        "y_preds"
      ],
      "metadata": {
        "colab": {
          "base_uri": "https://localhost:8080/"
        },
        "id": "cUgQ9ueRSEiF",
        "outputId": "22368e49-f7ec-4931-e97d-68c9f325e71e"
      },
      "execution_count": 9,
      "outputs": [
        {
          "output_type": "execute_result",
          "data": {
            "text/plain": [
              "tensor([[0.3982],\n",
              "        [0.4049],\n",
              "        [0.4116],\n",
              "        [0.4184],\n",
              "        [0.4251],\n",
              "        [0.4318],\n",
              "        [0.4386],\n",
              "        [0.4453],\n",
              "        [0.4520],\n",
              "        [0.4588]])"
            ]
          },
          "metadata": {},
          "execution_count": 9
        }
      ]
    },
    {
      "cell_type": "code",
      "source": [
        "plot_predictions(predictions=y_preds)"
      ],
      "metadata": {
        "colab": {
          "base_uri": "https://localhost:8080/",
          "height": 599
        },
        "id": "-sqaLjN7TE9a",
        "outputId": "4e860d11-907f-4d1d-8e22-2f6645100a41"
      },
      "execution_count": 10,
      "outputs": [
        {
          "output_type": "display_data",
          "data": {
            "text/plain": [
              "<Figure size 900x700 with 1 Axes>"
            ],
            "image/png": "[encoded data removed]"
          },
          "metadata": {}
        }
      ]
    },
    {
      "cell_type": "markdown",
      "source": [
        "## Training Intuition\n",
        "\n",
        "1. The whole idea of training is for a model to move from some unknown parameters to some known parameters.\n",
        "2. Or in other words from a poor representation of data to a better represenation\n",
        "3. A loss function can be used to quantify how wrong a model's predictions are wrt the ground truth values\n",
        "4. Optimizers take into account the loss of a model and adjusts the model's parameters in the direction of decreasing loss"
      ],
      "metadata": {
        "id": "IN0qahbRRYJB"
      }
    },
    {
      "cell_type": "code",
      "source": [
        "list(model_0.parameters())"
      ],
      "metadata": {
        "id": "XaA3_DUaTdTu",
        "colab": {
          "base_uri": "https://localhost:8080/"
        },
        "outputId": "36df4c83-c37c-4c24-9366-87d96ad9e0be"
      },
      "execution_count": 11,
      "outputs": [
        {
          "output_type": "execute_result",
          "data": {
            "text/plain": [
              "[Parameter containing:\n",
              " tensor([0.3367], requires_grad=True),\n",
              " Parameter containing:\n",
              " tensor([0.1288], requires_grad=True)]"
            ]
          },
          "metadata": {},
          "execution_count": 11
        }
      ]
    },
    {
      "cell_type": "code",
      "source": [
        "# Setup a loss function\n",
        "loss_fn = nn.L1Loss()\n",
        "\n",
        "# setup the optimizer\n",
        "optimizer = torch.optim.SGD(params=model_0.parameters(),\n",
        "                            lr = 0.01)"
      ],
      "metadata": {
        "id": "UBC0mwAmd0bD"
      },
      "execution_count": 12,
      "outputs": []
    },
    {
      "cell_type": "markdown",
      "source": [
        "## Building a training loop and testing loop in PyTorch\n",
        "\n",
        "0. Loop through the data\n",
        "1. Forward pass: moving through the model's `forward()` to get the predictions on data\n",
        "2. Calculate the loss(compare forward pass to ground truth labels)\n",
        "3. Optimizer zero grad\n",
        "4. Back Propagation - move backwards through the network to calculate the gradients of loss wrt each parameter\n",
        "5. Adjust the parameter to reduce the loss iteratively. Use optimizer step"
      ],
      "metadata": {
        "id": "zmYqLSxphU63"
      }
    },
    {
      "cell_type": "code",
      "source": [
        "epochs = 100\n",
        "torch.manual_seed(42)\n",
        "# 0. looping data\n",
        "for epoch in range(epochs):\n",
        "    # set the model to traiing mode\n",
        "    model_0.train() # train() mode sets all params that requires gradients to require_gradients=True\n",
        "\n",
        "    # 1. Forward Pass\n",
        "    y_pred = model_0(X_train)\n",
        "\n",
        "    # 2. Calculate loss\n",
        "    loss = loss_fn(y_pred, y_train)\n",
        "    print(\"Loss:\",loss)\n",
        "\n",
        "    # 3. Zero the optimizer gradients\n",
        "    optimizer.zero_grad()\n",
        "\n",
        "    # 4. Perform back propagation\n",
        "    loss.backward()\n",
        "\n",
        "    # 5. Step the optimizer\n",
        "    optimizer.step() # how the optimizer changes will accumulate through the loop so we have to zero them in step 3\n",
        "\n",
        "    #Testing\n",
        "    model_0.eval() # turns off gradient tracking\n",
        "\n",
        "    print(model_0.state_dict())\n"
      ],
      "metadata": {
        "colab": {
          "base_uri": "https://localhost:8080/"
        },
        "id": "TwureHFLe7yB",
        "outputId": "e920cc0b-78f5-4678-f789-400993d69058"
      },
      "execution_count": 99,
      "outputs": [
        {
          "output_type": "stream",
          "name": "stdout",
          "text": [
            "Loss: tensor(0.0324, grad_fn=<MeanBackward0>)\n",
            "OrderedDict([('weights', tensor([0.5407])), ('bias', tensor([0.3668]))])\n",
            "Loss: tensor(0.0320, grad_fn=<MeanBackward0>)\n",
            "OrderedDict([('weights', tensor([0.5425])), ('bias', tensor([0.3663]))])\n",
            "Loss: tensor(0.0317, grad_fn=<MeanBackward0>)\n",
            "OrderedDict([('weights', tensor([0.5441])), ('bias', tensor([0.3653]))])\n",
            "Loss: tensor(0.0313, grad_fn=<MeanBackward0>)\n",
            "OrderedDict([('weights', tensor([0.5459])), ('bias', tensor([0.3648]))])\n",
            "Loss: tensor(0.0310, grad_fn=<MeanBackward0>)\n",
            "OrderedDict([('weights', tensor([0.5475])), ('bias', tensor([0.3638]))])\n",
            "Loss: tensor(0.0306, grad_fn=<MeanBackward0>)\n",
            "OrderedDict([('weights', tensor([0.5493])), ('bias', tensor([0.3633]))])\n",
            "Loss: tensor(0.0303, grad_fn=<MeanBackward0>)\n",
            "OrderedDict([('weights', tensor([0.5509])), ('bias', tensor([0.3623]))])\n",
            "Loss: tensor(0.0300, grad_fn=<MeanBackward0>)\n",
            "OrderedDict([('weights', tensor([0.5527])), ('bias', tensor([0.3618]))])\n",
            "Loss: tensor(0.0296, grad_fn=<MeanBackward0>)\n",
            "OrderedDict([('weights', tensor([0.5545])), ('bias', tensor([0.3613]))])\n",
            "Loss: tensor(0.0293, grad_fn=<MeanBackward0>)\n",
            "OrderedDict([('weights', tensor([0.5561])), ('bias', tensor([0.3603]))])\n",
            "Loss: tensor(0.0289, grad_fn=<MeanBackward0>)\n",
            "OrderedDict([('weights', tensor([0.5579])), ('bias', tensor([0.3598]))])\n",
            "Loss: tensor(0.0286, grad_fn=<MeanBackward0>)\n",
            "OrderedDict([('weights', tensor([0.5595])), ('bias', tensor([0.3588]))])\n",
            "Loss: tensor(0.0282, grad_fn=<MeanBackward0>)\n",
            "OrderedDict([('weights', tensor([0.5613])), ('bias', tensor([0.3583]))])\n",
            "Loss: tensor(0.0279, grad_fn=<MeanBackward0>)\n",
            "OrderedDict([('weights', tensor([0.5629])), ('bias', tensor([0.3573]))])\n",
            "Loss: tensor(0.0275, grad_fn=<MeanBackward0>)\n",
            "OrderedDict([('weights', tensor([0.5647])), ('bias', tensor([0.3568]))])\n",
            "Loss: tensor(0.0272, grad_fn=<MeanBackward0>)\n",
            "OrderedDict([('weights', tensor([0.5665])), ('bias', tensor([0.3563]))])\n",
            "Loss: tensor(0.0269, grad_fn=<MeanBackward0>)\n",
            "OrderedDict([('weights', tensor([0.5681])), ('bias', tensor([0.3553]))])\n",
            "Loss: tensor(0.0265, grad_fn=<MeanBackward0>)\n",
            "OrderedDict([('weights', tensor([0.5699])), ('bias', tensor([0.3548]))])\n",
            "Loss: tensor(0.0262, grad_fn=<MeanBackward0>)\n",
            "OrderedDict([('weights', tensor([0.5715])), ('bias', tensor([0.3538]))])\n",
            "Loss: tensor(0.0258, grad_fn=<MeanBackward0>)\n",
            "OrderedDict([('weights', tensor([0.5733])), ('bias', tensor([0.3533]))])\n",
            "Loss: tensor(0.0255, grad_fn=<MeanBackward0>)\n",
            "OrderedDict([('weights', tensor([0.5748])), ('bias', tensor([0.3523]))])\n",
            "Loss: tensor(0.0251, grad_fn=<MeanBackward0>)\n",
            "OrderedDict([('weights', tensor([0.5766])), ('bias', tensor([0.3518]))])\n",
            "Loss: tensor(0.0248, grad_fn=<MeanBackward0>)\n",
            "OrderedDict([('weights', tensor([0.5784])), ('bias', tensor([0.3513]))])\n",
            "Loss: tensor(0.0245, grad_fn=<MeanBackward0>)\n",
            "OrderedDict([('weights', tensor([0.5800])), ('bias', tensor([0.3503]))])\n",
            "Loss: tensor(0.0241, grad_fn=<MeanBackward0>)\n",
            "OrderedDict([('weights', tensor([0.5818])), ('bias', tensor([0.3498]))])\n",
            "Loss: tensor(0.0238, grad_fn=<MeanBackward0>)\n",
            "OrderedDict([('weights', tensor([0.5834])), ('bias', tensor([0.3488]))])\n",
            "Loss: tensor(0.0234, grad_fn=<MeanBackward0>)\n",
            "OrderedDict([('weights', tensor([0.5852])), ('bias', tensor([0.3483]))])\n",
            "Loss: tensor(0.0231, grad_fn=<MeanBackward0>)\n",
            "OrderedDict([('weights', tensor([0.5868])), ('bias', tensor([0.3473]))])\n",
            "Loss: tensor(0.0227, grad_fn=<MeanBackward0>)\n",
            "OrderedDict([('weights', tensor([0.5886])), ('bias', tensor([0.3468]))])\n",
            "Loss: tensor(0.0224, grad_fn=<MeanBackward0>)\n",
            "OrderedDict([('weights', tensor([0.5902])), ('bias', tensor([0.3458]))])\n",
            "Loss: tensor(0.0221, grad_fn=<MeanBackward0>)\n",
            "OrderedDict([('weights', tensor([0.5920])), ('bias', tensor([0.3453]))])\n",
            "Loss: tensor(0.0217, grad_fn=<MeanBackward0>)\n",
            "OrderedDict([('weights', tensor([0.5938])), ('bias', tensor([0.3448]))])\n",
            "Loss: tensor(0.0214, grad_fn=<MeanBackward0>)\n",
            "OrderedDict([('weights', tensor([0.5954])), ('bias', tensor([0.3438]))])\n",
            "Loss: tensor(0.0210, grad_fn=<MeanBackward0>)\n",
            "OrderedDict([('weights', tensor([0.5972])), ('bias', tensor([0.3433]))])\n",
            "Loss: tensor(0.0207, grad_fn=<MeanBackward0>)\n",
            "OrderedDict([('weights', tensor([0.5988])), ('bias', tensor([0.3423]))])\n",
            "Loss: tensor(0.0203, grad_fn=<MeanBackward0>)\n",
            "OrderedDict([('weights', tensor([0.6006])), ('bias', tensor([0.3418]))])\n",
            "Loss: tensor(0.0200, grad_fn=<MeanBackward0>)\n",
            "OrderedDict([('weights', tensor([0.6022])), ('bias', tensor([0.3408]))])\n",
            "Loss: tensor(0.0196, grad_fn=<MeanBackward0>)\n",
            "OrderedDict([('weights', tensor([0.6040])), ('bias', tensor([0.3403]))])\n",
            "Loss: tensor(0.0193, grad_fn=<MeanBackward0>)\n",
            "OrderedDict([('weights', tensor([0.6058])), ('bias', tensor([0.3398]))])\n",
            "Loss: tensor(0.0190, grad_fn=<MeanBackward0>)\n",
            "OrderedDict([('weights', tensor([0.6074])), ('bias', tensor([0.3388]))])\n",
            "Loss: tensor(0.0186, grad_fn=<MeanBackward0>)\n",
            "OrderedDict([('weights', tensor([0.6092])), ('bias', tensor([0.3383]))])\n",
            "Loss: tensor(0.0183, grad_fn=<MeanBackward0>)\n",
            "OrderedDict([('weights', tensor([0.6108])), ('bias', tensor([0.3373]))])\n",
            "Loss: tensor(0.0179, grad_fn=<MeanBackward0>)\n",
            "OrderedDict([('weights', tensor([0.6126])), ('bias', tensor([0.3368]))])\n",
            "Loss: tensor(0.0176, grad_fn=<MeanBackward0>)\n",
            "OrderedDict([('weights', tensor([0.6141])), ('bias', tensor([0.3358]))])\n",
            "Loss: tensor(0.0172, grad_fn=<MeanBackward0>)\n",
            "OrderedDict([('weights', tensor([0.6159])), ('bias', tensor([0.3353]))])\n",
            "Loss: tensor(0.0169, grad_fn=<MeanBackward0>)\n",
            "OrderedDict([('weights', tensor([0.6175])), ('bias', tensor([0.3343]))])\n",
            "Loss: tensor(0.0166, grad_fn=<MeanBackward0>)\n",
            "OrderedDict([('weights', tensor([0.6193])), ('bias', tensor([0.3338]))])\n",
            "Loss: tensor(0.0162, grad_fn=<MeanBackward0>)\n",
            "OrderedDict([('weights', tensor([0.6211])), ('bias', tensor([0.3333]))])\n",
            "Loss: tensor(0.0159, grad_fn=<MeanBackward0>)\n",
            "OrderedDict([('weights', tensor([0.6227])), ('bias', tensor([0.3323]))])\n",
            "Loss: tensor(0.0155, grad_fn=<MeanBackward0>)\n",
            "OrderedDict([('weights', tensor([0.6245])), ('bias', tensor([0.3318]))])\n",
            "Loss: tensor(0.0152, grad_fn=<MeanBackward0>)\n",
            "OrderedDict([('weights', tensor([0.6261])), ('bias', tensor([0.3308]))])\n",
            "Loss: tensor(0.0148, grad_fn=<MeanBackward0>)\n",
            "OrderedDict([('weights', tensor([0.6279])), ('bias', tensor([0.3303]))])\n",
            "Loss: tensor(0.0145, grad_fn=<MeanBackward0>)\n",
            "OrderedDict([('weights', tensor([0.6295])), ('bias', tensor([0.3293]))])\n",
            "Loss: tensor(0.0142, grad_fn=<MeanBackward0>)\n",
            "OrderedDict([('weights', tensor([0.6313])), ('bias', tensor([0.3288]))])\n",
            "Loss: tensor(0.0138, grad_fn=<MeanBackward0>)\n",
            "OrderedDict([('weights', tensor([0.6331])), ('bias', tensor([0.3283]))])\n",
            "Loss: tensor(0.0135, grad_fn=<MeanBackward0>)\n",
            "OrderedDict([('weights', tensor([0.6347])), ('bias', tensor([0.3273]))])\n",
            "Loss: tensor(0.0131, grad_fn=<MeanBackward0>)\n",
            "OrderedDict([('weights', tensor([0.6365])), ('bias', tensor([0.3268]))])\n",
            "Loss: tensor(0.0128, grad_fn=<MeanBackward0>)\n",
            "OrderedDict([('weights', tensor([0.6381])), ('bias', tensor([0.3258]))])\n",
            "Loss: tensor(0.0124, grad_fn=<MeanBackward0>)\n",
            "OrderedDict([('weights', tensor([0.6399])), ('bias', tensor([0.3253]))])\n",
            "Loss: tensor(0.0121, grad_fn=<MeanBackward0>)\n",
            "OrderedDict([('weights', tensor([0.6415])), ('bias', tensor([0.3243]))])\n",
            "Loss: tensor(0.0118, grad_fn=<MeanBackward0>)\n",
            "OrderedDict([('weights', tensor([0.6433])), ('bias', tensor([0.3238]))])\n",
            "Loss: tensor(0.0114, grad_fn=<MeanBackward0>)\n",
            "OrderedDict([('weights', tensor([0.6451])), ('bias', tensor([0.3233]))])\n",
            "Loss: tensor(0.0111, grad_fn=<MeanBackward0>)\n",
            "OrderedDict([('weights', tensor([0.6467])), ('bias', tensor([0.3223]))])\n",
            "Loss: tensor(0.0107, grad_fn=<MeanBackward0>)\n",
            "OrderedDict([('weights', tensor([0.6485])), ('bias', tensor([0.3218]))])\n",
            "Loss: tensor(0.0104, grad_fn=<MeanBackward0>)\n",
            "OrderedDict([('weights', tensor([0.6501])), ('bias', tensor([0.3208]))])\n",
            "Loss: tensor(0.0100, grad_fn=<MeanBackward0>)\n",
            "OrderedDict([('weights', tensor([0.6519])), ('bias', tensor([0.3203]))])\n",
            "Loss: tensor(0.0097, grad_fn=<MeanBackward0>)\n",
            "OrderedDict([('weights', tensor([0.6534])), ('bias', tensor([0.3193]))])\n",
            "Loss: tensor(0.0093, grad_fn=<MeanBackward0>)\n",
            "OrderedDict([('weights', tensor([0.6552])), ('bias', tensor([0.3188]))])\n",
            "Loss: tensor(0.0090, grad_fn=<MeanBackward0>)\n",
            "OrderedDict([('weights', tensor([0.6568])), ('bias', tensor([0.3178]))])\n",
            "Loss: tensor(0.0087, grad_fn=<MeanBackward0>)\n",
            "OrderedDict([('weights', tensor([0.6586])), ('bias', tensor([0.3173]))])\n",
            "Loss: tensor(0.0083, grad_fn=<MeanBackward0>)\n",
            "OrderedDict([('weights', tensor([0.6604])), ('bias', tensor([0.3168]))])\n",
            "Loss: tensor(0.0080, grad_fn=<MeanBackward0>)\n",
            "OrderedDict([('weights', tensor([0.6620])), ('bias', tensor([0.3158]))])\n",
            "Loss: tensor(0.0076, grad_fn=<MeanBackward0>)\n",
            "OrderedDict([('weights', tensor([0.6638])), ('bias', tensor([0.3153]))])\n",
            "Loss: tensor(0.0073, grad_fn=<MeanBackward0>)\n",
            "OrderedDict([('weights', tensor([0.6654])), ('bias', tensor([0.3143]))])\n",
            "Loss: tensor(0.0069, grad_fn=<MeanBackward0>)\n",
            "OrderedDict([('weights', tensor([0.6672])), ('bias', tensor([0.3138]))])\n",
            "Loss: tensor(0.0066, grad_fn=<MeanBackward0>)\n",
            "OrderedDict([('weights', tensor([0.6688])), ('bias', tensor([0.3128]))])\n",
            "Loss: tensor(0.0063, grad_fn=<MeanBackward0>)\n",
            "OrderedDict([('weights', tensor([0.6706])), ('bias', tensor([0.3123]))])\n",
            "Loss: tensor(0.0059, grad_fn=<MeanBackward0>)\n",
            "OrderedDict([('weights', tensor([0.6724])), ('bias', tensor([0.3118]))])\n",
            "Loss: tensor(0.0056, grad_fn=<MeanBackward0>)\n",
            "OrderedDict([('weights', tensor([0.6740])), ('bias', tensor([0.3108]))])\n",
            "Loss: tensor(0.0052, grad_fn=<MeanBackward0>)\n",
            "OrderedDict([('weights', tensor([0.6758])), ('bias', tensor([0.3103]))])\n",
            "Loss: tensor(0.0049, grad_fn=<MeanBackward0>)\n",
            "OrderedDict([('weights', tensor([0.6774])), ('bias', tensor([0.3093]))])\n",
            "Loss: tensor(0.0045, grad_fn=<MeanBackward0>)\n",
            "OrderedDict([('weights', tensor([0.6792])), ('bias', tensor([0.3088]))])\n",
            "Loss: tensor(0.0042, grad_fn=<MeanBackward0>)\n",
            "OrderedDict([('weights', tensor([0.6808])), ('bias', tensor([0.3078]))])\n",
            "Loss: tensor(0.0039, grad_fn=<MeanBackward0>)\n",
            "OrderedDict([('weights', tensor([0.6826])), ('bias', tensor([0.3073]))])\n",
            "Loss: tensor(0.0035, grad_fn=<MeanBackward0>)\n",
            "OrderedDict([('weights', tensor([0.6844])), ('bias', tensor([0.3068]))])\n",
            "Loss: tensor(0.0032, grad_fn=<MeanBackward0>)\n",
            "OrderedDict([('weights', tensor([0.6860])), ('bias', tensor([0.3058]))])\n",
            "Loss: tensor(0.0028, grad_fn=<MeanBackward0>)\n",
            "OrderedDict([('weights', tensor([0.6878])), ('bias', tensor([0.3053]))])\n",
            "Loss: tensor(0.0025, grad_fn=<MeanBackward0>)\n",
            "OrderedDict([('weights', tensor([0.6894])), ('bias', tensor([0.3043]))])\n",
            "Loss: tensor(0.0021, grad_fn=<MeanBackward0>)\n",
            "OrderedDict([('weights', tensor([0.6912])), ('bias', tensor([0.3038]))])\n",
            "Loss: tensor(0.0018, grad_fn=<MeanBackward0>)\n",
            "OrderedDict([('weights', tensor([0.6927])), ('bias', tensor([0.3028]))])\n",
            "Loss: tensor(0.0015, grad_fn=<MeanBackward0>)\n",
            "OrderedDict([('weights', tensor([0.6947])), ('bias', tensor([0.3028]))])\n",
            "Loss: tensor(0.0012, grad_fn=<MeanBackward0>)\n",
            "OrderedDict([('weights', tensor([0.6951])), ('bias', tensor([0.2993]))])\n",
            "Loss: tensor(0.0026, grad_fn=<MeanBackward0>)\n",
            "OrderedDict([('weights', tensor([0.6990])), ('bias', tensor([0.3093]))])\n",
            "Loss: tensor(0.0089, grad_fn=<MeanBackward0>)\n",
            "OrderedDict([('weights', tensor([0.6951])), ('bias', tensor([0.2993]))])\n",
            "Loss: tensor(0.0026, grad_fn=<MeanBackward0>)\n",
            "OrderedDict([('weights', tensor([0.6990])), ('bias', tensor([0.3093]))])\n",
            "Loss: tensor(0.0089, grad_fn=<MeanBackward0>)\n",
            "OrderedDict([('weights', tensor([0.6951])), ('bias', tensor([0.2993]))])\n",
            "Loss: tensor(0.0026, grad_fn=<MeanBackward0>)\n",
            "OrderedDict([('weights', tensor([0.6990])), ('bias', tensor([0.3093]))])\n",
            "Loss: tensor(0.0089, grad_fn=<MeanBackward0>)\n",
            "OrderedDict([('weights', tensor([0.6951])), ('bias', tensor([0.2993]))])\n",
            "Loss: tensor(0.0026, grad_fn=<MeanBackward0>)\n",
            "OrderedDict([('weights', tensor([0.6990])), ('bias', tensor([0.3093]))])\n",
            "Loss: tensor(0.0089, grad_fn=<MeanBackward0>)\n",
            "OrderedDict([('weights', tensor([0.6951])), ('bias', tensor([0.2993]))])\n"
          ]
        }
      ]
    },
    {
      "cell_type": "code",
      "source": [
        "with torch.inference_mode():\n",
        "    y_preds_new = model_0(X_test)"
      ],
      "metadata": {
        "id": "lwDOIzwWpEQz"
      },
      "execution_count": 100,
      "outputs": []
    },
    {
      "cell_type": "code",
      "source": [
        "plot_predictions(predictions=y_preds_new)"
      ],
      "metadata": {
        "colab": {
          "base_uri": "https://localhost:8080/",
          "height": 599
        },
        "id": "FSIubVPlpAKg",
        "outputId": "a2df66b8-d50f-4f60-f71d-682fb1277578"
      },
      "execution_count": 101,
      "outputs": [
        {
          "output_type": "display_data",
          "data": {
            "text/plain": [
              "<Figure size 900x700 with 1 Axes>"
            ],
            "image/png": "[encoded data removed]"
          },
          "metadata": {}
        }
      ]
    },
    {
      "cell_type": "markdown",
      "source": [
        "## Testing Loop\n",
        "\n"
      ],
      "metadata": {
        "id": "JJ0olJNHqsZz"
      }
    },
    {
      "cell_type": "code",
      "source": [],
      "metadata": {
        "id": "aw-xqijgqLDG"
      },
      "execution_count": null,
      "outputs": []
    }
  ]
}